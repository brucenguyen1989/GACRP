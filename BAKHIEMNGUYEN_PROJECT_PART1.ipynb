{
 "cells": [
  {
   "cell_type": "markdown",
   "metadata": {},
   "source": [
    "### Dataset Description\n",
    "This is an online Merchandise Store customer dataset. Goal is to predict the total transaction revenue. \n",
    "Each row in the dataset is one visit to the store. \n",
    "\n",
    "Data Fields\n",
    "- fullVisitorId- A unique identifier for each user of the Google Merchandise Store.\n",
    "- channelGrouping - The channel via which the user came to the Store.\n",
    "- date - The date on which the user visited the Store.\n",
    "- device - The specifications for the device used to access the Store.\n",
    "- geoNetwork - This section contains information about the geography of the user.\n",
    "- sessionId - A unique identifier for this visit to the store.\n",
    "- socialEngagementType - Engagement type, either \"Socially Engaged\" or \"Not Socially Engaged\".\n",
    "- totals - This section contains aggregate values across the session.\n",
    "- trafficSource - This section contains information about the Traffic Source from which the session originated.\n",
    "- visitId - An identifier for this session. This is part of the value usually stored as the _utmb cookie. This is only unique to the user. For a completely unique ID, you should use a combination of fullVisitorId and visitId.\n",
    "- visitNumber - The session number for this user. If this is the first session, then this is set to 1.\n",
    "- visitStartTime - The timestamp (expressed as POSIX time).\n",
    "- hits - This row and nested fields are populated for any and all types of hits. Provides a record of all page visits.\n",
    "- customDimensions - This section contains any user-level or session-level custom dimensions that are set for a session. This is a repeated field and has an entry for each dimension that is set."
   ]
  },
  {
   "cell_type": "markdown",
   "metadata": {},
   "source": [
    "# IMPORT PACKAGES AND DATA"
   ]
  },
  {
   "cell_type": "code",
   "execution_count": 1,
   "metadata": {},
   "outputs": [],
   "source": [
    "import pandas as pd\n",
    "import numpy as np\n",
    "import matplotlib.pyplot as plt"
   ]
  },
  {
   "cell_type": "code",
   "execution_count": 2,
   "metadata": {},
   "outputs": [],
   "source": [
    "df = pd.read_csv('data.csv')"
   ]
  },
  {
   "cell_type": "markdown",
   "metadata": {},
   "source": [
    "# 1.Prepare The Dataset"
   ]
  },
  {
   "cell_type": "markdown",
   "metadata": {},
   "source": [
    "### Data summary"
   ]
  },
  {
   "cell_type": "code",
   "execution_count": 3,
   "metadata": {},
   "outputs": [
    {
     "name": "stdout",
     "output_type": "stream",
     "text": [
      "<class 'pandas.core.frame.DataFrame'>\n",
      "RangeIndex: 20000 entries, 0 to 19999\n",
      "Data columns (total 22 columns):\n",
      "channelGrouping                   20000 non-null object\n",
      "customDimensions                  20000 non-null object\n",
      "date                              20000 non-null int64\n",
      "device                            20000 non-null object\n",
      "fullVisitorId                     20000 non-null uint64\n",
      "geoNetwork                        20000 non-null object\n",
      "hits                              20000 non-null object\n",
      "socialEngagementType              20000 non-null object\n",
      "trafficSource                     20000 non-null object\n",
      "visitId                           20000 non-null int64\n",
      "visitNumber                       20000 non-null int64\n",
      "visitStartTime                    20000 non-null int64\n",
      "totals_bounces                    9873 non-null float64\n",
      "totals_hits                       20000 non-null int64\n",
      "totals_newVisits                  15088 non-null float64\n",
      "totals_pageviews                  19999 non-null float64\n",
      "totals_sessionQualityDim          9120 non-null float64\n",
      "totals_timeOnSite                 10101 non-null float64\n",
      "totals_totalTransactionRevenue    193 non-null float64\n",
      "totals_transactionRevenue         193 non-null float64\n",
      "totals_transactions               196 non-null float64\n",
      "totals_visits                     20000 non-null int64\n",
      "dtypes: float64(8), int64(6), object(7), uint64(1)\n",
      "memory usage: 3.4+ MB\n"
     ]
    }
   ],
   "source": [
    "df.info()"
   ]
  },
  {
   "cell_type": "code",
   "execution_count": 4,
   "metadata": {
    "scrolled": true
   },
   "outputs": [
    {
     "data": {
      "text/html": [
       "<div>\n",
       "<style scoped>\n",
       "    .dataframe tbody tr th:only-of-type {\n",
       "        vertical-align: middle;\n",
       "    }\n",
       "\n",
       "    .dataframe tbody tr th {\n",
       "        vertical-align: top;\n",
       "    }\n",
       "\n",
       "    .dataframe thead th {\n",
       "        text-align: right;\n",
       "    }\n",
       "</style>\n",
       "<table border=\"1\" class=\"dataframe\">\n",
       "  <thead>\n",
       "    <tr style=\"text-align: right;\">\n",
       "      <th></th>\n",
       "      <th>date</th>\n",
       "      <th>fullVisitorId</th>\n",
       "      <th>visitId</th>\n",
       "      <th>visitNumber</th>\n",
       "      <th>visitStartTime</th>\n",
       "      <th>totals_bounces</th>\n",
       "      <th>totals_hits</th>\n",
       "      <th>totals_newVisits</th>\n",
       "      <th>totals_pageviews</th>\n",
       "      <th>totals_sessionQualityDim</th>\n",
       "      <th>totals_timeOnSite</th>\n",
       "      <th>totals_totalTransactionRevenue</th>\n",
       "      <th>totals_transactionRevenue</th>\n",
       "      <th>totals_transactions</th>\n",
       "      <th>totals_visits</th>\n",
       "    </tr>\n",
       "  </thead>\n",
       "  <tbody>\n",
       "    <tr>\n",
       "      <th>count</th>\n",
       "      <td>2.000000e+04</td>\n",
       "      <td>2.000000e+04</td>\n",
       "      <td>2.000000e+04</td>\n",
       "      <td>20000.000000</td>\n",
       "      <td>2.000000e+04</td>\n",
       "      <td>9873.0</td>\n",
       "      <td>20000.000000</td>\n",
       "      <td>15088.0</td>\n",
       "      <td>19999.000000</td>\n",
       "      <td>9120.000000</td>\n",
       "      <td>10101.000000</td>\n",
       "      <td>1.930000e+02</td>\n",
       "      <td>1.930000e+02</td>\n",
       "      <td>196.000000</td>\n",
       "      <td>20000.0</td>\n",
       "    </tr>\n",
       "    <tr>\n",
       "      <th>mean</th>\n",
       "      <td>2.017041e+07</td>\n",
       "      <td>4.533406e+18</td>\n",
       "      <td>1.498277e+09</td>\n",
       "      <td>2.264200</td>\n",
       "      <td>1.498277e+09</td>\n",
       "      <td>1.0</td>\n",
       "      <td>4.794450</td>\n",
       "      <td>1.0</td>\n",
       "      <td>3.971549</td>\n",
       "      <td>4.456140</td>\n",
       "      <td>264.244629</td>\n",
       "      <td>1.278192e+08</td>\n",
       "      <td>1.087636e+08</td>\n",
       "      <td>1.040816</td>\n",
       "      <td>1.0</td>\n",
       "    </tr>\n",
       "    <tr>\n",
       "      <th>std</th>\n",
       "      <td>4.737638e+03</td>\n",
       "      <td>3.067707e+18</td>\n",
       "      <td>1.565797e+07</td>\n",
       "      <td>7.876636</td>\n",
       "      <td>1.565797e+07</td>\n",
       "      <td>0.0</td>\n",
       "      <td>9.080243</td>\n",
       "      <td>0.0</td>\n",
       "      <td>6.498605</td>\n",
       "      <td>12.593541</td>\n",
       "      <td>459.176173</td>\n",
       "      <td>2.432262e+08</td>\n",
       "      <td>1.711924e+08</td>\n",
       "      <td>0.222727</td>\n",
       "      <td>0.0</td>\n",
       "    </tr>\n",
       "    <tr>\n",
       "      <th>min</th>\n",
       "      <td>2.016090e+07</td>\n",
       "      <td>8.864048e+13</td>\n",
       "      <td>1.472799e+09</td>\n",
       "      <td>1.000000</td>\n",
       "      <td>1.472800e+09</td>\n",
       "      <td>1.0</td>\n",
       "      <td>1.000000</td>\n",
       "      <td>1.0</td>\n",
       "      <td>1.000000</td>\n",
       "      <td>1.000000</td>\n",
       "      <td>1.000000</td>\n",
       "      <td>4.990000e+06</td>\n",
       "      <td>1.990000e+06</td>\n",
       "      <td>1.000000</td>\n",
       "      <td>1.0</td>\n",
       "    </tr>\n",
       "    <tr>\n",
       "      <th>25%</th>\n",
       "      <td>2.017020e+07</td>\n",
       "      <td>1.618305e+18</td>\n",
       "      <td>1.486118e+09</td>\n",
       "      <td>1.000000</td>\n",
       "      <td>1.486118e+09</td>\n",
       "      <td>1.0</td>\n",
       "      <td>1.000000</td>\n",
       "      <td>1.0</td>\n",
       "      <td>1.000000</td>\n",
       "      <td>1.000000</td>\n",
       "      <td>35.000000</td>\n",
       "      <td>2.799000e+07</td>\n",
       "      <td>2.102000e+07</td>\n",
       "      <td>1.000000</td>\n",
       "      <td>1.0</td>\n",
       "    </tr>\n",
       "    <tr>\n",
       "      <th>50%</th>\n",
       "      <td>2.017062e+07</td>\n",
       "      <td>4.446795e+18</td>\n",
       "      <td>1.498247e+09</td>\n",
       "      <td>1.000000</td>\n",
       "      <td>1.498247e+09</td>\n",
       "      <td>1.0</td>\n",
       "      <td>2.000000</td>\n",
       "      <td>1.0</td>\n",
       "      <td>2.000000</td>\n",
       "      <td>1.000000</td>\n",
       "      <td>94.000000</td>\n",
       "      <td>5.171000e+07</td>\n",
       "      <td>4.458000e+07</td>\n",
       "      <td>1.000000</td>\n",
       "      <td>1.0</td>\n",
       "    </tr>\n",
       "    <tr>\n",
       "      <th>75%</th>\n",
       "      <td>2.017113e+07</td>\n",
       "      <td>7.218982e+18</td>\n",
       "      <td>1.512038e+09</td>\n",
       "      <td>1.000000</td>\n",
       "      <td>1.512038e+09</td>\n",
       "      <td>1.0</td>\n",
       "      <td>5.000000</td>\n",
       "      <td>1.0</td>\n",
       "      <td>4.000000</td>\n",
       "      <td>1.000000</td>\n",
       "      <td>270.000000</td>\n",
       "      <td>1.141600e+08</td>\n",
       "      <td>1.087200e+08</td>\n",
       "      <td>1.000000</td>\n",
       "      <td>1.0</td>\n",
       "    </tr>\n",
       "    <tr>\n",
       "      <th>max</th>\n",
       "      <td>2.018042e+07</td>\n",
       "      <td>9.999250e+18</td>\n",
       "      <td>1.523862e+09</td>\n",
       "      <td>401.000000</td>\n",
       "      <td>1.523862e+09</td>\n",
       "      <td>1.0</td>\n",
       "      <td>229.000000</td>\n",
       "      <td>1.0</td>\n",
       "      <td>165.000000</td>\n",
       "      <td>96.000000</td>\n",
       "      <td>5553.000000</td>\n",
       "      <td>2.103690e+09</td>\n",
       "      <td>1.171470e+09</td>\n",
       "      <td>3.000000</td>\n",
       "      <td>1.0</td>\n",
       "    </tr>\n",
       "  </tbody>\n",
       "</table>\n",
       "</div>"
      ],
      "text/plain": [
       "               date  fullVisitorId       visitId   visitNumber  \\\n",
       "count  2.000000e+04   2.000000e+04  2.000000e+04  20000.000000   \n",
       "mean   2.017041e+07   4.533406e+18  1.498277e+09      2.264200   \n",
       "std    4.737638e+03   3.067707e+18  1.565797e+07      7.876636   \n",
       "min    2.016090e+07   8.864048e+13  1.472799e+09      1.000000   \n",
       "25%    2.017020e+07   1.618305e+18  1.486118e+09      1.000000   \n",
       "50%    2.017062e+07   4.446795e+18  1.498247e+09      1.000000   \n",
       "75%    2.017113e+07   7.218982e+18  1.512038e+09      1.000000   \n",
       "max    2.018042e+07   9.999250e+18  1.523862e+09    401.000000   \n",
       "\n",
       "       visitStartTime  totals_bounces   totals_hits  totals_newVisits  \\\n",
       "count    2.000000e+04          9873.0  20000.000000           15088.0   \n",
       "mean     1.498277e+09             1.0      4.794450               1.0   \n",
       "std      1.565797e+07             0.0      9.080243               0.0   \n",
       "min      1.472800e+09             1.0      1.000000               1.0   \n",
       "25%      1.486118e+09             1.0      1.000000               1.0   \n",
       "50%      1.498247e+09             1.0      2.000000               1.0   \n",
       "75%      1.512038e+09             1.0      5.000000               1.0   \n",
       "max      1.523862e+09             1.0    229.000000               1.0   \n",
       "\n",
       "       totals_pageviews  totals_sessionQualityDim  totals_timeOnSite  \\\n",
       "count      19999.000000               9120.000000       10101.000000   \n",
       "mean           3.971549                  4.456140         264.244629   \n",
       "std            6.498605                 12.593541         459.176173   \n",
       "min            1.000000                  1.000000           1.000000   \n",
       "25%            1.000000                  1.000000          35.000000   \n",
       "50%            2.000000                  1.000000          94.000000   \n",
       "75%            4.000000                  1.000000         270.000000   \n",
       "max          165.000000                 96.000000        5553.000000   \n",
       "\n",
       "       totals_totalTransactionRevenue  totals_transactionRevenue  \\\n",
       "count                    1.930000e+02               1.930000e+02   \n",
       "mean                     1.278192e+08               1.087636e+08   \n",
       "std                      2.432262e+08               1.711924e+08   \n",
       "min                      4.990000e+06               1.990000e+06   \n",
       "25%                      2.799000e+07               2.102000e+07   \n",
       "50%                      5.171000e+07               4.458000e+07   \n",
       "75%                      1.141600e+08               1.087200e+08   \n",
       "max                      2.103690e+09               1.171470e+09   \n",
       "\n",
       "       totals_transactions  totals_visits  \n",
       "count           196.000000        20000.0  \n",
       "mean              1.040816            1.0  \n",
       "std               0.222727            0.0  \n",
       "min               1.000000            1.0  \n",
       "25%               1.000000            1.0  \n",
       "50%               1.000000            1.0  \n",
       "75%               1.000000            1.0  \n",
       "max               3.000000            1.0  "
      ]
     },
     "execution_count": 4,
     "metadata": {},
     "output_type": "execute_result"
    }
   ],
   "source": [
    "df.describe()"
   ]
  },
  {
   "cell_type": "markdown",
   "metadata": {},
   "source": [
    "In the total_transactionRevenue column, there are a lot of missing data (which will be replaced by 0). Only 193 over 20000 row has value in  total_transactionRevenue column."
   ]
  },
  {
   "cell_type": "code",
   "execution_count": 5,
   "metadata": {},
   "outputs": [
    {
     "data": {
      "text/html": [
       "<div>\n",
       "<style scoped>\n",
       "    .dataframe tbody tr th:only-of-type {\n",
       "        vertical-align: middle;\n",
       "    }\n",
       "\n",
       "    .dataframe tbody tr th {\n",
       "        vertical-align: top;\n",
       "    }\n",
       "\n",
       "    .dataframe thead th {\n",
       "        text-align: right;\n",
       "    }\n",
       "</style>\n",
       "<table border=\"1\" class=\"dataframe\">\n",
       "  <thead>\n",
       "    <tr style=\"text-align: right;\">\n",
       "      <th></th>\n",
       "      <th>channelGrouping</th>\n",
       "      <th>customDimensions</th>\n",
       "      <th>device</th>\n",
       "      <th>geoNetwork</th>\n",
       "      <th>hits</th>\n",
       "      <th>socialEngagementType</th>\n",
       "      <th>trafficSource</th>\n",
       "    </tr>\n",
       "  </thead>\n",
       "  <tbody>\n",
       "    <tr>\n",
       "      <th>count</th>\n",
       "      <td>20000</td>\n",
       "      <td>20000</td>\n",
       "      <td>20000</td>\n",
       "      <td>20000</td>\n",
       "      <td>20000</td>\n",
       "      <td>20000</td>\n",
       "      <td>20000</td>\n",
       "    </tr>\n",
       "    <tr>\n",
       "      <th>unique</th>\n",
       "      <td>7</td>\n",
       "      <td>6</td>\n",
       "      <td>73</td>\n",
       "      <td>3788</td>\n",
       "      <td>19554</td>\n",
       "      <td>1</td>\n",
       "      <td>1369</td>\n",
       "    </tr>\n",
       "    <tr>\n",
       "      <th>top</th>\n",
       "      <td>Organic Search</td>\n",
       "      <td>[{'index': '4', 'value': 'North America'}]</td>\n",
       "      <td>{'mobileDeviceInfo': 'not available in demo da...</td>\n",
       "      <td>{'cityId': 'not available in demo dataset', 'm...</td>\n",
       "      <td>[{'hitNumber': '1', 'time': '0', 'hour': '6', ...</td>\n",
       "      <td>Not Socially Engaged</td>\n",
       "      <td>{'campaign': '(not set)', 'source': 'google', ...</td>\n",
       "    </tr>\n",
       "    <tr>\n",
       "      <th>freq</th>\n",
       "      <td>9535</td>\n",
       "      <td>9288</td>\n",
       "      <td>6078</td>\n",
       "      <td>1600</td>\n",
       "      <td>12</td>\n",
       "      <td>20000</td>\n",
       "      <td>4944</td>\n",
       "    </tr>\n",
       "  </tbody>\n",
       "</table>\n",
       "</div>"
      ],
      "text/plain": [
       "       channelGrouping                            customDimensions  \\\n",
       "count            20000                                       20000   \n",
       "unique               7                                           6   \n",
       "top     Organic Search  [{'index': '4', 'value': 'North America'}]   \n",
       "freq              9535                                        9288   \n",
       "\n",
       "                                                   device  \\\n",
       "count                                               20000   \n",
       "unique                                                 73   \n",
       "top     {'mobileDeviceInfo': 'not available in demo da...   \n",
       "freq                                                 6078   \n",
       "\n",
       "                                               geoNetwork  \\\n",
       "count                                               20000   \n",
       "unique                                               3788   \n",
       "top     {'cityId': 'not available in demo dataset', 'm...   \n",
       "freq                                                 1600   \n",
       "\n",
       "                                                     hits  \\\n",
       "count                                               20000   \n",
       "unique                                              19554   \n",
       "top     [{'hitNumber': '1', 'time': '0', 'hour': '6', ...   \n",
       "freq                                                   12   \n",
       "\n",
       "        socialEngagementType  \\\n",
       "count                  20000   \n",
       "unique                     1   \n",
       "top     Not Socially Engaged   \n",
       "freq                   20000   \n",
       "\n",
       "                                            trafficSource  \n",
       "count                                               20000  \n",
       "unique                                               1369  \n",
       "top     {'campaign': '(not set)', 'source': 'google', ...  \n",
       "freq                                                 4944  "
      ]
     },
     "execution_count": 5,
     "metadata": {},
     "output_type": "execute_result"
    }
   ],
   "source": [
    "df.describe(include = 'O')"
   ]
  },
  {
   "cell_type": "code",
   "execution_count": 6,
   "metadata": {},
   "outputs": [
    {
     "data": {
      "text/html": [
       "<div>\n",
       "<style scoped>\n",
       "    .dataframe tbody tr th:only-of-type {\n",
       "        vertical-align: middle;\n",
       "    }\n",
       "\n",
       "    .dataframe tbody tr th {\n",
       "        vertical-align: top;\n",
       "    }\n",
       "\n",
       "    .dataframe thead th {\n",
       "        text-align: right;\n",
       "    }\n",
       "</style>\n",
       "<table border=\"1\" class=\"dataframe\">\n",
       "  <thead>\n",
       "    <tr style=\"text-align: right;\">\n",
       "      <th></th>\n",
       "      <th>channelGrouping</th>\n",
       "      <th>customDimensions</th>\n",
       "      <th>date</th>\n",
       "      <th>device</th>\n",
       "      <th>fullVisitorId</th>\n",
       "      <th>geoNetwork</th>\n",
       "      <th>hits</th>\n",
       "      <th>socialEngagementType</th>\n",
       "      <th>trafficSource</th>\n",
       "      <th>visitId</th>\n",
       "      <th>visitNumber</th>\n",
       "    </tr>\n",
       "  </thead>\n",
       "  <tbody>\n",
       "    <tr>\n",
       "      <th>0</th>\n",
       "      <td>Organic Search</td>\n",
       "      <td>[{'index': '4', 'value': 'EMEA'}]</td>\n",
       "      <td>20171016</td>\n",
       "      <td>{'mobileDeviceInfo': 'not available in demo da...</td>\n",
       "      <td>3162355547410993243</td>\n",
       "      <td>{'cityId': 'not available in demo dataset', 'm...</td>\n",
       "      <td>[{'hitNumber': '1', 'time': '0', 'hour': '17',...</td>\n",
       "      <td>Not Socially Engaged</td>\n",
       "      <td>{'campaign': '(not set)', 'source': 'google', ...</td>\n",
       "      <td>1508198450</td>\n",
       "      <td>1</td>\n",
       "    </tr>\n",
       "    <tr>\n",
       "      <th>1</th>\n",
       "      <td>Referral</td>\n",
       "      <td>[{'index': '4', 'value': 'North America'}]</td>\n",
       "      <td>20171016</td>\n",
       "      <td>{'mobileDeviceInfo': 'not available in demo da...</td>\n",
       "      <td>8934116514970143966</td>\n",
       "      <td>{'cityId': 'not available in demo dataset', 'm...</td>\n",
       "      <td>[{'hitNumber': '1', 'time': '0', 'hour': '10',...</td>\n",
       "      <td>Not Socially Engaged</td>\n",
       "      <td>{'referralPath': '/a/google.com/transportation...</td>\n",
       "      <td>1508176307</td>\n",
       "      <td>6</td>\n",
       "    </tr>\n",
       "    <tr>\n",
       "      <th>2</th>\n",
       "      <td>Direct</td>\n",
       "      <td>[{'index': '4', 'value': 'North America'}]</td>\n",
       "      <td>20171016</td>\n",
       "      <td>{'mobileDeviceInfo': 'not available in demo da...</td>\n",
       "      <td>7992466427990357681</td>\n",
       "      <td>{'cityId': 'not available in demo dataset', 'm...</td>\n",
       "      <td>[{'hitNumber': '1', 'time': '0', 'hour': '17',...</td>\n",
       "      <td>Not Socially Engaged</td>\n",
       "      <td>{'isTrueDirect': True, 'campaign': '(not set)'...</td>\n",
       "      <td>1508201613</td>\n",
       "      <td>1</td>\n",
       "    </tr>\n",
       "    <tr>\n",
       "      <th>3</th>\n",
       "      <td>Organic Search</td>\n",
       "      <td>[{'index': '4', 'value': 'EMEA'}]</td>\n",
       "      <td>20171016</td>\n",
       "      <td>{'mobileDeviceInfo': 'not available in demo da...</td>\n",
       "      <td>9075655783635761930</td>\n",
       "      <td>{'cityId': 'not available in demo dataset', 'm...</td>\n",
       "      <td>[{'hitNumber': '1', 'time': '0', 'hour': '9', ...</td>\n",
       "      <td>Not Socially Engaged</td>\n",
       "      <td>{'campaign': '(not set)', 'source': 'google', ...</td>\n",
       "      <td>1508169851</td>\n",
       "      <td>1</td>\n",
       "    </tr>\n",
       "    <tr>\n",
       "      <th>4</th>\n",
       "      <td>Organic Search</td>\n",
       "      <td>[{'index': '4', 'value': 'Central America'}]</td>\n",
       "      <td>20171016</td>\n",
       "      <td>{'mobileDeviceInfo': 'not available in demo da...</td>\n",
       "      <td>6960673291025684308</td>\n",
       "      <td>{'cityId': 'not available in demo dataset', 'm...</td>\n",
       "      <td>[{'hitNumber': '1', 'time': '0', 'hour': '14',...</td>\n",
       "      <td>Not Socially Engaged</td>\n",
       "      <td>{'campaign': '(not set)', 'source': 'google', ...</td>\n",
       "      <td>1508190552</td>\n",
       "      <td>1</td>\n",
       "    </tr>\n",
       "  </tbody>\n",
       "</table>\n",
       "</div>"
      ],
      "text/plain": [
       "  channelGrouping                              customDimensions      date  \\\n",
       "0  Organic Search             [{'index': '4', 'value': 'EMEA'}]  20171016   \n",
       "1        Referral    [{'index': '4', 'value': 'North America'}]  20171016   \n",
       "2          Direct    [{'index': '4', 'value': 'North America'}]  20171016   \n",
       "3  Organic Search             [{'index': '4', 'value': 'EMEA'}]  20171016   \n",
       "4  Organic Search  [{'index': '4', 'value': 'Central America'}]  20171016   \n",
       "\n",
       "                                              device        fullVisitorId  \\\n",
       "0  {'mobileDeviceInfo': 'not available in demo da...  3162355547410993243   \n",
       "1  {'mobileDeviceInfo': 'not available in demo da...  8934116514970143966   \n",
       "2  {'mobileDeviceInfo': 'not available in demo da...  7992466427990357681   \n",
       "3  {'mobileDeviceInfo': 'not available in demo da...  9075655783635761930   \n",
       "4  {'mobileDeviceInfo': 'not available in demo da...  6960673291025684308   \n",
       "\n",
       "                                          geoNetwork  \\\n",
       "0  {'cityId': 'not available in demo dataset', 'm...   \n",
       "1  {'cityId': 'not available in demo dataset', 'm...   \n",
       "2  {'cityId': 'not available in demo dataset', 'm...   \n",
       "3  {'cityId': 'not available in demo dataset', 'm...   \n",
       "4  {'cityId': 'not available in demo dataset', 'm...   \n",
       "\n",
       "                                                hits  socialEngagementType  \\\n",
       "0  [{'hitNumber': '1', 'time': '0', 'hour': '17',...  Not Socially Engaged   \n",
       "1  [{'hitNumber': '1', 'time': '0', 'hour': '10',...  Not Socially Engaged   \n",
       "2  [{'hitNumber': '1', 'time': '0', 'hour': '17',...  Not Socially Engaged   \n",
       "3  [{'hitNumber': '1', 'time': '0', 'hour': '9', ...  Not Socially Engaged   \n",
       "4  [{'hitNumber': '1', 'time': '0', 'hour': '14',...  Not Socially Engaged   \n",
       "\n",
       "                                       trafficSource     visitId  visitNumber  \n",
       "0  {'campaign': '(not set)', 'source': 'google', ...  1508198450            1  \n",
       "1  {'referralPath': '/a/google.com/transportation...  1508176307            6  \n",
       "2  {'isTrueDirect': True, 'campaign': '(not set)'...  1508201613            1  \n",
       "3  {'campaign': '(not set)', 'source': 'google', ...  1508169851            1  \n",
       "4  {'campaign': '(not set)', 'source': 'google', ...  1508190552            1  "
      ]
     },
     "execution_count": 6,
     "metadata": {},
     "output_type": "execute_result"
    }
   ],
   "source": [
    "df.iloc[:,:11].head(5)"
   ]
  },
  {
   "cell_type": "code",
   "execution_count": 7,
   "metadata": {},
   "outputs": [
    {
     "data": {
      "text/html": [
       "<div>\n",
       "<style scoped>\n",
       "    .dataframe tbody tr th:only-of-type {\n",
       "        vertical-align: middle;\n",
       "    }\n",
       "\n",
       "    .dataframe tbody tr th {\n",
       "        vertical-align: top;\n",
       "    }\n",
       "\n",
       "    .dataframe thead th {\n",
       "        text-align: right;\n",
       "    }\n",
       "</style>\n",
       "<table border=\"1\" class=\"dataframe\">\n",
       "  <thead>\n",
       "    <tr style=\"text-align: right;\">\n",
       "      <th></th>\n",
       "      <th>visitStartTime</th>\n",
       "      <th>totals_bounces</th>\n",
       "      <th>totals_hits</th>\n",
       "      <th>totals_newVisits</th>\n",
       "      <th>totals_pageviews</th>\n",
       "      <th>totals_sessionQualityDim</th>\n",
       "      <th>totals_timeOnSite</th>\n",
       "      <th>totals_totalTransactionRevenue</th>\n",
       "      <th>totals_transactionRevenue</th>\n",
       "      <th>totals_transactions</th>\n",
       "    </tr>\n",
       "  </thead>\n",
       "  <tbody>\n",
       "    <tr>\n",
       "      <th>0</th>\n",
       "      <td>1508198450</td>\n",
       "      <td>1.0</td>\n",
       "      <td>1</td>\n",
       "      <td>1.0</td>\n",
       "      <td>1.0</td>\n",
       "      <td>1.0</td>\n",
       "      <td>NaN</td>\n",
       "      <td>NaN</td>\n",
       "      <td>NaN</td>\n",
       "      <td>NaN</td>\n",
       "    </tr>\n",
       "    <tr>\n",
       "      <th>1</th>\n",
       "      <td>1508176307</td>\n",
       "      <td>NaN</td>\n",
       "      <td>2</td>\n",
       "      <td>NaN</td>\n",
       "      <td>2.0</td>\n",
       "      <td>2.0</td>\n",
       "      <td>28.0</td>\n",
       "      <td>NaN</td>\n",
       "      <td>NaN</td>\n",
       "      <td>NaN</td>\n",
       "    </tr>\n",
       "    <tr>\n",
       "      <th>2</th>\n",
       "      <td>1508201613</td>\n",
       "      <td>NaN</td>\n",
       "      <td>2</td>\n",
       "      <td>1.0</td>\n",
       "      <td>2.0</td>\n",
       "      <td>1.0</td>\n",
       "      <td>38.0</td>\n",
       "      <td>NaN</td>\n",
       "      <td>NaN</td>\n",
       "      <td>NaN</td>\n",
       "    </tr>\n",
       "    <tr>\n",
       "      <th>3</th>\n",
       "      <td>1508169851</td>\n",
       "      <td>NaN</td>\n",
       "      <td>2</td>\n",
       "      <td>1.0</td>\n",
       "      <td>2.0</td>\n",
       "      <td>1.0</td>\n",
       "      <td>1.0</td>\n",
       "      <td>NaN</td>\n",
       "      <td>NaN</td>\n",
       "      <td>NaN</td>\n",
       "    </tr>\n",
       "    <tr>\n",
       "      <th>4</th>\n",
       "      <td>1508190552</td>\n",
       "      <td>NaN</td>\n",
       "      <td>2</td>\n",
       "      <td>1.0</td>\n",
       "      <td>2.0</td>\n",
       "      <td>1.0</td>\n",
       "      <td>52.0</td>\n",
       "      <td>NaN</td>\n",
       "      <td>NaN</td>\n",
       "      <td>NaN</td>\n",
       "    </tr>\n",
       "  </tbody>\n",
       "</table>\n",
       "</div>"
      ],
      "text/plain": [
       "   visitStartTime  totals_bounces  totals_hits  totals_newVisits  \\\n",
       "0      1508198450             1.0            1               1.0   \n",
       "1      1508176307             NaN            2               NaN   \n",
       "2      1508201613             NaN            2               1.0   \n",
       "3      1508169851             NaN            2               1.0   \n",
       "4      1508190552             NaN            2               1.0   \n",
       "\n",
       "   totals_pageviews  totals_sessionQualityDim  totals_timeOnSite  \\\n",
       "0               1.0                       1.0                NaN   \n",
       "1               2.0                       2.0               28.0   \n",
       "2               2.0                       1.0               38.0   \n",
       "3               2.0                       1.0                1.0   \n",
       "4               2.0                       1.0               52.0   \n",
       "\n",
       "   totals_totalTransactionRevenue  totals_transactionRevenue  \\\n",
       "0                             NaN                        NaN   \n",
       "1                             NaN                        NaN   \n",
       "2                             NaN                        NaN   \n",
       "3                             NaN                        NaN   \n",
       "4                             NaN                        NaN   \n",
       "\n",
       "   totals_transactions  \n",
       "0                  NaN  \n",
       "1                  NaN  \n",
       "2                  NaN  \n",
       "3                  NaN  \n",
       "4                  NaN  "
      ]
     },
     "execution_count": 7,
     "metadata": {},
     "output_type": "execute_result"
    }
   ],
   "source": [
    "df.iloc[:,11:21].head(5)"
   ]
  },
  {
   "cell_type": "markdown",
   "metadata": {},
   "source": [
    "Looking at the table above, we can see that there are JSON data in these columns: customerDimensions, device, geoNetwork, hits, trafficSource. The next step is to flatten these columns into pandas dataframes. Then, I will explore each of those dataframes and decide which columns are going to be used to predict the total revenue. After that, those columns will be concatenated to df."
   ]
  },
  {
   "cell_type": "code",
   "execution_count": 8,
   "metadata": {},
   "outputs": [],
   "source": [
    "import json\n",
    "import ast\n",
    "from pandas.io.json import json_normalize #package for flattening json in pandas df"
   ]
  },
  {
   "cell_type": "markdown",
   "metadata": {},
   "source": [
    "customDimensions and hits column have the same format, which is different from the other 3 columns. Thus, I will flatten customDimensions and hits first. The format of device, geoNetwork, and trafficSource is string with the form of dictionary while that of customDimensions and hits is string with the form of a list that has 1 dictionary as an item."
   ]
  },
  {
   "cell_type": "markdown",
   "metadata": {},
   "source": [
    "##### customerDimensions"
   ]
  },
  {
   "cell_type": "markdown",
   "metadata": {},
   "source": [
    "First, I need to fill the rows with empty list of the column"
   ]
  },
  {
   "cell_type": "code",
   "execution_count": 9,
   "metadata": {},
   "outputs": [],
   "source": [
    "x = str([{'index': 'xxx','value': 'unknown'}])"
   ]
  },
  {
   "cell_type": "code",
   "execution_count": 10,
   "metadata": {},
   "outputs": [],
   "source": [
    "for i in df['customDimensions']:\n",
    "    if ast.literal_eval(i) == []:\n",
    "        df['customDimensions'].replace(i,x,inplace = True)"
   ]
  },
  {
   "cell_type": "code",
   "execution_count": 11,
   "metadata": {},
   "outputs": [
    {
     "data": {
      "text/plain": [
       "[{'index': 'xxx', 'value': 'unknown'}]"
      ]
     },
     "execution_count": 11,
     "metadata": {},
     "output_type": "execute_result"
    }
   ],
   "source": [
    "ast.literal_eval(df['customDimensions'].iloc[19999])"
   ]
  },
  {
   "cell_type": "markdown",
   "metadata": {},
   "source": [
    "After that, I will transform the data and use json_normalize function to flatten the data in customDimensions column into a dataframe named cust_Dim"
   ]
  },
  {
   "cell_type": "code",
   "execution_count": 12,
   "metadata": {},
   "outputs": [],
   "source": [
    "df['customDimensions'] = df['customDimensions'].apply(lambda x: ast.literal_eval(x))\n",
    "df['customDimensions']= df['customDimensions'].apply(lambda x: x[0])\n",
    "df['customDimensions'] = df['customDimensions'].apply(lambda x: str(x))"
   ]
  },
  {
   "cell_type": "code",
   "execution_count": 13,
   "metadata": {},
   "outputs": [],
   "source": [
    "cust_Dim = json_normalize(df['customDimensions'].apply(eval))\n",
    "cust_Dim.replace('xxx',np.nan,inplace = True)"
   ]
  },
  {
   "cell_type": "code",
   "execution_count": 14,
   "metadata": {},
   "outputs": [
    {
     "data": {
      "text/html": [
       "<div>\n",
       "<style scoped>\n",
       "    .dataframe tbody tr th:only-of-type {\n",
       "        vertical-align: middle;\n",
       "    }\n",
       "\n",
       "    .dataframe tbody tr th {\n",
       "        vertical-align: top;\n",
       "    }\n",
       "\n",
       "    .dataframe thead th {\n",
       "        text-align: right;\n",
       "    }\n",
       "</style>\n",
       "<table border=\"1\" class=\"dataframe\">\n",
       "  <thead>\n",
       "    <tr style=\"text-align: right;\">\n",
       "      <th></th>\n",
       "      <th>index</th>\n",
       "      <th>value</th>\n",
       "    </tr>\n",
       "  </thead>\n",
       "  <tbody>\n",
       "    <tr>\n",
       "      <th>0</th>\n",
       "      <td>4</td>\n",
       "      <td>EMEA</td>\n",
       "    </tr>\n",
       "    <tr>\n",
       "      <th>1</th>\n",
       "      <td>4</td>\n",
       "      <td>North America</td>\n",
       "    </tr>\n",
       "    <tr>\n",
       "      <th>2</th>\n",
       "      <td>4</td>\n",
       "      <td>North America</td>\n",
       "    </tr>\n",
       "    <tr>\n",
       "      <th>3</th>\n",
       "      <td>4</td>\n",
       "      <td>EMEA</td>\n",
       "    </tr>\n",
       "    <tr>\n",
       "      <th>4</th>\n",
       "      <td>4</td>\n",
       "      <td>Central America</td>\n",
       "    </tr>\n",
       "  </tbody>\n",
       "</table>\n",
       "</div>"
      ],
      "text/plain": [
       "  index            value\n",
       "0     4             EMEA\n",
       "1     4    North America\n",
       "2     4    North America\n",
       "3     4             EMEA\n",
       "4     4  Central America"
      ]
     },
     "execution_count": 14,
     "metadata": {},
     "output_type": "execute_result"
    }
   ],
   "source": [
    "cust_Dim.head()"
   ]
  },
  {
   "cell_type": "code",
   "execution_count": 15,
   "metadata": {},
   "outputs": [
    {
     "data": {
      "text/plain": [
       "array(['EMEA', 'North America', 'Central America', 'unknown', 'APAC',\n",
       "       'South America'], dtype=object)"
      ]
     },
     "execution_count": 15,
     "metadata": {},
     "output_type": "execute_result"
    }
   ],
   "source": [
    "cust_Dim.value.unique()"
   ]
  },
  {
   "cell_type": "code",
   "execution_count": 16,
   "metadata": {},
   "outputs": [],
   "source": [
    "# Need to concat cust_Dim to df and drop all cust_Dim columns and customDimensions"
   ]
  },
  {
   "cell_type": "code",
   "execution_count": 17,
   "metadata": {
    "scrolled": true
   },
   "outputs": [
    {
     "name": "stdout",
     "output_type": "stream",
     "text": [
      "<class 'pandas.core.frame.DataFrame'>\n",
      "RangeIndex: 20000 entries, 0 to 19999\n",
      "Data columns (total 2 columns):\n",
      "index    16395 non-null object\n",
      "value    20000 non-null object\n",
      "dtypes: object(2)\n",
      "memory usage: 312.6+ KB\n"
     ]
    }
   ],
   "source": [
    "cust_Dim.info()"
   ]
  },
  {
   "cell_type": "markdown",
   "metadata": {},
   "source": [
    "The column value in cust_Dim table identifies the location of customers. I will include this in my model by turning it into one-hot vector and concatenate with df."
   ]
  },
  {
   "cell_type": "code",
   "execution_count": 18,
   "metadata": {},
   "outputs": [],
   "source": [
    "value = pd.get_dummies(cust_Dim['value'],columns = 'values', prefix = 'value')"
   ]
  },
  {
   "cell_type": "markdown",
   "metadata": {},
   "source": [
    "##### hits - apply the same steps as above, data is stored in hits table"
   ]
  },
  {
   "cell_type": "code",
   "execution_count": 19,
   "metadata": {},
   "outputs": [
    {
     "data": {
      "text/plain": [
       "['hitNumber',\n",
       " 'time',\n",
       " 'hour',\n",
       " 'minute',\n",
       " 'isInteraction',\n",
       " 'isEntrance',\n",
       " 'isExit',\n",
       " 'referer',\n",
       " 'page',\n",
       " 'transaction',\n",
       " 'item',\n",
       " 'appInfo',\n",
       " 'exceptionInfo',\n",
       " 'product',\n",
       " 'promotion',\n",
       " 'eCommerceAction',\n",
       " 'experiment',\n",
       " 'customVariables',\n",
       " 'customDimensions',\n",
       " 'customMetrics',\n",
       " 'type',\n",
       " 'social',\n",
       " 'contentGroup',\n",
       " 'dataSource',\n",
       " 'publisher_infos']"
      ]
     },
     "execution_count": 19,
     "metadata": {},
     "output_type": "execute_result"
    }
   ],
   "source": [
    "list(ast.literal_eval(df['hits'].iloc[0])[0].keys())"
   ]
  },
  {
   "cell_type": "code",
   "execution_count": 20,
   "metadata": {},
   "outputs": [],
   "source": [
    "x = str([{'hitNumber':'xxx', 'time':'xxx', 'hour':'xxx', 'minute':'xxx', 'isInteraction':'xxx', 'isEntrance':'xxx', 'isExit':'xxx', 'referer':'xxx', 'page':'xxx', 'transaction':'xxx', 'item':'xxx',\n",
    "          'appInfo':'xxx','exceptionInfo':'xxx','product':'xxx','promotion':'xxx','eCommerceAction':'xxx', 'experiment':'xxx', 'customVariables':'xxx', 'customDimensions':'xxx',\n",
    "          'customMetrics':'xxx', 'type':'xxx','social':'xxx','contentGroup':'xxx','dataSource':'xxx','publisher_infos':'xxx'}])"
   ]
  },
  {
   "cell_type": "code",
   "execution_count": 21,
   "metadata": {},
   "outputs": [],
   "source": [
    "for i in df['hits']:\n",
    "    if ast.literal_eval(i) == []:\n",
    "        df['hits'].replace(i,x,inplace = True)"
   ]
  },
  {
   "cell_type": "code",
   "execution_count": 22,
   "metadata": {},
   "outputs": [],
   "source": [
    "df['hits'] = df['hits'].apply(lambda x: ast.literal_eval(x))\n",
    "df['hits']= df['hits'].apply(lambda x: x[0])\n",
    "df['hits'] = df['hits'].apply(lambda x: str(x))"
   ]
  },
  {
   "cell_type": "code",
   "execution_count": 23,
   "metadata": {},
   "outputs": [],
   "source": [
    "hits = json_normalize(df['hits'].apply(eval))\n",
    "hits.replace('xxx',np.nan,inplace = True)"
   ]
  },
  {
   "cell_type": "code",
   "execution_count": 24,
   "metadata": {},
   "outputs": [],
   "source": [
    "## hits.columns"
   ]
  },
  {
   "cell_type": "code",
   "execution_count": 25,
   "metadata": {
    "scrolled": true
   },
   "outputs": [
    {
     "data": {
      "text/html": [
       "<div>\n",
       "<style scoped>\n",
       "    .dataframe tbody tr th:only-of-type {\n",
       "        vertical-align: middle;\n",
       "    }\n",
       "\n",
       "    .dataframe tbody tr th {\n",
       "        vertical-align: top;\n",
       "    }\n",
       "\n",
       "    .dataframe thead th {\n",
       "        text-align: right;\n",
       "    }\n",
       "</style>\n",
       "<table border=\"1\" class=\"dataframe\">\n",
       "  <thead>\n",
       "    <tr style=\"text-align: right;\">\n",
       "      <th></th>\n",
       "      <th>appInfo</th>\n",
       "      <th>appInfo.exitScreenName</th>\n",
       "      <th>appInfo.landingScreenName</th>\n",
       "      <th>appInfo.screenDepth</th>\n",
       "      <th>appInfo.screenName</th>\n",
       "      <th>contentGroup</th>\n",
       "      <th>contentGroup.contentGroup1</th>\n",
       "      <th>contentGroup.contentGroup2</th>\n",
       "      <th>contentGroup.contentGroup3</th>\n",
       "      <th>contentGroup.contentGroup4</th>\n",
       "      <th>...</th>\n",
       "      <th>publisher_infos</th>\n",
       "      <th>referer</th>\n",
       "      <th>social</th>\n",
       "      <th>social.hasSocialSourceReferral</th>\n",
       "      <th>social.socialInteractionNetworkAction</th>\n",
       "      <th>social.socialNetwork</th>\n",
       "      <th>time</th>\n",
       "      <th>transaction</th>\n",
       "      <th>transaction.currencyCode</th>\n",
       "      <th>type</th>\n",
       "    </tr>\n",
       "  </thead>\n",
       "  <tbody>\n",
       "    <tr>\n",
       "      <th>0</th>\n",
       "      <td>NaN</td>\n",
       "      <td>shop.googlemerchandisestore.com/google+redesig...</td>\n",
       "      <td>shop.googlemerchandisestore.com/google+redesig...</td>\n",
       "      <td>0</td>\n",
       "      <td>shop.googlemerchandisestore.com/google+redesig...</td>\n",
       "      <td>NaN</td>\n",
       "      <td>(not set)</td>\n",
       "      <td>Bags</td>\n",
       "      <td>(not set)</td>\n",
       "      <td>(not set)</td>\n",
       "      <td>...</td>\n",
       "      <td>[]</td>\n",
       "      <td>https://www.google.co.uk/search?q=water+bottle...</td>\n",
       "      <td>NaN</td>\n",
       "      <td>No</td>\n",
       "      <td>:</td>\n",
       "      <td>(not set)</td>\n",
       "      <td>0</td>\n",
       "      <td>NaN</td>\n",
       "      <td>USD</td>\n",
       "      <td>PAGE</td>\n",
       "    </tr>\n",
       "    <tr>\n",
       "      <th>1</th>\n",
       "      <td>NaN</td>\n",
       "      <td>shop.googlemerchandisestore.com/asearch.html</td>\n",
       "      <td>shop.googlemerchandisestore.com/home</td>\n",
       "      <td>0</td>\n",
       "      <td>shop.googlemerchandisestore.com/home</td>\n",
       "      <td>NaN</td>\n",
       "      <td>(not set)</td>\n",
       "      <td>(not set)</td>\n",
       "      <td>(not set)</td>\n",
       "      <td>(not set)</td>\n",
       "      <td>...</td>\n",
       "      <td>[]</td>\n",
       "      <td>https://sites.google.com/a/google.com/transpor...</td>\n",
       "      <td>NaN</td>\n",
       "      <td>No</td>\n",
       "      <td>:</td>\n",
       "      <td>(not set)</td>\n",
       "      <td>0</td>\n",
       "      <td>NaN</td>\n",
       "      <td>NaN</td>\n",
       "      <td>PAGE</td>\n",
       "    </tr>\n",
       "    <tr>\n",
       "      <th>2</th>\n",
       "      <td>NaN</td>\n",
       "      <td>shop.googlemerchandisestore.com/google+redesig...</td>\n",
       "      <td>shop.googlemerchandisestore.com/home</td>\n",
       "      <td>0</td>\n",
       "      <td>shop.googlemerchandisestore.com/home</td>\n",
       "      <td>NaN</td>\n",
       "      <td>(not set)</td>\n",
       "      <td>(not set)</td>\n",
       "      <td>(not set)</td>\n",
       "      <td>(not set)</td>\n",
       "      <td>...</td>\n",
       "      <td>[]</td>\n",
       "      <td>https://www.googlemerchandisestore.com/</td>\n",
       "      <td>NaN</td>\n",
       "      <td>No</td>\n",
       "      <td>:</td>\n",
       "      <td>(not set)</td>\n",
       "      <td>0</td>\n",
       "      <td>NaN</td>\n",
       "      <td>NaN</td>\n",
       "      <td>PAGE</td>\n",
       "    </tr>\n",
       "    <tr>\n",
       "      <th>3</th>\n",
       "      <td>NaN</td>\n",
       "      <td>shop.googlemerchandisestore.com/google+redesig...</td>\n",
       "      <td>shop.googlemerchandisestore.com/home</td>\n",
       "      <td>0</td>\n",
       "      <td>shop.googlemerchandisestore.com/home</td>\n",
       "      <td>NaN</td>\n",
       "      <td>(not set)</td>\n",
       "      <td>(not set)</td>\n",
       "      <td>(not set)</td>\n",
       "      <td>(not set)</td>\n",
       "      <td>...</td>\n",
       "      <td>[]</td>\n",
       "      <td>https://www.google.com.tr/</td>\n",
       "      <td>NaN</td>\n",
       "      <td>No</td>\n",
       "      <td>:</td>\n",
       "      <td>(not set)</td>\n",
       "      <td>0</td>\n",
       "      <td>NaN</td>\n",
       "      <td>NaN</td>\n",
       "      <td>PAGE</td>\n",
       "    </tr>\n",
       "    <tr>\n",
       "      <th>4</th>\n",
       "      <td>NaN</td>\n",
       "      <td>shop.googlemerchandisestore.com/google+redesig...</td>\n",
       "      <td>shop.googlemerchandisestore.com/home</td>\n",
       "      <td>0</td>\n",
       "      <td>shop.googlemerchandisestore.com/home</td>\n",
       "      <td>NaN</td>\n",
       "      <td>(not set)</td>\n",
       "      <td>(not set)</td>\n",
       "      <td>(not set)</td>\n",
       "      <td>(not set)</td>\n",
       "      <td>...</td>\n",
       "      <td>[]</td>\n",
       "      <td>https://www.google.com.mx/</td>\n",
       "      <td>NaN</td>\n",
       "      <td>No</td>\n",
       "      <td>:</td>\n",
       "      <td>(not set)</td>\n",
       "      <td>0</td>\n",
       "      <td>NaN</td>\n",
       "      <td>NaN</td>\n",
       "      <td>PAGE</td>\n",
       "    </tr>\n",
       "  </tbody>\n",
       "</table>\n",
       "<p>5 rows × 64 columns</p>\n",
       "</div>"
      ],
      "text/plain": [
       "   appInfo                             appInfo.exitScreenName  \\\n",
       "0      NaN  shop.googlemerchandisestore.com/google+redesig...   \n",
       "1      NaN       shop.googlemerchandisestore.com/asearch.html   \n",
       "2      NaN  shop.googlemerchandisestore.com/google+redesig...   \n",
       "3      NaN  shop.googlemerchandisestore.com/google+redesig...   \n",
       "4      NaN  shop.googlemerchandisestore.com/google+redesig...   \n",
       "\n",
       "                           appInfo.landingScreenName appInfo.screenDepth  \\\n",
       "0  shop.googlemerchandisestore.com/google+redesig...                   0   \n",
       "1               shop.googlemerchandisestore.com/home                   0   \n",
       "2               shop.googlemerchandisestore.com/home                   0   \n",
       "3               shop.googlemerchandisestore.com/home                   0   \n",
       "4               shop.googlemerchandisestore.com/home                   0   \n",
       "\n",
       "                                  appInfo.screenName  contentGroup  \\\n",
       "0  shop.googlemerchandisestore.com/google+redesig...           NaN   \n",
       "1               shop.googlemerchandisestore.com/home           NaN   \n",
       "2               shop.googlemerchandisestore.com/home           NaN   \n",
       "3               shop.googlemerchandisestore.com/home           NaN   \n",
       "4               shop.googlemerchandisestore.com/home           NaN   \n",
       "\n",
       "  contentGroup.contentGroup1 contentGroup.contentGroup2  \\\n",
       "0                  (not set)                       Bags   \n",
       "1                  (not set)                  (not set)   \n",
       "2                  (not set)                  (not set)   \n",
       "3                  (not set)                  (not set)   \n",
       "4                  (not set)                  (not set)   \n",
       "\n",
       "  contentGroup.contentGroup3 contentGroup.contentGroup4  ...  publisher_infos  \\\n",
       "0                  (not set)                  (not set)  ...               []   \n",
       "1                  (not set)                  (not set)  ...               []   \n",
       "2                  (not set)                  (not set)  ...               []   \n",
       "3                  (not set)                  (not set)  ...               []   \n",
       "4                  (not set)                  (not set)  ...               []   \n",
       "\n",
       "                                             referer social  \\\n",
       "0  https://www.google.co.uk/search?q=water+bottle...    NaN   \n",
       "1  https://sites.google.com/a/google.com/transpor...    NaN   \n",
       "2            https://www.googlemerchandisestore.com/    NaN   \n",
       "3                         https://www.google.com.tr/    NaN   \n",
       "4                         https://www.google.com.mx/    NaN   \n",
       "\n",
       "  social.hasSocialSourceReferral social.socialInteractionNetworkAction  \\\n",
       "0                             No                                    :    \n",
       "1                             No                                    :    \n",
       "2                             No                                    :    \n",
       "3                             No                                    :    \n",
       "4                             No                                    :    \n",
       "\n",
       "  social.socialNetwork time transaction transaction.currencyCode  type  \n",
       "0            (not set)    0         NaN                      USD  PAGE  \n",
       "1            (not set)    0         NaN                      NaN  PAGE  \n",
       "2            (not set)    0         NaN                      NaN  PAGE  \n",
       "3            (not set)    0         NaN                      NaN  PAGE  \n",
       "4            (not set)    0         NaN                      NaN  PAGE  \n",
       "\n",
       "[5 rows x 64 columns]"
      ]
     },
     "execution_count": 25,
     "metadata": {},
     "output_type": "execute_result"
    }
   ],
   "source": [
    "hits.head()"
   ]
  },
  {
   "cell_type": "code",
   "execution_count": 26,
   "metadata": {},
   "outputs": [
    {
     "name": "stdout",
     "output_type": "stream",
     "text": [
      "<class 'pandas.core.frame.DataFrame'>\n",
      "RangeIndex: 20000 entries, 0 to 19999\n",
      "Data columns (total 64 columns):\n",
      "appInfo                                  0 non-null float64\n",
      "appInfo.exitScreenName                   19994 non-null object\n",
      "appInfo.landingScreenName                19994 non-null object\n",
      "appInfo.screenDepth                      19994 non-null object\n",
      "appInfo.screenName                       19994 non-null object\n",
      "contentGroup                             0 non-null float64\n",
      "contentGroup.contentGroup1               19994 non-null object\n",
      "contentGroup.contentGroup2               19994 non-null object\n",
      "contentGroup.contentGroup3               19994 non-null object\n",
      "contentGroup.contentGroup4               19994 non-null object\n",
      "contentGroup.contentGroup5               19994 non-null object\n",
      "contentGroup.contentGroupUniqueViews1    80 non-null object\n",
      "contentGroup.contentGroupUniqueViews2    7069 non-null object\n",
      "contentGroup.contentGroupUniqueViews3    561 non-null object\n",
      "contentGroup.previousContentGroup1       19994 non-null object\n",
      "contentGroup.previousContentGroup2       19994 non-null object\n",
      "contentGroup.previousContentGroup3       19994 non-null object\n",
      "contentGroup.previousContentGroup4       19994 non-null object\n",
      "contentGroup.previousContentGroup5       19994 non-null object\n",
      "customDimensions                         19994 non-null object\n",
      "customMetrics                            19994 non-null object\n",
      "customVariables                          19994 non-null object\n",
      "dataSource                               11214 non-null object\n",
      "eCommerceAction                          0 non-null float64\n",
      "eCommerceAction.action_type              19994 non-null object\n",
      "eCommerceAction.step                     19994 non-null object\n",
      "eventInfo.eventAction                    44 non-null object\n",
      "eventInfo.eventCategory                  44 non-null object\n",
      "eventInfo.eventLabel                     26 non-null object\n",
      "exceptionInfo                            0 non-null float64\n",
      "exceptionInfo.isFatal                    19994 non-null object\n",
      "experiment                               19994 non-null object\n",
      "hitNumber                                19994 non-null object\n",
      "hour                                     19994 non-null object\n",
      "isEntrance                               19950 non-null object\n",
      "isExit                                   9913 non-null object\n",
      "isInteraction                            19994 non-null object\n",
      "item                                     0 non-null float64\n",
      "item.currencyCode                        6971 non-null object\n",
      "minute                                   19994 non-null object\n",
      "page                                     0 non-null float64\n",
      "page.hostname                            19994 non-null object\n",
      "page.pagePath                            19994 non-null object\n",
      "page.pagePathLevel1                      19994 non-null object\n",
      "page.pagePathLevel2                      19994 non-null object\n",
      "page.pagePathLevel3                      19994 non-null object\n",
      "page.pagePathLevel4                      19994 non-null object\n",
      "page.pageTitle                           19994 non-null object\n",
      "page.searchCategory                      14 non-null object\n",
      "page.searchKeyword                       14 non-null object\n",
      "product                                  19994 non-null object\n",
      "promotion                                19994 non-null object\n",
      "promotionActionInfo.promoIsClick         5 non-null object\n",
      "promotionActionInfo.promoIsView          5670 non-null object\n",
      "publisher_infos                          19994 non-null object\n",
      "referer                                  15108 non-null object\n",
      "social                                   0 non-null float64\n",
      "social.hasSocialSourceReferral           19994 non-null object\n",
      "social.socialInteractionNetworkAction    19994 non-null object\n",
      "social.socialNetwork                     19994 non-null object\n",
      "time                                     19994 non-null object\n",
      "transaction                              0 non-null float64\n",
      "transaction.currencyCode                 6971 non-null object\n",
      "type                                     19994 non-null object\n",
      "dtypes: float64(8), object(56)\n",
      "memory usage: 9.8+ MB\n"
     ]
    }
   ],
   "source": [
    "hits.info()"
   ]
  },
  {
   "cell_type": "code",
   "execution_count": 27,
   "metadata": {},
   "outputs": [
    {
     "data": {
      "text/plain": [
       "array(['1', '2', '13', '7', '3', '9', '32', nan, '8', '20', '10', '16',\n",
       "       '5', '6'], dtype=object)"
      ]
     },
     "execution_count": 27,
     "metadata": {},
     "output_type": "execute_result"
    }
   ],
   "source": [
    "hits['hitNumber'].unique()"
   ]
  },
  {
   "cell_type": "markdown",
   "metadata": {},
   "source": [
    "The goal is to predict the total transaction revenue, so I will only use the hitNumber columns to run my model after scanning through the columns' names in the hits table. The value of hitNumber needs to be converted to integer."
   ]
  },
  {
   "cell_type": "code",
   "execution_count": 28,
   "metadata": {},
   "outputs": [],
   "source": [
    "hits['hitNumber'] = hits['hitNumber'].apply(lambda x: x if pd.isnull(x) else int(x))"
   ]
  },
  {
   "cell_type": "markdown",
   "metadata": {},
   "source": [
    "Then fill the NaN value with 0"
   ]
  },
  {
   "cell_type": "code",
   "execution_count": 29,
   "metadata": {},
   "outputs": [],
   "source": [
    "hits['hitNumber'].fillna(0, inplace=True)"
   ]
  },
  {
   "cell_type": "markdown",
   "metadata": {},
   "source": [
    "### Transform geoNetwork, device and trafficSource to dataframe"
   ]
  },
  {
   "cell_type": "markdown",
   "metadata": {},
   "source": [
    "##### geoNetwork"
   ]
  },
  {
   "cell_type": "code",
   "execution_count": 30,
   "metadata": {},
   "outputs": [],
   "source": [
    "geo_Network = json_normalize(df['geoNetwork'].apply(eval))"
   ]
  },
  {
   "cell_type": "code",
   "execution_count": 31,
   "metadata": {},
   "outputs": [
    {
     "data": {
      "text/html": [
       "<div>\n",
       "<style scoped>\n",
       "    .dataframe tbody tr th:only-of-type {\n",
       "        vertical-align: middle;\n",
       "    }\n",
       "\n",
       "    .dataframe tbody tr th {\n",
       "        vertical-align: top;\n",
       "    }\n",
       "\n",
       "    .dataframe thead th {\n",
       "        text-align: right;\n",
       "    }\n",
       "</style>\n",
       "<table border=\"1\" class=\"dataframe\">\n",
       "  <thead>\n",
       "    <tr style=\"text-align: right;\">\n",
       "      <th></th>\n",
       "      <th>city</th>\n",
       "      <th>cityId</th>\n",
       "      <th>continent</th>\n",
       "      <th>country</th>\n",
       "      <th>latitude</th>\n",
       "      <th>longitude</th>\n",
       "      <th>metro</th>\n",
       "      <th>networkDomain</th>\n",
       "      <th>networkLocation</th>\n",
       "      <th>region</th>\n",
       "      <th>subContinent</th>\n",
       "    </tr>\n",
       "  </thead>\n",
       "  <tbody>\n",
       "    <tr>\n",
       "      <th>0</th>\n",
       "      <td>not available in demo dataset</td>\n",
       "      <td>not available in demo dataset</td>\n",
       "      <td>Europe</td>\n",
       "      <td>Germany</td>\n",
       "      <td>not available in demo dataset</td>\n",
       "      <td>not available in demo dataset</td>\n",
       "      <td>not available in demo dataset</td>\n",
       "      <td>(not set)</td>\n",
       "      <td>not available in demo dataset</td>\n",
       "      <td>not available in demo dataset</td>\n",
       "      <td>Western Europe</td>\n",
       "    </tr>\n",
       "    <tr>\n",
       "      <th>1</th>\n",
       "      <td>Cupertino</td>\n",
       "      <td>not available in demo dataset</td>\n",
       "      <td>Americas</td>\n",
       "      <td>United States</td>\n",
       "      <td>not available in demo dataset</td>\n",
       "      <td>not available in demo dataset</td>\n",
       "      <td>San Francisco-Oakland-San Jose CA</td>\n",
       "      <td>(not set)</td>\n",
       "      <td>not available in demo dataset</td>\n",
       "      <td>California</td>\n",
       "      <td>Northern America</td>\n",
       "    </tr>\n",
       "    <tr>\n",
       "      <th>2</th>\n",
       "      <td>not available in demo dataset</td>\n",
       "      <td>not available in demo dataset</td>\n",
       "      <td>Americas</td>\n",
       "      <td>United States</td>\n",
       "      <td>not available in demo dataset</td>\n",
       "      <td>not available in demo dataset</td>\n",
       "      <td>not available in demo dataset</td>\n",
       "      <td>windjammercable.net</td>\n",
       "      <td>not available in demo dataset</td>\n",
       "      <td>not available in demo dataset</td>\n",
       "      <td>Northern America</td>\n",
       "    </tr>\n",
       "    <tr>\n",
       "      <th>3</th>\n",
       "      <td>not available in demo dataset</td>\n",
       "      <td>not available in demo dataset</td>\n",
       "      <td>Asia</td>\n",
       "      <td>Turkey</td>\n",
       "      <td>not available in demo dataset</td>\n",
       "      <td>not available in demo dataset</td>\n",
       "      <td>not available in demo dataset</td>\n",
       "      <td>unknown.unknown</td>\n",
       "      <td>not available in demo dataset</td>\n",
       "      <td>not available in demo dataset</td>\n",
       "      <td>Western Asia</td>\n",
       "    </tr>\n",
       "    <tr>\n",
       "      <th>4</th>\n",
       "      <td>not available in demo dataset</td>\n",
       "      <td>not available in demo dataset</td>\n",
       "      <td>Americas</td>\n",
       "      <td>Mexico</td>\n",
       "      <td>not available in demo dataset</td>\n",
       "      <td>not available in demo dataset</td>\n",
       "      <td>not available in demo dataset</td>\n",
       "      <td>prod-infinitum.com.mx</td>\n",
       "      <td>not available in demo dataset</td>\n",
       "      <td>not available in demo dataset</td>\n",
       "      <td>Central America</td>\n",
       "    </tr>\n",
       "  </tbody>\n",
       "</table>\n",
       "</div>"
      ],
      "text/plain": [
       "                            city                         cityId continent  \\\n",
       "0  not available in demo dataset  not available in demo dataset    Europe   \n",
       "1                      Cupertino  not available in demo dataset  Americas   \n",
       "2  not available in demo dataset  not available in demo dataset  Americas   \n",
       "3  not available in demo dataset  not available in demo dataset      Asia   \n",
       "4  not available in demo dataset  not available in demo dataset  Americas   \n",
       "\n",
       "         country                       latitude  \\\n",
       "0        Germany  not available in demo dataset   \n",
       "1  United States  not available in demo dataset   \n",
       "2  United States  not available in demo dataset   \n",
       "3         Turkey  not available in demo dataset   \n",
       "4         Mexico  not available in demo dataset   \n",
       "\n",
       "                       longitude                              metro  \\\n",
       "0  not available in demo dataset      not available in demo dataset   \n",
       "1  not available in demo dataset  San Francisco-Oakland-San Jose CA   \n",
       "2  not available in demo dataset      not available in demo dataset   \n",
       "3  not available in demo dataset      not available in demo dataset   \n",
       "4  not available in demo dataset      not available in demo dataset   \n",
       "\n",
       "           networkDomain                networkLocation  \\\n",
       "0              (not set)  not available in demo dataset   \n",
       "1              (not set)  not available in demo dataset   \n",
       "2    windjammercable.net  not available in demo dataset   \n",
       "3        unknown.unknown  not available in demo dataset   \n",
       "4  prod-infinitum.com.mx  not available in demo dataset   \n",
       "\n",
       "                          region      subContinent  \n",
       "0  not available in demo dataset    Western Europe  \n",
       "1                     California  Northern America  \n",
       "2  not available in demo dataset  Northern America  \n",
       "3  not available in demo dataset      Western Asia  \n",
       "4  not available in demo dataset   Central America  "
      ]
     },
     "execution_count": 31,
     "metadata": {},
     "output_type": "execute_result"
    }
   ],
   "source": [
    "geo_Network.head()"
   ]
  },
  {
   "cell_type": "code",
   "execution_count": 32,
   "metadata": {},
   "outputs": [
    {
     "data": {
      "text/html": [
       "<div>\n",
       "<style scoped>\n",
       "    .dataframe tbody tr th:only-of-type {\n",
       "        vertical-align: middle;\n",
       "    }\n",
       "\n",
       "    .dataframe tbody tr th {\n",
       "        vertical-align: top;\n",
       "    }\n",
       "\n",
       "    .dataframe thead th {\n",
       "        text-align: right;\n",
       "    }\n",
       "</style>\n",
       "<table border=\"1\" class=\"dataframe\">\n",
       "  <thead>\n",
       "    <tr style=\"text-align: right;\">\n",
       "      <th></th>\n",
       "      <th>city</th>\n",
       "      <th>cityId</th>\n",
       "      <th>continent</th>\n",
       "      <th>country</th>\n",
       "      <th>latitude</th>\n",
       "      <th>longitude</th>\n",
       "      <th>metro</th>\n",
       "      <th>networkDomain</th>\n",
       "      <th>networkLocation</th>\n",
       "      <th>region</th>\n",
       "      <th>subContinent</th>\n",
       "    </tr>\n",
       "  </thead>\n",
       "  <tbody>\n",
       "    <tr>\n",
       "      <th>count</th>\n",
       "      <td>20000</td>\n",
       "      <td>20000</td>\n",
       "      <td>20000</td>\n",
       "      <td>20000</td>\n",
       "      <td>20000</td>\n",
       "      <td>20000</td>\n",
       "      <td>20000</td>\n",
       "      <td>20000</td>\n",
       "      <td>20000</td>\n",
       "      <td>20000</td>\n",
       "      <td>20000</td>\n",
       "    </tr>\n",
       "    <tr>\n",
       "      <th>unique</th>\n",
       "      <td>162</td>\n",
       "      <td>1</td>\n",
       "      <td>6</td>\n",
       "      <td>155</td>\n",
       "      <td>1</td>\n",
       "      <td>1</td>\n",
       "      <td>32</td>\n",
       "      <td>2516</td>\n",
       "      <td>1</td>\n",
       "      <td>125</td>\n",
       "      <td>22</td>\n",
       "    </tr>\n",
       "    <tr>\n",
       "      <th>top</th>\n",
       "      <td>not available in demo dataset</td>\n",
       "      <td>not available in demo dataset</td>\n",
       "      <td>Americas</td>\n",
       "      <td>United States</td>\n",
       "      <td>not available in demo dataset</td>\n",
       "      <td>not available in demo dataset</td>\n",
       "      <td>not available in demo dataset</td>\n",
       "      <td>(not set)</td>\n",
       "      <td>not available in demo dataset</td>\n",
       "      <td>not available in demo dataset</td>\n",
       "      <td>Northern America</td>\n",
       "    </tr>\n",
       "    <tr>\n",
       "      <th>freq</th>\n",
       "      <td>11342</td>\n",
       "      <td>20000</td>\n",
       "      <td>10521</td>\n",
       "      <td>8663</td>\n",
       "      <td>20000</td>\n",
       "      <td>20000</td>\n",
       "      <td>11342</td>\n",
       "      <td>5849</td>\n",
       "      <td>20000</td>\n",
       "      <td>11342</td>\n",
       "      <td>9287</td>\n",
       "    </tr>\n",
       "  </tbody>\n",
       "</table>\n",
       "</div>"
      ],
      "text/plain": [
       "                                 city                         cityId  \\\n",
       "count                           20000                          20000   \n",
       "unique                            162                              1   \n",
       "top     not available in demo dataset  not available in demo dataset   \n",
       "freq                            11342                          20000   \n",
       "\n",
       "       continent        country                       latitude  \\\n",
       "count      20000          20000                          20000   \n",
       "unique         6            155                              1   \n",
       "top     Americas  United States  not available in demo dataset   \n",
       "freq       10521           8663                          20000   \n",
       "\n",
       "                            longitude                          metro  \\\n",
       "count                           20000                          20000   \n",
       "unique                              1                             32   \n",
       "top     not available in demo dataset  not available in demo dataset   \n",
       "freq                            20000                          11342   \n",
       "\n",
       "       networkDomain                networkLocation  \\\n",
       "count          20000                          20000   \n",
       "unique          2516                              1   \n",
       "top        (not set)  not available in demo dataset   \n",
       "freq            5849                          20000   \n",
       "\n",
       "                               region      subContinent  \n",
       "count                           20000             20000  \n",
       "unique                            125                22  \n",
       "top     not available in demo dataset  Northern America  \n",
       "freq                            11342              9287  "
      ]
     },
     "execution_count": 32,
     "metadata": {},
     "output_type": "execute_result"
    }
   ],
   "source": [
    "geo_Network.describe()"
   ]
  },
  {
   "cell_type": "code",
   "execution_count": 33,
   "metadata": {
    "scrolled": true
   },
   "outputs": [
    {
     "name": "stdout",
     "output_type": "stream",
     "text": [
      "<class 'pandas.core.frame.DataFrame'>\n",
      "RangeIndex: 20000 entries, 0 to 19999\n",
      "Data columns (total 11 columns):\n",
      "city               20000 non-null object\n",
      "cityId             20000 non-null object\n",
      "continent          20000 non-null object\n",
      "country            20000 non-null object\n",
      "latitude           20000 non-null object\n",
      "longitude          20000 non-null object\n",
      "metro              20000 non-null object\n",
      "networkDomain      20000 non-null object\n",
      "networkLocation    20000 non-null object\n",
      "region             20000 non-null object\n",
      "subContinent       20000 non-null object\n",
      "dtypes: object(11)\n",
      "memory usage: 1.7+ MB\n"
     ]
    }
   ],
   "source": [
    "geo_Network.info()"
   ]
  },
  {
   "cell_type": "code",
   "execution_count": 34,
   "metadata": {},
   "outputs": [
    {
     "data": {
      "text/plain": [
       "array(['Europe', 'Americas', 'Asia', 'Oceania', '(not set)', 'Africa'],\n",
       "      dtype=object)"
      ]
     },
     "execution_count": 34,
     "metadata": {},
     "output_type": "execute_result"
    }
   ],
   "source": [
    "geo_Network.continent.unique()"
   ]
  },
  {
   "cell_type": "markdown",
   "metadata": {},
   "source": [
    "Continent will be used to predict the total revenue. I will include this in my model by turning it into one-hot vector and concatenate with df."
   ]
  },
  {
   "cell_type": "code",
   "execution_count": 35,
   "metadata": {},
   "outputs": [],
   "source": [
    "continent = pd.get_dummies(geo_Network['continent'],columns = 'continents', prefix = 'continent')"
   ]
  },
  {
   "cell_type": "code",
   "execution_count": 36,
   "metadata": {},
   "outputs": [],
   "source": [
    "##geo_Network.city.unique()"
   ]
  },
  {
   "cell_type": "markdown",
   "metadata": {},
   "source": [
    "##### device"
   ]
  },
  {
   "cell_type": "code",
   "execution_count": 37,
   "metadata": {},
   "outputs": [],
   "source": [
    "device = json_normalize(df['device'].apply(eval))"
   ]
  },
  {
   "cell_type": "code",
   "execution_count": 38,
   "metadata": {},
   "outputs": [
    {
     "data": {
      "text/html": [
       "<div>\n",
       "<style scoped>\n",
       "    .dataframe tbody tr th:only-of-type {\n",
       "        vertical-align: middle;\n",
       "    }\n",
       "\n",
       "    .dataframe tbody tr th {\n",
       "        vertical-align: top;\n",
       "    }\n",
       "\n",
       "    .dataframe thead th {\n",
       "        text-align: right;\n",
       "    }\n",
       "</style>\n",
       "<table border=\"1\" class=\"dataframe\">\n",
       "  <thead>\n",
       "    <tr style=\"text-align: right;\">\n",
       "      <th></th>\n",
       "      <th>browser</th>\n",
       "      <th>browserSize</th>\n",
       "      <th>browserVersion</th>\n",
       "      <th>deviceCategory</th>\n",
       "      <th>flashVersion</th>\n",
       "      <th>isMobile</th>\n",
       "      <th>language</th>\n",
       "      <th>mobileDeviceBranding</th>\n",
       "      <th>mobileDeviceInfo</th>\n",
       "      <th>mobileDeviceMarketingName</th>\n",
       "      <th>mobileDeviceModel</th>\n",
       "      <th>mobileInputSelector</th>\n",
       "      <th>operatingSystem</th>\n",
       "      <th>operatingSystemVersion</th>\n",
       "      <th>screenColors</th>\n",
       "      <th>screenResolution</th>\n",
       "    </tr>\n",
       "  </thead>\n",
       "  <tbody>\n",
       "    <tr>\n",
       "      <th>0</th>\n",
       "      <td>Firefox</td>\n",
       "      <td>not available in demo dataset</td>\n",
       "      <td>not available in demo dataset</td>\n",
       "      <td>desktop</td>\n",
       "      <td>not available in demo dataset</td>\n",
       "      <td>False</td>\n",
       "      <td>not available in demo dataset</td>\n",
       "      <td>not available in demo dataset</td>\n",
       "      <td>not available in demo dataset</td>\n",
       "      <td>not available in demo dataset</td>\n",
       "      <td>not available in demo dataset</td>\n",
       "      <td>not available in demo dataset</td>\n",
       "      <td>Windows</td>\n",
       "      <td>not available in demo dataset</td>\n",
       "      <td>not available in demo dataset</td>\n",
       "      <td>not available in demo dataset</td>\n",
       "    </tr>\n",
       "    <tr>\n",
       "      <th>1</th>\n",
       "      <td>Chrome</td>\n",
       "      <td>not available in demo dataset</td>\n",
       "      <td>not available in demo dataset</td>\n",
       "      <td>desktop</td>\n",
       "      <td>not available in demo dataset</td>\n",
       "      <td>False</td>\n",
       "      <td>not available in demo dataset</td>\n",
       "      <td>not available in demo dataset</td>\n",
       "      <td>not available in demo dataset</td>\n",
       "      <td>not available in demo dataset</td>\n",
       "      <td>not available in demo dataset</td>\n",
       "      <td>not available in demo dataset</td>\n",
       "      <td>Chrome OS</td>\n",
       "      <td>not available in demo dataset</td>\n",
       "      <td>not available in demo dataset</td>\n",
       "      <td>not available in demo dataset</td>\n",
       "    </tr>\n",
       "    <tr>\n",
       "      <th>2</th>\n",
       "      <td>Chrome</td>\n",
       "      <td>not available in demo dataset</td>\n",
       "      <td>not available in demo dataset</td>\n",
       "      <td>mobile</td>\n",
       "      <td>not available in demo dataset</td>\n",
       "      <td>True</td>\n",
       "      <td>not available in demo dataset</td>\n",
       "      <td>not available in demo dataset</td>\n",
       "      <td>not available in demo dataset</td>\n",
       "      <td>not available in demo dataset</td>\n",
       "      <td>not available in demo dataset</td>\n",
       "      <td>not available in demo dataset</td>\n",
       "      <td>Android</td>\n",
       "      <td>not available in demo dataset</td>\n",
       "      <td>not available in demo dataset</td>\n",
       "      <td>not available in demo dataset</td>\n",
       "    </tr>\n",
       "    <tr>\n",
       "      <th>3</th>\n",
       "      <td>Chrome</td>\n",
       "      <td>not available in demo dataset</td>\n",
       "      <td>not available in demo dataset</td>\n",
       "      <td>desktop</td>\n",
       "      <td>not available in demo dataset</td>\n",
       "      <td>False</td>\n",
       "      <td>not available in demo dataset</td>\n",
       "      <td>not available in demo dataset</td>\n",
       "      <td>not available in demo dataset</td>\n",
       "      <td>not available in demo dataset</td>\n",
       "      <td>not available in demo dataset</td>\n",
       "      <td>not available in demo dataset</td>\n",
       "      <td>Windows</td>\n",
       "      <td>not available in demo dataset</td>\n",
       "      <td>not available in demo dataset</td>\n",
       "      <td>not available in demo dataset</td>\n",
       "    </tr>\n",
       "    <tr>\n",
       "      <th>4</th>\n",
       "      <td>Chrome</td>\n",
       "      <td>not available in demo dataset</td>\n",
       "      <td>not available in demo dataset</td>\n",
       "      <td>desktop</td>\n",
       "      <td>not available in demo dataset</td>\n",
       "      <td>False</td>\n",
       "      <td>not available in demo dataset</td>\n",
       "      <td>not available in demo dataset</td>\n",
       "      <td>not available in demo dataset</td>\n",
       "      <td>not available in demo dataset</td>\n",
       "      <td>not available in demo dataset</td>\n",
       "      <td>not available in demo dataset</td>\n",
       "      <td>Windows</td>\n",
       "      <td>not available in demo dataset</td>\n",
       "      <td>not available in demo dataset</td>\n",
       "      <td>not available in demo dataset</td>\n",
       "    </tr>\n",
       "    <tr>\n",
       "      <th>5</th>\n",
       "      <td>Chrome</td>\n",
       "      <td>not available in demo dataset</td>\n",
       "      <td>not available in demo dataset</td>\n",
       "      <td>desktop</td>\n",
       "      <td>not available in demo dataset</td>\n",
       "      <td>False</td>\n",
       "      <td>not available in demo dataset</td>\n",
       "      <td>not available in demo dataset</td>\n",
       "      <td>not available in demo dataset</td>\n",
       "      <td>not available in demo dataset</td>\n",
       "      <td>not available in demo dataset</td>\n",
       "      <td>not available in demo dataset</td>\n",
       "      <td>Macintosh</td>\n",
       "      <td>not available in demo dataset</td>\n",
       "      <td>not available in demo dataset</td>\n",
       "      <td>not available in demo dataset</td>\n",
       "    </tr>\n",
       "    <tr>\n",
       "      <th>6</th>\n",
       "      <td>Chrome</td>\n",
       "      <td>not available in demo dataset</td>\n",
       "      <td>not available in demo dataset</td>\n",
       "      <td>desktop</td>\n",
       "      <td>not available in demo dataset</td>\n",
       "      <td>False</td>\n",
       "      <td>not available in demo dataset</td>\n",
       "      <td>not available in demo dataset</td>\n",
       "      <td>not available in demo dataset</td>\n",
       "      <td>not available in demo dataset</td>\n",
       "      <td>not available in demo dataset</td>\n",
       "      <td>not available in demo dataset</td>\n",
       "      <td>Macintosh</td>\n",
       "      <td>not available in demo dataset</td>\n",
       "      <td>not available in demo dataset</td>\n",
       "      <td>not available in demo dataset</td>\n",
       "    </tr>\n",
       "    <tr>\n",
       "      <th>7</th>\n",
       "      <td>Chrome</td>\n",
       "      <td>not available in demo dataset</td>\n",
       "      <td>not available in demo dataset</td>\n",
       "      <td>desktop</td>\n",
       "      <td>not available in demo dataset</td>\n",
       "      <td>False</td>\n",
       "      <td>not available in demo dataset</td>\n",
       "      <td>not available in demo dataset</td>\n",
       "      <td>not available in demo dataset</td>\n",
       "      <td>not available in demo dataset</td>\n",
       "      <td>not available in demo dataset</td>\n",
       "      <td>not available in demo dataset</td>\n",
       "      <td>Windows</td>\n",
       "      <td>not available in demo dataset</td>\n",
       "      <td>not available in demo dataset</td>\n",
       "      <td>not available in demo dataset</td>\n",
       "    </tr>\n",
       "    <tr>\n",
       "      <th>8</th>\n",
       "      <td>Chrome</td>\n",
       "      <td>not available in demo dataset</td>\n",
       "      <td>not available in demo dataset</td>\n",
       "      <td>desktop</td>\n",
       "      <td>not available in demo dataset</td>\n",
       "      <td>False</td>\n",
       "      <td>not available in demo dataset</td>\n",
       "      <td>not available in demo dataset</td>\n",
       "      <td>not available in demo dataset</td>\n",
       "      <td>not available in demo dataset</td>\n",
       "      <td>not available in demo dataset</td>\n",
       "      <td>not available in demo dataset</td>\n",
       "      <td>Macintosh</td>\n",
       "      <td>not available in demo dataset</td>\n",
       "      <td>not available in demo dataset</td>\n",
       "      <td>not available in demo dataset</td>\n",
       "    </tr>\n",
       "    <tr>\n",
       "      <th>9</th>\n",
       "      <td>Safari</td>\n",
       "      <td>not available in demo dataset</td>\n",
       "      <td>not available in demo dataset</td>\n",
       "      <td>mobile</td>\n",
       "      <td>not available in demo dataset</td>\n",
       "      <td>True</td>\n",
       "      <td>not available in demo dataset</td>\n",
       "      <td>not available in demo dataset</td>\n",
       "      <td>not available in demo dataset</td>\n",
       "      <td>not available in demo dataset</td>\n",
       "      <td>not available in demo dataset</td>\n",
       "      <td>not available in demo dataset</td>\n",
       "      <td>iOS</td>\n",
       "      <td>not available in demo dataset</td>\n",
       "      <td>not available in demo dataset</td>\n",
       "      <td>not available in demo dataset</td>\n",
       "    </tr>\n",
       "  </tbody>\n",
       "</table>\n",
       "</div>"
      ],
      "text/plain": [
       "   browser                    browserSize                 browserVersion  \\\n",
       "0  Firefox  not available in demo dataset  not available in demo dataset   \n",
       "1   Chrome  not available in demo dataset  not available in demo dataset   \n",
       "2   Chrome  not available in demo dataset  not available in demo dataset   \n",
       "3   Chrome  not available in demo dataset  not available in demo dataset   \n",
       "4   Chrome  not available in demo dataset  not available in demo dataset   \n",
       "5   Chrome  not available in demo dataset  not available in demo dataset   \n",
       "6   Chrome  not available in demo dataset  not available in demo dataset   \n",
       "7   Chrome  not available in demo dataset  not available in demo dataset   \n",
       "8   Chrome  not available in demo dataset  not available in demo dataset   \n",
       "9   Safari  not available in demo dataset  not available in demo dataset   \n",
       "\n",
       "  deviceCategory                   flashVersion  isMobile  \\\n",
       "0        desktop  not available in demo dataset     False   \n",
       "1        desktop  not available in demo dataset     False   \n",
       "2         mobile  not available in demo dataset      True   \n",
       "3        desktop  not available in demo dataset     False   \n",
       "4        desktop  not available in demo dataset     False   \n",
       "5        desktop  not available in demo dataset     False   \n",
       "6        desktop  not available in demo dataset     False   \n",
       "7        desktop  not available in demo dataset     False   \n",
       "8        desktop  not available in demo dataset     False   \n",
       "9         mobile  not available in demo dataset      True   \n",
       "\n",
       "                        language           mobileDeviceBranding  \\\n",
       "0  not available in demo dataset  not available in demo dataset   \n",
       "1  not available in demo dataset  not available in demo dataset   \n",
       "2  not available in demo dataset  not available in demo dataset   \n",
       "3  not available in demo dataset  not available in demo dataset   \n",
       "4  not available in demo dataset  not available in demo dataset   \n",
       "5  not available in demo dataset  not available in demo dataset   \n",
       "6  not available in demo dataset  not available in demo dataset   \n",
       "7  not available in demo dataset  not available in demo dataset   \n",
       "8  not available in demo dataset  not available in demo dataset   \n",
       "9  not available in demo dataset  not available in demo dataset   \n",
       "\n",
       "                mobileDeviceInfo      mobileDeviceMarketingName  \\\n",
       "0  not available in demo dataset  not available in demo dataset   \n",
       "1  not available in demo dataset  not available in demo dataset   \n",
       "2  not available in demo dataset  not available in demo dataset   \n",
       "3  not available in demo dataset  not available in demo dataset   \n",
       "4  not available in demo dataset  not available in demo dataset   \n",
       "5  not available in demo dataset  not available in demo dataset   \n",
       "6  not available in demo dataset  not available in demo dataset   \n",
       "7  not available in demo dataset  not available in demo dataset   \n",
       "8  not available in demo dataset  not available in demo dataset   \n",
       "9  not available in demo dataset  not available in demo dataset   \n",
       "\n",
       "               mobileDeviceModel            mobileInputSelector  \\\n",
       "0  not available in demo dataset  not available in demo dataset   \n",
       "1  not available in demo dataset  not available in demo dataset   \n",
       "2  not available in demo dataset  not available in demo dataset   \n",
       "3  not available in demo dataset  not available in demo dataset   \n",
       "4  not available in demo dataset  not available in demo dataset   \n",
       "5  not available in demo dataset  not available in demo dataset   \n",
       "6  not available in demo dataset  not available in demo dataset   \n",
       "7  not available in demo dataset  not available in demo dataset   \n",
       "8  not available in demo dataset  not available in demo dataset   \n",
       "9  not available in demo dataset  not available in demo dataset   \n",
       "\n",
       "  operatingSystem         operatingSystemVersion  \\\n",
       "0         Windows  not available in demo dataset   \n",
       "1       Chrome OS  not available in demo dataset   \n",
       "2         Android  not available in demo dataset   \n",
       "3         Windows  not available in demo dataset   \n",
       "4         Windows  not available in demo dataset   \n",
       "5       Macintosh  not available in demo dataset   \n",
       "6       Macintosh  not available in demo dataset   \n",
       "7         Windows  not available in demo dataset   \n",
       "8       Macintosh  not available in demo dataset   \n",
       "9             iOS  not available in demo dataset   \n",
       "\n",
       "                    screenColors               screenResolution  \n",
       "0  not available in demo dataset  not available in demo dataset  \n",
       "1  not available in demo dataset  not available in demo dataset  \n",
       "2  not available in demo dataset  not available in demo dataset  \n",
       "3  not available in demo dataset  not available in demo dataset  \n",
       "4  not available in demo dataset  not available in demo dataset  \n",
       "5  not available in demo dataset  not available in demo dataset  \n",
       "6  not available in demo dataset  not available in demo dataset  \n",
       "7  not available in demo dataset  not available in demo dataset  \n",
       "8  not available in demo dataset  not available in demo dataset  \n",
       "9  not available in demo dataset  not available in demo dataset  "
      ]
     },
     "execution_count": 38,
     "metadata": {},
     "output_type": "execute_result"
    }
   ],
   "source": [
    "device.head(10)"
   ]
  },
  {
   "cell_type": "code",
   "execution_count": 39,
   "metadata": {},
   "outputs": [
    {
     "name": "stdout",
     "output_type": "stream",
     "text": [
      "<class 'pandas.core.frame.DataFrame'>\n",
      "RangeIndex: 20000 entries, 0 to 19999\n",
      "Data columns (total 16 columns):\n",
      "browser                      20000 non-null object\n",
      "browserSize                  20000 non-null object\n",
      "browserVersion               20000 non-null object\n",
      "deviceCategory               20000 non-null object\n",
      "flashVersion                 20000 non-null object\n",
      "isMobile                     20000 non-null bool\n",
      "language                     20000 non-null object\n",
      "mobileDeviceBranding         20000 non-null object\n",
      "mobileDeviceInfo             20000 non-null object\n",
      "mobileDeviceMarketingName    20000 non-null object\n",
      "mobileDeviceModel            20000 non-null object\n",
      "mobileInputSelector          20000 non-null object\n",
      "operatingSystem              20000 non-null object\n",
      "operatingSystemVersion       20000 non-null object\n",
      "screenColors                 20000 non-null object\n",
      "screenResolution             20000 non-null object\n",
      "dtypes: bool(1), object(15)\n",
      "memory usage: 2.3+ MB\n"
     ]
    }
   ],
   "source": [
    "device.info()"
   ]
  },
  {
   "cell_type": "code",
   "execution_count": 40,
   "metadata": {},
   "outputs": [
    {
     "data": {
      "text/html": [
       "<div>\n",
       "<style scoped>\n",
       "    .dataframe tbody tr th:only-of-type {\n",
       "        vertical-align: middle;\n",
       "    }\n",
       "\n",
       "    .dataframe tbody tr th {\n",
       "        vertical-align: top;\n",
       "    }\n",
       "\n",
       "    .dataframe thead th {\n",
       "        text-align: right;\n",
       "    }\n",
       "</style>\n",
       "<table border=\"1\" class=\"dataframe\">\n",
       "  <thead>\n",
       "    <tr style=\"text-align: right;\">\n",
       "      <th></th>\n",
       "      <th>browser</th>\n",
       "      <th>browserSize</th>\n",
       "      <th>browserVersion</th>\n",
       "      <th>deviceCategory</th>\n",
       "      <th>flashVersion</th>\n",
       "      <th>isMobile</th>\n",
       "      <th>language</th>\n",
       "      <th>mobileDeviceBranding</th>\n",
       "      <th>mobileDeviceInfo</th>\n",
       "      <th>mobileDeviceMarketingName</th>\n",
       "      <th>mobileDeviceModel</th>\n",
       "      <th>mobileInputSelector</th>\n",
       "      <th>operatingSystem</th>\n",
       "      <th>operatingSystemVersion</th>\n",
       "      <th>screenColors</th>\n",
       "      <th>screenResolution</th>\n",
       "    </tr>\n",
       "  </thead>\n",
       "  <tbody>\n",
       "    <tr>\n",
       "      <th>count</th>\n",
       "      <td>20000</td>\n",
       "      <td>20000</td>\n",
       "      <td>20000</td>\n",
       "      <td>20000</td>\n",
       "      <td>20000</td>\n",
       "      <td>20000</td>\n",
       "      <td>20000</td>\n",
       "      <td>20000</td>\n",
       "      <td>20000</td>\n",
       "      <td>20000</td>\n",
       "      <td>20000</td>\n",
       "      <td>20000</td>\n",
       "      <td>20000</td>\n",
       "      <td>20000</td>\n",
       "      <td>20000</td>\n",
       "      <td>20000</td>\n",
       "    </tr>\n",
       "    <tr>\n",
       "      <th>unique</th>\n",
       "      <td>25</td>\n",
       "      <td>1</td>\n",
       "      <td>1</td>\n",
       "      <td>3</td>\n",
       "      <td>1</td>\n",
       "      <td>2</td>\n",
       "      <td>1</td>\n",
       "      <td>1</td>\n",
       "      <td>1</td>\n",
       "      <td>1</td>\n",
       "      <td>1</td>\n",
       "      <td>1</td>\n",
       "      <td>16</td>\n",
       "      <td>1</td>\n",
       "      <td>1</td>\n",
       "      <td>1</td>\n",
       "    </tr>\n",
       "    <tr>\n",
       "      <th>top</th>\n",
       "      <td>Chrome</td>\n",
       "      <td>not available in demo dataset</td>\n",
       "      <td>not available in demo dataset</td>\n",
       "      <td>desktop</td>\n",
       "      <td>not available in demo dataset</td>\n",
       "      <td>False</td>\n",
       "      <td>not available in demo dataset</td>\n",
       "      <td>not available in demo dataset</td>\n",
       "      <td>not available in demo dataset</td>\n",
       "      <td>not available in demo dataset</td>\n",
       "      <td>not available in demo dataset</td>\n",
       "      <td>not available in demo dataset</td>\n",
       "      <td>Windows</td>\n",
       "      <td>not available in demo dataset</td>\n",
       "      <td>not available in demo dataset</td>\n",
       "      <td>not available in demo dataset</td>\n",
       "    </tr>\n",
       "    <tr>\n",
       "      <th>freq</th>\n",
       "      <td>13978</td>\n",
       "      <td>20000</td>\n",
       "      <td>20000</td>\n",
       "      <td>13988</td>\n",
       "      <td>20000</td>\n",
       "      <td>13985</td>\n",
       "      <td>20000</td>\n",
       "      <td>20000</td>\n",
       "      <td>20000</td>\n",
       "      <td>20000</td>\n",
       "      <td>20000</td>\n",
       "      <td>20000</td>\n",
       "      <td>7651</td>\n",
       "      <td>20000</td>\n",
       "      <td>20000</td>\n",
       "      <td>20000</td>\n",
       "    </tr>\n",
       "  </tbody>\n",
       "</table>\n",
       "</div>"
      ],
      "text/plain": [
       "       browser                    browserSize                 browserVersion  \\\n",
       "count    20000                          20000                          20000   \n",
       "unique      25                              1                              1   \n",
       "top     Chrome  not available in demo dataset  not available in demo dataset   \n",
       "freq     13978                          20000                          20000   \n",
       "\n",
       "       deviceCategory                   flashVersion isMobile  \\\n",
       "count           20000                          20000    20000   \n",
       "unique              3                              1        2   \n",
       "top           desktop  not available in demo dataset    False   \n",
       "freq            13988                          20000    13985   \n",
       "\n",
       "                             language           mobileDeviceBranding  \\\n",
       "count                           20000                          20000   \n",
       "unique                              1                              1   \n",
       "top     not available in demo dataset  not available in demo dataset   \n",
       "freq                            20000                          20000   \n",
       "\n",
       "                     mobileDeviceInfo      mobileDeviceMarketingName  \\\n",
       "count                           20000                          20000   \n",
       "unique                              1                              1   \n",
       "top     not available in demo dataset  not available in demo dataset   \n",
       "freq                            20000                          20000   \n",
       "\n",
       "                    mobileDeviceModel            mobileInputSelector  \\\n",
       "count                           20000                          20000   \n",
       "unique                              1                              1   \n",
       "top     not available in demo dataset  not available in demo dataset   \n",
       "freq                            20000                          20000   \n",
       "\n",
       "       operatingSystem         operatingSystemVersion  \\\n",
       "count            20000                          20000   \n",
       "unique              16                              1   \n",
       "top            Windows  not available in demo dataset   \n",
       "freq              7651                          20000   \n",
       "\n",
       "                         screenColors               screenResolution  \n",
       "count                           20000                          20000  \n",
       "unique                              1                              1  \n",
       "top     not available in demo dataset  not available in demo dataset  \n",
       "freq                            20000                          20000  "
      ]
     },
     "execution_count": 40,
     "metadata": {},
     "output_type": "execute_result"
    }
   ],
   "source": [
    "device.describe()"
   ]
  },
  {
   "cell_type": "markdown",
   "metadata": {},
   "source": [
    "deviceCategory and isMobile will be used to predict the total revenue. Even though, browser and operatingSystem store some information that can be useful to predict total revenue, both columns have nearly 50% missing data. Furthermore, there are many labels in each columns. Since I intend to use KNN Regressor and Linear Regression, I have to use one-hot vector to transform these columns and this is not a good idea. Except the four mentionded columns, other columns do not have any variation, that's why I excluded them."
   ]
  },
  {
   "cell_type": "code",
   "execution_count": 41,
   "metadata": {},
   "outputs": [],
   "source": [
    "deviceCategory = pd.get_dummies(device['deviceCategory'],columns = 'deviceCategory', prefix = 'deviceCategory')"
   ]
  },
  {
   "cell_type": "code",
   "execution_count": 42,
   "metadata": {},
   "outputs": [],
   "source": [
    "isMobile =  pd.get_dummies(device['isMobile'],columns = 'isMobile', prefix = 'isMobile')"
   ]
  },
  {
   "cell_type": "markdown",
   "metadata": {},
   "source": [
    "##### trafficSource"
   ]
  },
  {
   "cell_type": "code",
   "execution_count": 43,
   "metadata": {},
   "outputs": [],
   "source": [
    "trafficSource = json_normalize(df['trafficSource'].apply(eval))"
   ]
  },
  {
   "cell_type": "code",
   "execution_count": 44,
   "metadata": {},
   "outputs": [
    {
     "data": {
      "text/html": [
       "<div>\n",
       "<style scoped>\n",
       "    .dataframe tbody tr th:only-of-type {\n",
       "        vertical-align: middle;\n",
       "    }\n",
       "\n",
       "    .dataframe tbody tr th {\n",
       "        vertical-align: top;\n",
       "    }\n",
       "\n",
       "    .dataframe thead th {\n",
       "        text-align: right;\n",
       "    }\n",
       "</style>\n",
       "<table border=\"1\" class=\"dataframe\">\n",
       "  <thead>\n",
       "    <tr style=\"text-align: right;\">\n",
       "      <th></th>\n",
       "      <th>adContent</th>\n",
       "      <th>adwordsClickInfo.adNetworkType</th>\n",
       "      <th>adwordsClickInfo.criteriaParameters</th>\n",
       "      <th>adwordsClickInfo.gclId</th>\n",
       "      <th>adwordsClickInfo.isVideoAd</th>\n",
       "      <th>adwordsClickInfo.page</th>\n",
       "      <th>adwordsClickInfo.slot</th>\n",
       "      <th>campaign</th>\n",
       "      <th>isTrueDirect</th>\n",
       "      <th>keyword</th>\n",
       "      <th>medium</th>\n",
       "      <th>referralPath</th>\n",
       "      <th>source</th>\n",
       "    </tr>\n",
       "  </thead>\n",
       "  <tbody>\n",
       "    <tr>\n",
       "      <th>0</th>\n",
       "      <td>NaN</td>\n",
       "      <td>NaN</td>\n",
       "      <td>not available in demo dataset</td>\n",
       "      <td>NaN</td>\n",
       "      <td>NaN</td>\n",
       "      <td>NaN</td>\n",
       "      <td>NaN</td>\n",
       "      <td>(not set)</td>\n",
       "      <td>NaN</td>\n",
       "      <td>water bottle</td>\n",
       "      <td>organic</td>\n",
       "      <td>NaN</td>\n",
       "      <td>google</td>\n",
       "    </tr>\n",
       "    <tr>\n",
       "      <th>1</th>\n",
       "      <td>NaN</td>\n",
       "      <td>NaN</td>\n",
       "      <td>not available in demo dataset</td>\n",
       "      <td>NaN</td>\n",
       "      <td>NaN</td>\n",
       "      <td>NaN</td>\n",
       "      <td>NaN</td>\n",
       "      <td>(not set)</td>\n",
       "      <td>NaN</td>\n",
       "      <td>NaN</td>\n",
       "      <td>referral</td>\n",
       "      <td>/a/google.com/transportation/mtv-services/bike...</td>\n",
       "      <td>sites.google.com</td>\n",
       "    </tr>\n",
       "    <tr>\n",
       "      <th>2</th>\n",
       "      <td>NaN</td>\n",
       "      <td>NaN</td>\n",
       "      <td>not available in demo dataset</td>\n",
       "      <td>NaN</td>\n",
       "      <td>NaN</td>\n",
       "      <td>NaN</td>\n",
       "      <td>NaN</td>\n",
       "      <td>(not set)</td>\n",
       "      <td>True</td>\n",
       "      <td>NaN</td>\n",
       "      <td>(none)</td>\n",
       "      <td>NaN</td>\n",
       "      <td>(direct)</td>\n",
       "    </tr>\n",
       "    <tr>\n",
       "      <th>3</th>\n",
       "      <td>NaN</td>\n",
       "      <td>NaN</td>\n",
       "      <td>not available in demo dataset</td>\n",
       "      <td>NaN</td>\n",
       "      <td>NaN</td>\n",
       "      <td>NaN</td>\n",
       "      <td>NaN</td>\n",
       "      <td>(not set)</td>\n",
       "      <td>NaN</td>\n",
       "      <td>(not provided)</td>\n",
       "      <td>organic</td>\n",
       "      <td>NaN</td>\n",
       "      <td>google</td>\n",
       "    </tr>\n",
       "    <tr>\n",
       "      <th>4</th>\n",
       "      <td>NaN</td>\n",
       "      <td>NaN</td>\n",
       "      <td>not available in demo dataset</td>\n",
       "      <td>NaN</td>\n",
       "      <td>NaN</td>\n",
       "      <td>NaN</td>\n",
       "      <td>NaN</td>\n",
       "      <td>(not set)</td>\n",
       "      <td>NaN</td>\n",
       "      <td>(not provided)</td>\n",
       "      <td>organic</td>\n",
       "      <td>NaN</td>\n",
       "      <td>google</td>\n",
       "    </tr>\n",
       "  </tbody>\n",
       "</table>\n",
       "</div>"
      ],
      "text/plain": [
       "  adContent adwordsClickInfo.adNetworkType  \\\n",
       "0       NaN                            NaN   \n",
       "1       NaN                            NaN   \n",
       "2       NaN                            NaN   \n",
       "3       NaN                            NaN   \n",
       "4       NaN                            NaN   \n",
       "\n",
       "  adwordsClickInfo.criteriaParameters adwordsClickInfo.gclId  \\\n",
       "0       not available in demo dataset                    NaN   \n",
       "1       not available in demo dataset                    NaN   \n",
       "2       not available in demo dataset                    NaN   \n",
       "3       not available in demo dataset                    NaN   \n",
       "4       not available in demo dataset                    NaN   \n",
       "\n",
       "  adwordsClickInfo.isVideoAd adwordsClickInfo.page adwordsClickInfo.slot  \\\n",
       "0                        NaN                   NaN                   NaN   \n",
       "1                        NaN                   NaN                   NaN   \n",
       "2                        NaN                   NaN                   NaN   \n",
       "3                        NaN                   NaN                   NaN   \n",
       "4                        NaN                   NaN                   NaN   \n",
       "\n",
       "    campaign isTrueDirect         keyword    medium  \\\n",
       "0  (not set)          NaN    water bottle   organic   \n",
       "1  (not set)          NaN             NaN  referral   \n",
       "2  (not set)         True             NaN    (none)   \n",
       "3  (not set)          NaN  (not provided)   organic   \n",
       "4  (not set)          NaN  (not provided)   organic   \n",
       "\n",
       "                                        referralPath            source  \n",
       "0                                                NaN            google  \n",
       "1  /a/google.com/transportation/mtv-services/bike...  sites.google.com  \n",
       "2                                                NaN          (direct)  \n",
       "3                                                NaN            google  \n",
       "4                                                NaN            google  "
      ]
     },
     "execution_count": 44,
     "metadata": {},
     "output_type": "execute_result"
    }
   ],
   "source": [
    "trafficSource.head()"
   ]
  },
  {
   "cell_type": "code",
   "execution_count": 45,
   "metadata": {},
   "outputs": [
    {
     "name": "stdout",
     "output_type": "stream",
     "text": [
      "<class 'pandas.core.frame.DataFrame'>\n",
      "RangeIndex: 20000 entries, 0 to 19999\n",
      "Data columns (total 13 columns):\n",
      "adContent                              521 non-null object\n",
      "adwordsClickInfo.adNetworkType         630 non-null object\n",
      "adwordsClickInfo.criteriaParameters    20000 non-null object\n",
      "adwordsClickInfo.gclId                 633 non-null object\n",
      "adwordsClickInfo.isVideoAd             630 non-null object\n",
      "adwordsClickInfo.page                  630 non-null object\n",
      "adwordsClickInfo.slot                  630 non-null object\n",
      "campaign                               20000 non-null object\n",
      "isTrueDirect                           6333 non-null object\n",
      "keyword                                6790 non-null object\n",
      "medium                                 20000 non-null object\n",
      "referralPath                           6104 non-null object\n",
      "source                                 20000 non-null object\n",
      "dtypes: object(13)\n",
      "memory usage: 2.0+ MB\n"
     ]
    }
   ],
   "source": [
    "trafficSource.info()"
   ]
  },
  {
   "cell_type": "code",
   "execution_count": 46,
   "metadata": {},
   "outputs": [
    {
     "data": {
      "text/html": [
       "<div>\n",
       "<style scoped>\n",
       "    .dataframe tbody tr th:only-of-type {\n",
       "        vertical-align: middle;\n",
       "    }\n",
       "\n",
       "    .dataframe tbody tr th {\n",
       "        vertical-align: top;\n",
       "    }\n",
       "\n",
       "    .dataframe thead th {\n",
       "        text-align: right;\n",
       "    }\n",
       "</style>\n",
       "<table border=\"1\" class=\"dataframe\">\n",
       "  <thead>\n",
       "    <tr style=\"text-align: right;\">\n",
       "      <th></th>\n",
       "      <th>adContent</th>\n",
       "      <th>adwordsClickInfo.adNetworkType</th>\n",
       "      <th>adwordsClickInfo.criteriaParameters</th>\n",
       "      <th>adwordsClickInfo.gclId</th>\n",
       "      <th>adwordsClickInfo.isVideoAd</th>\n",
       "      <th>adwordsClickInfo.page</th>\n",
       "      <th>adwordsClickInfo.slot</th>\n",
       "      <th>campaign</th>\n",
       "      <th>isTrueDirect</th>\n",
       "      <th>keyword</th>\n",
       "      <th>medium</th>\n",
       "      <th>referralPath</th>\n",
       "      <th>source</th>\n",
       "    </tr>\n",
       "  </thead>\n",
       "  <tbody>\n",
       "    <tr>\n",
       "      <th>count</th>\n",
       "      <td>521</td>\n",
       "      <td>630</td>\n",
       "      <td>20000</td>\n",
       "      <td>633</td>\n",
       "      <td>630</td>\n",
       "      <td>630</td>\n",
       "      <td>630</td>\n",
       "      <td>20000</td>\n",
       "      <td>6333</td>\n",
       "      <td>6790</td>\n",
       "      <td>20000</td>\n",
       "      <td>6104</td>\n",
       "      <td>20000</td>\n",
       "    </tr>\n",
       "    <tr>\n",
       "      <th>unique</th>\n",
       "      <td>34</td>\n",
       "      <td>2</td>\n",
       "      <td>1</td>\n",
       "      <td>595</td>\n",
       "      <td>1</td>\n",
       "      <td>3</td>\n",
       "      <td>2</td>\n",
       "      <td>17</td>\n",
       "      <td>1</td>\n",
       "      <td>112</td>\n",
       "      <td>6</td>\n",
       "      <td>469</td>\n",
       "      <td>78</td>\n",
       "    </tr>\n",
       "    <tr>\n",
       "      <th>top</th>\n",
       "      <td>Google Merchandise Store</td>\n",
       "      <td>Google Search</td>\n",
       "      <td>not available in demo dataset</td>\n",
       "      <td>CjwKEAjw-LLKBRCdhqmwtYmX93kSJAAORDM6K_vERGGpVE...</td>\n",
       "      <td>False</td>\n",
       "      <td>1</td>\n",
       "      <td>Top</td>\n",
       "      <td>(not set)</td>\n",
       "      <td>True</td>\n",
       "      <td>(not provided)</td>\n",
       "      <td>(none)</td>\n",
       "      <td>/</td>\n",
       "      <td>(direct)</td>\n",
       "    </tr>\n",
       "    <tr>\n",
       "      <th>freq</th>\n",
       "      <td>261</td>\n",
       "      <td>364</td>\n",
       "      <td>20000</td>\n",
       "      <td>3</td>\n",
       "      <td>630</td>\n",
       "      <td>617</td>\n",
       "      <td>363</td>\n",
       "      <td>19058</td>\n",
       "      <td>6333</td>\n",
       "      <td>6131</td>\n",
       "      <td>8198</td>\n",
       "      <td>1709</td>\n",
       "      <td>8198</td>\n",
       "    </tr>\n",
       "  </tbody>\n",
       "</table>\n",
       "</div>"
      ],
      "text/plain": [
       "                       adContent adwordsClickInfo.adNetworkType  \\\n",
       "count                        521                            630   \n",
       "unique                        34                              2   \n",
       "top     Google Merchandise Store                  Google Search   \n",
       "freq                         261                            364   \n",
       "\n",
       "       adwordsClickInfo.criteriaParameters  \\\n",
       "count                                20000   \n",
       "unique                                   1   \n",
       "top          not available in demo dataset   \n",
       "freq                                 20000   \n",
       "\n",
       "                                   adwordsClickInfo.gclId  \\\n",
       "count                                                 633   \n",
       "unique                                                595   \n",
       "top     CjwKEAjw-LLKBRCdhqmwtYmX93kSJAAORDM6K_vERGGpVE...   \n",
       "freq                                                    3   \n",
       "\n",
       "       adwordsClickInfo.isVideoAd adwordsClickInfo.page adwordsClickInfo.slot  \\\n",
       "count                         630                   630                   630   \n",
       "unique                          1                     3                     2   \n",
       "top                         False                     1                   Top   \n",
       "freq                          630                   617                   363   \n",
       "\n",
       "         campaign isTrueDirect         keyword  medium referralPath    source  \n",
       "count       20000         6333            6790   20000         6104     20000  \n",
       "unique         17            1             112       6          469        78  \n",
       "top     (not set)         True  (not provided)  (none)            /  (direct)  \n",
       "freq        19058         6333            6131    8198         1709      8198  "
      ]
     },
     "execution_count": 46,
     "metadata": {},
     "output_type": "execute_result"
    }
   ],
   "source": [
    "trafficSource.describe()"
   ]
  },
  {
   "cell_type": "code",
   "execution_count": 47,
   "metadata": {},
   "outputs": [
    {
     "data": {
      "text/plain": [
       "array(['organic', 'referral', '(none)', 'cpc', 'affiliate', 'cpm'],\n",
       "      dtype=object)"
      ]
     },
     "execution_count": 47,
     "metadata": {},
     "output_type": "execute_result"
    }
   ],
   "source": [
    "trafficSource['medium'].unique()"
   ]
  },
  {
   "cell_type": "markdown",
   "metadata": {},
   "source": [
    "trafficSource includes many columns with severe missing data (around 14000 over 20000 data points). Only medium column will be included in predicting the total revenue."
   ]
  },
  {
   "cell_type": "code",
   "execution_count": 48,
   "metadata": {},
   "outputs": [],
   "source": [
    "medium = pd.get_dummies(trafficSource['medium'],columns = 'medium', prefix = 'medium')"
   ]
  },
  {
   "cell_type": "markdown",
   "metadata": {},
   "source": [
    "### Drop the flattened columns "
   ]
  },
  {
   "cell_type": "code",
   "execution_count": 49,
   "metadata": {},
   "outputs": [],
   "source": [
    "df.drop(['customDimensions', 'device', 'geoNetwork', 'hits', 'trafficSource'],axis=1,inplace=True)"
   ]
  },
  {
   "cell_type": "markdown",
   "metadata": {},
   "source": [
    "### Concatenate the chosen columns to form the prepared dataset."
   ]
  },
  {
   "cell_type": "code",
   "execution_count": 50,
   "metadata": {},
   "outputs": [],
   "source": [
    "df = pd.concat([df,value,hits['hitNumber'],continent,deviceCategory,medium,isMobile],axis=1)"
   ]
  },
  {
   "cell_type": "code",
   "execution_count": 51,
   "metadata": {},
   "outputs": [
    {
     "data": {
      "text/html": [
       "<div>\n",
       "<style scoped>\n",
       "    .dataframe tbody tr th:only-of-type {\n",
       "        vertical-align: middle;\n",
       "    }\n",
       "\n",
       "    .dataframe tbody tr th {\n",
       "        vertical-align: top;\n",
       "    }\n",
       "\n",
       "    .dataframe thead th {\n",
       "        text-align: right;\n",
       "    }\n",
       "</style>\n",
       "<table border=\"1\" class=\"dataframe\">\n",
       "  <thead>\n",
       "    <tr style=\"text-align: right;\">\n",
       "      <th></th>\n",
       "      <th>channelGrouping</th>\n",
       "      <th>date</th>\n",
       "      <th>fullVisitorId</th>\n",
       "      <th>socialEngagementType</th>\n",
       "      <th>visitId</th>\n",
       "      <th>visitNumber</th>\n",
       "      <th>visitStartTime</th>\n",
       "      <th>totals_bounces</th>\n",
       "      <th>totals_hits</th>\n",
       "      <th>totals_newVisits</th>\n",
       "      <th>...</th>\n",
       "      <th>deviceCategory_mobile</th>\n",
       "      <th>deviceCategory_tablet</th>\n",
       "      <th>medium_(none)</th>\n",
       "      <th>medium_affiliate</th>\n",
       "      <th>medium_cpc</th>\n",
       "      <th>medium_cpm</th>\n",
       "      <th>medium_organic</th>\n",
       "      <th>medium_referral</th>\n",
       "      <th>isMobile_False</th>\n",
       "      <th>isMobile_True</th>\n",
       "    </tr>\n",
       "  </thead>\n",
       "  <tbody>\n",
       "    <tr>\n",
       "      <th>0</th>\n",
       "      <td>Organic Search</td>\n",
       "      <td>20171016</td>\n",
       "      <td>3162355547410993243</td>\n",
       "      <td>Not Socially Engaged</td>\n",
       "      <td>1508198450</td>\n",
       "      <td>1</td>\n",
       "      <td>1508198450</td>\n",
       "      <td>1.0</td>\n",
       "      <td>1</td>\n",
       "      <td>1.0</td>\n",
       "      <td>...</td>\n",
       "      <td>0</td>\n",
       "      <td>0</td>\n",
       "      <td>0</td>\n",
       "      <td>0</td>\n",
       "      <td>0</td>\n",
       "      <td>0</td>\n",
       "      <td>1</td>\n",
       "      <td>0</td>\n",
       "      <td>1</td>\n",
       "      <td>0</td>\n",
       "    </tr>\n",
       "    <tr>\n",
       "      <th>1</th>\n",
       "      <td>Referral</td>\n",
       "      <td>20171016</td>\n",
       "      <td>8934116514970143966</td>\n",
       "      <td>Not Socially Engaged</td>\n",
       "      <td>1508176307</td>\n",
       "      <td>6</td>\n",
       "      <td>1508176307</td>\n",
       "      <td>NaN</td>\n",
       "      <td>2</td>\n",
       "      <td>NaN</td>\n",
       "      <td>...</td>\n",
       "      <td>0</td>\n",
       "      <td>0</td>\n",
       "      <td>0</td>\n",
       "      <td>0</td>\n",
       "      <td>0</td>\n",
       "      <td>0</td>\n",
       "      <td>0</td>\n",
       "      <td>1</td>\n",
       "      <td>1</td>\n",
       "      <td>0</td>\n",
       "    </tr>\n",
       "    <tr>\n",
       "      <th>2</th>\n",
       "      <td>Direct</td>\n",
       "      <td>20171016</td>\n",
       "      <td>7992466427990357681</td>\n",
       "      <td>Not Socially Engaged</td>\n",
       "      <td>1508201613</td>\n",
       "      <td>1</td>\n",
       "      <td>1508201613</td>\n",
       "      <td>NaN</td>\n",
       "      <td>2</td>\n",
       "      <td>1.0</td>\n",
       "      <td>...</td>\n",
       "      <td>1</td>\n",
       "      <td>0</td>\n",
       "      <td>1</td>\n",
       "      <td>0</td>\n",
       "      <td>0</td>\n",
       "      <td>0</td>\n",
       "      <td>0</td>\n",
       "      <td>0</td>\n",
       "      <td>0</td>\n",
       "      <td>1</td>\n",
       "    </tr>\n",
       "    <tr>\n",
       "      <th>3</th>\n",
       "      <td>Organic Search</td>\n",
       "      <td>20171016</td>\n",
       "      <td>9075655783635761930</td>\n",
       "      <td>Not Socially Engaged</td>\n",
       "      <td>1508169851</td>\n",
       "      <td>1</td>\n",
       "      <td>1508169851</td>\n",
       "      <td>NaN</td>\n",
       "      <td>2</td>\n",
       "      <td>1.0</td>\n",
       "      <td>...</td>\n",
       "      <td>0</td>\n",
       "      <td>0</td>\n",
       "      <td>0</td>\n",
       "      <td>0</td>\n",
       "      <td>0</td>\n",
       "      <td>0</td>\n",
       "      <td>1</td>\n",
       "      <td>0</td>\n",
       "      <td>1</td>\n",
       "      <td>0</td>\n",
       "    </tr>\n",
       "    <tr>\n",
       "      <th>4</th>\n",
       "      <td>Organic Search</td>\n",
       "      <td>20171016</td>\n",
       "      <td>6960673291025684308</td>\n",
       "      <td>Not Socially Engaged</td>\n",
       "      <td>1508190552</td>\n",
       "      <td>1</td>\n",
       "      <td>1508190552</td>\n",
       "      <td>NaN</td>\n",
       "      <td>2</td>\n",
       "      <td>1.0</td>\n",
       "      <td>...</td>\n",
       "      <td>0</td>\n",
       "      <td>0</td>\n",
       "      <td>0</td>\n",
       "      <td>0</td>\n",
       "      <td>0</td>\n",
       "      <td>0</td>\n",
       "      <td>1</td>\n",
       "      <td>0</td>\n",
       "      <td>1</td>\n",
       "      <td>0</td>\n",
       "    </tr>\n",
       "  </tbody>\n",
       "</table>\n",
       "<p>5 rows × 41 columns</p>\n",
       "</div>"
      ],
      "text/plain": [
       "  channelGrouping      date        fullVisitorId  socialEngagementType  \\\n",
       "0  Organic Search  20171016  3162355547410993243  Not Socially Engaged   \n",
       "1        Referral  20171016  8934116514970143966  Not Socially Engaged   \n",
       "2          Direct  20171016  7992466427990357681  Not Socially Engaged   \n",
       "3  Organic Search  20171016  9075655783635761930  Not Socially Engaged   \n",
       "4  Organic Search  20171016  6960673291025684308  Not Socially Engaged   \n",
       "\n",
       "      visitId  visitNumber  visitStartTime  totals_bounces  totals_hits  \\\n",
       "0  1508198450            1      1508198450             1.0            1   \n",
       "1  1508176307            6      1508176307             NaN            2   \n",
       "2  1508201613            1      1508201613             NaN            2   \n",
       "3  1508169851            1      1508169851             NaN            2   \n",
       "4  1508190552            1      1508190552             NaN            2   \n",
       "\n",
       "   totals_newVisits      ...        deviceCategory_mobile  \\\n",
       "0               1.0      ...                            0   \n",
       "1               NaN      ...                            0   \n",
       "2               1.0      ...                            1   \n",
       "3               1.0      ...                            0   \n",
       "4               1.0      ...                            0   \n",
       "\n",
       "   deviceCategory_tablet  medium_(none)  medium_affiliate  medium_cpc  \\\n",
       "0                      0              0                 0           0   \n",
       "1                      0              0                 0           0   \n",
       "2                      0              1                 0           0   \n",
       "3                      0              0                 0           0   \n",
       "4                      0              0                 0           0   \n",
       "\n",
       "   medium_cpm  medium_organic  medium_referral  isMobile_False  isMobile_True  \n",
       "0           0               1                0               1              0  \n",
       "1           0               0                1               1              0  \n",
       "2           0               0                0               0              1  \n",
       "3           0               1                0               1              0  \n",
       "4           0               1                0               1              0  \n",
       "\n",
       "[5 rows x 41 columns]"
      ]
     },
     "execution_count": 51,
     "metadata": {},
     "output_type": "execute_result"
    }
   ],
   "source": [
    "df.head()"
   ]
  },
  {
   "cell_type": "markdown",
   "metadata": {},
   "source": [
    "Data Fields\n",
    "- fullVisitorId- A unique identifier for each user of the Google Merchandise Store.\n",
    "- channelGrouping - The channel via which the user came to the Store.\n",
    "- date - The date on which the user visited the Store.\n",
    "- device - The specifications for the device used to access the Store.\n",
    "- geoNetwork - This section contains information about the geography of the user.\n",
    "- sessionId - A unique identifier for this visit to the store.\n",
    "- socialEngagementType - Engagement type, either \"Socially Engaged\" or \"Not Socially Engaged\".\n",
    "- totals - This section contains aggregate values across the session.\n",
    "- trafficSource - This section contains information about the Traffic Source from which the session originated.\n",
    "- visitId - An identifier for this session. This is part of the value usually stored as the _utmb cookie. This is only unique to the user. For a completely unique ID, you should use a combination of fullVisitorId and visitId.\n",
    "- visitNumber - The session number for this user. If this is the first session, then this is set to 1.\n",
    "- visitStartTime - The timestamp (expressed as POSIX time).\n",
    "- hits - This row and nested fields are populated for any and all types of hits. Provides a record of all page visits.\n",
    "- customDimensions - This section contains any user-level or session-level custom dimensions that are set for a session. This is a repeated field and has an entry for each dimension that is set."
   ]
  },
  {
   "cell_type": "code",
   "execution_count": 52,
   "metadata": {},
   "outputs": [
    {
     "name": "stdout",
     "output_type": "stream",
     "text": [
      "<class 'pandas.core.frame.DataFrame'>\n",
      "RangeIndex: 20000 entries, 0 to 19999\n",
      "Data columns (total 41 columns):\n",
      "channelGrouping                   20000 non-null object\n",
      "date                              20000 non-null int64\n",
      "fullVisitorId                     20000 non-null uint64\n",
      "socialEngagementType              20000 non-null object\n",
      "visitId                           20000 non-null int64\n",
      "visitNumber                       20000 non-null int64\n",
      "visitStartTime                    20000 non-null int64\n",
      "totals_bounces                    9873 non-null float64\n",
      "totals_hits                       20000 non-null int64\n",
      "totals_newVisits                  15088 non-null float64\n",
      "totals_pageviews                  19999 non-null float64\n",
      "totals_sessionQualityDim          9120 non-null float64\n",
      "totals_timeOnSite                 10101 non-null float64\n",
      "totals_totalTransactionRevenue    193 non-null float64\n",
      "totals_transactionRevenue         193 non-null float64\n",
      "totals_transactions               196 non-null float64\n",
      "totals_visits                     20000 non-null int64\n",
      "value_APAC                        20000 non-null uint8\n",
      "value_Central America             20000 non-null uint8\n",
      "value_EMEA                        20000 non-null uint8\n",
      "value_North America               20000 non-null uint8\n",
      "value_South America               20000 non-null uint8\n",
      "value_unknown                     20000 non-null uint8\n",
      "hitNumber                         20000 non-null float64\n",
      "continent_(not set)               20000 non-null uint8\n",
      "continent_Africa                  20000 non-null uint8\n",
      "continent_Americas                20000 non-null uint8\n",
      "continent_Asia                    20000 non-null uint8\n",
      "continent_Europe                  20000 non-null uint8\n",
      "continent_Oceania                 20000 non-null uint8\n",
      "deviceCategory_desktop            20000 non-null uint8\n",
      "deviceCategory_mobile             20000 non-null uint8\n",
      "deviceCategory_tablet             20000 non-null uint8\n",
      "medium_(none)                     20000 non-null uint8\n",
      "medium_affiliate                  20000 non-null uint8\n",
      "medium_cpc                        20000 non-null uint8\n",
      "medium_cpm                        20000 non-null uint8\n",
      "medium_organic                    20000 non-null uint8\n",
      "medium_referral                   20000 non-null uint8\n",
      "isMobile_False                    20000 non-null uint8\n",
      "isMobile_True                     20000 non-null uint8\n",
      "dtypes: float64(9), int64(6), object(2), uint64(1), uint8(23)\n",
      "memory usage: 3.2+ MB\n"
     ]
    }
   ],
   "source": [
    "df.info()"
   ]
  },
  {
   "cell_type": "markdown",
   "metadata": {},
   "source": [
    "I assume that all the missing values were there because there was nothing to record. Thus, I will NaN with 0 for these columns: totals_transactionRevenue, totals_totalTransactionRevenue, totals_transactions, totals_bounces, totals_newVisits, totals_pageviews, totals_sessionQualityDim, totals_timeOnSite"
   ]
  },
  {
   "cell_type": "code",
   "execution_count": 53,
   "metadata": {},
   "outputs": [],
   "source": [
    "df['totals_transactionRevenue'].fillna(0, inplace=True)\n",
    "df['totals_totalTransactionRevenue'].fillna(0, inplace=True)\n",
    "df['totals_transactions'].fillna(0, inplace=True)\n",
    "df['totals_bounces'].fillna(0, inplace=True)\n",
    "df['totals_newVisits'].fillna(0, inplace=True)\n",
    "df['totals_pageviews'].fillna(0, inplace=True)\n",
    "df['totals_sessionQualityDim'].fillna(0, inplace=True)\n",
    "df['totals_timeOnSite'].fillna(0, inplace=True)"
   ]
  },
  {
   "cell_type": "code",
   "execution_count": 54,
   "metadata": {},
   "outputs": [],
   "source": [
    "grp_channel = df.groupby(['channelGrouping']).agg({'totals_transactionRevenue':np.mean,'fullVisitorId':'count'})"
   ]
  },
  {
   "cell_type": "code",
   "execution_count": 55,
   "metadata": {},
   "outputs": [
    {
     "data": {
      "text/html": [
       "<div>\n",
       "<style scoped>\n",
       "    .dataframe tbody tr th:only-of-type {\n",
       "        vertical-align: middle;\n",
       "    }\n",
       "\n",
       "    .dataframe tbody tr th {\n",
       "        vertical-align: top;\n",
       "    }\n",
       "\n",
       "    .dataframe thead th {\n",
       "        text-align: right;\n",
       "    }\n",
       "</style>\n",
       "<table border=\"1\" class=\"dataframe\">\n",
       "  <thead>\n",
       "    <tr style=\"text-align: right;\">\n",
       "      <th></th>\n",
       "      <th>totals_transactionRevenue</th>\n",
       "      <th>fullVisitorId</th>\n",
       "    </tr>\n",
       "    <tr>\n",
       "      <th>channelGrouping</th>\n",
       "      <th></th>\n",
       "      <th></th>\n",
       "    </tr>\n",
       "  </thead>\n",
       "  <tbody>\n",
       "    <tr>\n",
       "      <th>Affiliates</th>\n",
       "      <td>0.000000e+00</td>\n",
       "      <td>425</td>\n",
       "    </tr>\n",
       "    <tr>\n",
       "      <th>Direct</th>\n",
       "      <td>1.183905e+06</td>\n",
       "      <td>3047</td>\n",
       "    </tr>\n",
       "    <tr>\n",
       "      <th>Display</th>\n",
       "      <td>1.734503e+06</td>\n",
       "      <td>362</td>\n",
       "    </tr>\n",
       "    <tr>\n",
       "      <th>Organic Search</th>\n",
       "      <td>4.776182e+05</td>\n",
       "      <td>9535</td>\n",
       "    </tr>\n",
       "    <tr>\n",
       "      <th>Paid Search</th>\n",
       "      <td>1.368254e+06</td>\n",
       "      <td>527</td>\n",
       "    </tr>\n",
       "    <tr>\n",
       "      <th>Referral</th>\n",
       "      <td>4.334077e+06</td>\n",
       "      <td>2649</td>\n",
       "    </tr>\n",
       "    <tr>\n",
       "      <th>Social</th>\n",
       "      <td>0.000000e+00</td>\n",
       "      <td>3455</td>\n",
       "    </tr>\n",
       "  </tbody>\n",
       "</table>\n",
       "</div>"
      ],
      "text/plain": [
       "                 totals_transactionRevenue  fullVisitorId\n",
       "channelGrouping                                          \n",
       "Affiliates                    0.000000e+00            425\n",
       "Direct                        1.183905e+06           3047\n",
       "Display                       1.734503e+06            362\n",
       "Organic Search                4.776182e+05           9535\n",
       "Paid Search                   1.368254e+06            527\n",
       "Referral                      4.334077e+06           2649\n",
       "Social                        0.000000e+00           3455"
      ]
     },
     "execution_count": 55,
     "metadata": {},
     "output_type": "execute_result"
    }
   ],
   "source": [
    "grp_channel "
   ]
  },
  {
   "cell_type": "markdown",
   "metadata": {},
   "source": [
    "The total revenue for Affiliates and Social group are currently 0. Thus, I will drop these groups from the data (around 4000 zeros will be dropped, which can help the data becomes less unbalanced)"
   ]
  },
  {
   "cell_type": "code",
   "execution_count": 56,
   "metadata": {},
   "outputs": [],
   "source": [
    "df = df[(df['channelGrouping']=='Direct')|(df['channelGrouping']=='Display')|\n",
    "   (df['channelGrouping']=='Organic Search')|(df['channelGrouping']=='Paid Search')|(df['channelGrouping']=='Referral')]"
   ]
  },
  {
   "cell_type": "code",
   "execution_count": 57,
   "metadata": {},
   "outputs": [
    {
     "data": {
      "text/plain": [
       "array(['Organic Search', 'Referral', 'Direct', 'Paid Search', 'Display'],\n",
       "      dtype=object)"
      ]
     },
     "execution_count": 57,
     "metadata": {},
     "output_type": "execute_result"
    }
   ],
   "source": [
    "df['channelGrouping'].unique()"
   ]
  },
  {
   "cell_type": "code",
   "execution_count": 58,
   "metadata": {},
   "outputs": [],
   "source": [
    "channelGrouping = pd.get_dummies(df['channelGrouping'],columns = 'channelGrouping', prefix = 'channelGrouping')\n",
    "df.drop(['channelGrouping'],axis=1,inplace=True)\n",
    "df = pd.concat([df,channelGrouping],axis=1)"
   ]
  },
  {
   "cell_type": "code",
   "execution_count": 59,
   "metadata": {},
   "outputs": [
    {
     "name": "stdout",
     "output_type": "stream",
     "text": [
      "<class 'pandas.core.frame.DataFrame'>\n",
      "Int64Index: 16120 entries, 0 to 19999\n",
      "Data columns (total 45 columns):\n",
      "date                              16120 non-null int64\n",
      "fullVisitorId                     16120 non-null uint64\n",
      "socialEngagementType              16120 non-null object\n",
      "visitId                           16120 non-null int64\n",
      "visitNumber                       16120 non-null int64\n",
      "visitStartTime                    16120 non-null int64\n",
      "totals_bounces                    16120 non-null float64\n",
      "totals_hits                       16120 non-null int64\n",
      "totals_newVisits                  16120 non-null float64\n",
      "totals_pageviews                  16120 non-null float64\n",
      "totals_sessionQualityDim          16120 non-null float64\n",
      "totals_timeOnSite                 16120 non-null float64\n",
      "totals_totalTransactionRevenue    16120 non-null float64\n",
      "totals_transactionRevenue         16120 non-null float64\n",
      "totals_transactions               16120 non-null float64\n",
      "totals_visits                     16120 non-null int64\n",
      "value_APAC                        16120 non-null uint8\n",
      "value_Central America             16120 non-null uint8\n",
      "value_EMEA                        16120 non-null uint8\n",
      "value_North America               16120 non-null uint8\n",
      "value_South America               16120 non-null uint8\n",
      "value_unknown                     16120 non-null uint8\n",
      "hitNumber                         16120 non-null float64\n",
      "continent_(not set)               16120 non-null uint8\n",
      "continent_Africa                  16120 non-null uint8\n",
      "continent_Americas                16120 non-null uint8\n",
      "continent_Asia                    16120 non-null uint8\n",
      "continent_Europe                  16120 non-null uint8\n",
      "continent_Oceania                 16120 non-null uint8\n",
      "deviceCategory_desktop            16120 non-null uint8\n",
      "deviceCategory_mobile             16120 non-null uint8\n",
      "deviceCategory_tablet             16120 non-null uint8\n",
      "medium_(none)                     16120 non-null uint8\n",
      "medium_affiliate                  16120 non-null uint8\n",
      "medium_cpc                        16120 non-null uint8\n",
      "medium_cpm                        16120 non-null uint8\n",
      "medium_organic                    16120 non-null uint8\n",
      "medium_referral                   16120 non-null uint8\n",
      "isMobile_False                    16120 non-null uint8\n",
      "isMobile_True                     16120 non-null uint8\n",
      "channelGrouping_Direct            16120 non-null uint8\n",
      "channelGrouping_Display           16120 non-null uint8\n",
      "channelGrouping_Organic Search    16120 non-null uint8\n",
      "channelGrouping_Paid Search       16120 non-null uint8\n",
      "channelGrouping_Referral          16120 non-null uint8\n",
      "dtypes: float64(9), int64(6), object(1), uint64(1), uint8(28)\n",
      "memory usage: 2.6+ MB\n"
     ]
    }
   ],
   "source": [
    "df.info()"
   ]
  },
  {
   "cell_type": "markdown",
   "metadata": {},
   "source": [
    "Create a Revenue_check column which will take value 0 if totals_transactionRevenue = 0, otherwise it will take value 1."
   ]
  },
  {
   "cell_type": "code",
   "execution_count": 60,
   "metadata": {},
   "outputs": [],
   "source": [
    "df['Revenue_check'] = df['totals_transactionRevenue'].apply(lambda x: int(x >0))"
   ]
  },
  {
   "cell_type": "markdown",
   "metadata": {},
   "source": [
    "### Choosing which varible to be included in the target set and the feature set:"
   ]
  },
  {
   "cell_type": "markdown",
   "metadata": {},
   "source": [
    "The goal is to predict the column totals_transactionRevenue. Thus the target is:"
   ]
  },
  {
   "cell_type": "code",
   "execution_count": 61,
   "metadata": {},
   "outputs": [],
   "source": [
    "y = df['totals_transactionRevenue']"
   ]
  },
  {
   "cell_type": "markdown",
   "metadata": {},
   "source": [
    "Based on the description of the other variables, I will decide which variable are the most related to the target variable in order to predict the target variable."
   ]
  },
  {
   "cell_type": "code",
   "execution_count": 62,
   "metadata": {},
   "outputs": [
    {
     "data": {
      "text/plain": [
       "Index(['date', 'fullVisitorId', 'socialEngagementType', 'visitId',\n",
       "       'visitNumber', 'visitStartTime', 'totals_bounces', 'totals_hits',\n",
       "       'totals_newVisits', 'totals_pageviews', 'totals_sessionQualityDim',\n",
       "       'totals_timeOnSite', 'totals_totalTransactionRevenue',\n",
       "       'totals_transactionRevenue', 'totals_transactions', 'totals_visits',\n",
       "       'value_APAC', 'value_Central America', 'value_EMEA',\n",
       "       'value_North America', 'value_South America', 'value_unknown',\n",
       "       'hitNumber', 'continent_(not set)', 'continent_Africa',\n",
       "       'continent_Americas', 'continent_Asia', 'continent_Europe',\n",
       "       'continent_Oceania', 'deviceCategory_desktop', 'deviceCategory_mobile',\n",
       "       'deviceCategory_tablet', 'medium_(none)', 'medium_affiliate',\n",
       "       'medium_cpc', 'medium_cpm', 'medium_organic', 'medium_referral',\n",
       "       'isMobile_False', 'isMobile_True', 'channelGrouping_Direct',\n",
       "       'channelGrouping_Display', 'channelGrouping_Organic Search',\n",
       "       'channelGrouping_Paid Search', 'channelGrouping_Referral',\n",
       "       'Revenue_check'],\n",
       "      dtype='object')"
      ]
     },
     "execution_count": 62,
     "metadata": {},
     "output_type": "execute_result"
    }
   ],
   "source": [
    "df.columns"
   ]
  },
  {
   "cell_type": "code",
   "execution_count": 63,
   "metadata": {},
   "outputs": [
    {
     "data": {
      "text/html": [
       "<div>\n",
       "<style scoped>\n",
       "    .dataframe tbody tr th:only-of-type {\n",
       "        vertical-align: middle;\n",
       "    }\n",
       "\n",
       "    .dataframe tbody tr th {\n",
       "        vertical-align: top;\n",
       "    }\n",
       "\n",
       "    .dataframe thead th {\n",
       "        text-align: right;\n",
       "    }\n",
       "</style>\n",
       "<table border=\"1\" class=\"dataframe\">\n",
       "  <thead>\n",
       "    <tr style=\"text-align: right;\">\n",
       "      <th></th>\n",
       "      <th>date</th>\n",
       "      <th>fullVisitorId</th>\n",
       "      <th>socialEngagementType</th>\n",
       "      <th>visitId</th>\n",
       "      <th>visitNumber</th>\n",
       "      <th>visitStartTime</th>\n",
       "      <th>totals_bounces</th>\n",
       "      <th>totals_hits</th>\n",
       "      <th>totals_newVisits</th>\n",
       "      <th>totals_pageviews</th>\n",
       "      <th>...</th>\n",
       "      <th>medium_organic</th>\n",
       "      <th>medium_referral</th>\n",
       "      <th>isMobile_False</th>\n",
       "      <th>isMobile_True</th>\n",
       "      <th>channelGrouping_Direct</th>\n",
       "      <th>channelGrouping_Display</th>\n",
       "      <th>channelGrouping_Organic Search</th>\n",
       "      <th>channelGrouping_Paid Search</th>\n",
       "      <th>channelGrouping_Referral</th>\n",
       "      <th>Revenue_check</th>\n",
       "    </tr>\n",
       "  </thead>\n",
       "  <tbody>\n",
       "    <tr>\n",
       "      <th>0</th>\n",
       "      <td>20171016</td>\n",
       "      <td>3162355547410993243</td>\n",
       "      <td>Not Socially Engaged</td>\n",
       "      <td>1508198450</td>\n",
       "      <td>1</td>\n",
       "      <td>1508198450</td>\n",
       "      <td>1.0</td>\n",
       "      <td>1</td>\n",
       "      <td>1.0</td>\n",
       "      <td>1.0</td>\n",
       "      <td>...</td>\n",
       "      <td>1</td>\n",
       "      <td>0</td>\n",
       "      <td>1</td>\n",
       "      <td>0</td>\n",
       "      <td>0</td>\n",
       "      <td>0</td>\n",
       "      <td>1</td>\n",
       "      <td>0</td>\n",
       "      <td>0</td>\n",
       "      <td>0</td>\n",
       "    </tr>\n",
       "    <tr>\n",
       "      <th>1</th>\n",
       "      <td>20171016</td>\n",
       "      <td>8934116514970143966</td>\n",
       "      <td>Not Socially Engaged</td>\n",
       "      <td>1508176307</td>\n",
       "      <td>6</td>\n",
       "      <td>1508176307</td>\n",
       "      <td>0.0</td>\n",
       "      <td>2</td>\n",
       "      <td>0.0</td>\n",
       "      <td>2.0</td>\n",
       "      <td>...</td>\n",
       "      <td>0</td>\n",
       "      <td>1</td>\n",
       "      <td>1</td>\n",
       "      <td>0</td>\n",
       "      <td>0</td>\n",
       "      <td>0</td>\n",
       "      <td>0</td>\n",
       "      <td>0</td>\n",
       "      <td>1</td>\n",
       "      <td>0</td>\n",
       "    </tr>\n",
       "    <tr>\n",
       "      <th>2</th>\n",
       "      <td>20171016</td>\n",
       "      <td>7992466427990357681</td>\n",
       "      <td>Not Socially Engaged</td>\n",
       "      <td>1508201613</td>\n",
       "      <td>1</td>\n",
       "      <td>1508201613</td>\n",
       "      <td>0.0</td>\n",
       "      <td>2</td>\n",
       "      <td>1.0</td>\n",
       "      <td>2.0</td>\n",
       "      <td>...</td>\n",
       "      <td>0</td>\n",
       "      <td>0</td>\n",
       "      <td>0</td>\n",
       "      <td>1</td>\n",
       "      <td>1</td>\n",
       "      <td>0</td>\n",
       "      <td>0</td>\n",
       "      <td>0</td>\n",
       "      <td>0</td>\n",
       "      <td>0</td>\n",
       "    </tr>\n",
       "    <tr>\n",
       "      <th>3</th>\n",
       "      <td>20171016</td>\n",
       "      <td>9075655783635761930</td>\n",
       "      <td>Not Socially Engaged</td>\n",
       "      <td>1508169851</td>\n",
       "      <td>1</td>\n",
       "      <td>1508169851</td>\n",
       "      <td>0.0</td>\n",
       "      <td>2</td>\n",
       "      <td>1.0</td>\n",
       "      <td>2.0</td>\n",
       "      <td>...</td>\n",
       "      <td>1</td>\n",
       "      <td>0</td>\n",
       "      <td>1</td>\n",
       "      <td>0</td>\n",
       "      <td>0</td>\n",
       "      <td>0</td>\n",
       "      <td>1</td>\n",
       "      <td>0</td>\n",
       "      <td>0</td>\n",
       "      <td>0</td>\n",
       "    </tr>\n",
       "    <tr>\n",
       "      <th>4</th>\n",
       "      <td>20171016</td>\n",
       "      <td>6960673291025684308</td>\n",
       "      <td>Not Socially Engaged</td>\n",
       "      <td>1508190552</td>\n",
       "      <td>1</td>\n",
       "      <td>1508190552</td>\n",
       "      <td>0.0</td>\n",
       "      <td>2</td>\n",
       "      <td>1.0</td>\n",
       "      <td>2.0</td>\n",
       "      <td>...</td>\n",
       "      <td>1</td>\n",
       "      <td>0</td>\n",
       "      <td>1</td>\n",
       "      <td>0</td>\n",
       "      <td>0</td>\n",
       "      <td>0</td>\n",
       "      <td>1</td>\n",
       "      <td>0</td>\n",
       "      <td>0</td>\n",
       "      <td>0</td>\n",
       "    </tr>\n",
       "  </tbody>\n",
       "</table>\n",
       "<p>5 rows × 46 columns</p>\n",
       "</div>"
      ],
      "text/plain": [
       "       date        fullVisitorId  socialEngagementType     visitId  \\\n",
       "0  20171016  3162355547410993243  Not Socially Engaged  1508198450   \n",
       "1  20171016  8934116514970143966  Not Socially Engaged  1508176307   \n",
       "2  20171016  7992466427990357681  Not Socially Engaged  1508201613   \n",
       "3  20171016  9075655783635761930  Not Socially Engaged  1508169851   \n",
       "4  20171016  6960673291025684308  Not Socially Engaged  1508190552   \n",
       "\n",
       "   visitNumber  visitStartTime  totals_bounces  totals_hits  totals_newVisits  \\\n",
       "0            1      1508198450             1.0            1               1.0   \n",
       "1            6      1508176307             0.0            2               0.0   \n",
       "2            1      1508201613             0.0            2               1.0   \n",
       "3            1      1508169851             0.0            2               1.0   \n",
       "4            1      1508190552             0.0            2               1.0   \n",
       "\n",
       "   totals_pageviews      ...        medium_organic  medium_referral  \\\n",
       "0               1.0      ...                     1                0   \n",
       "1               2.0      ...                     0                1   \n",
       "2               2.0      ...                     0                0   \n",
       "3               2.0      ...                     1                0   \n",
       "4               2.0      ...                     1                0   \n",
       "\n",
       "   isMobile_False  isMobile_True  channelGrouping_Direct  \\\n",
       "0               1              0                       0   \n",
       "1               1              0                       0   \n",
       "2               0              1                       1   \n",
       "3               1              0                       0   \n",
       "4               1              0                       0   \n",
       "\n",
       "   channelGrouping_Display  channelGrouping_Organic Search  \\\n",
       "0                        0                               1   \n",
       "1                        0                               0   \n",
       "2                        0                               0   \n",
       "3                        0                               1   \n",
       "4                        0                               1   \n",
       "\n",
       "   channelGrouping_Paid Search  channelGrouping_Referral  Revenue_check  \n",
       "0                            0                         0              0  \n",
       "1                            0                         1              0  \n",
       "2                            0                         0              0  \n",
       "3                            0                         0              0  \n",
       "4                            0                         0              0  \n",
       "\n",
       "[5 rows x 46 columns]"
      ]
     },
     "execution_count": 63,
     "metadata": {},
     "output_type": "execute_result"
    }
   ],
   "source": [
    "df.head()"
   ]
  },
  {
   "cell_type": "markdown",
   "metadata": {},
   "source": [
    "date, fullVisitorID, visitID, visitStartTime will be excluded from the feature set."
   ]
  },
  {
   "cell_type": "code",
   "execution_count": 64,
   "metadata": {},
   "outputs": [
    {
     "data": {
      "text/plain": [
       "array(['Not Socially Engaged'], dtype=object)"
      ]
     },
     "execution_count": 64,
     "metadata": {},
     "output_type": "execute_result"
    }
   ],
   "source": [
    "df['socialEngagementType'].unique()"
   ]
  },
  {
   "cell_type": "markdown",
   "metadata": {},
   "source": [
    "socialEngagementType will also be excluded since there is no variation in this variable."
   ]
  },
  {
   "cell_type": "markdown",
   "metadata": {},
   "source": [
    "The feature set X will be:"
   ]
  },
  {
   "cell_type": "code",
   "execution_count": 65,
   "metadata": {},
   "outputs": [
    {
     "data": {
      "text/plain": [
       "array([   0.,   28.,   38., ..., 2099., 3708., 5276.])"
      ]
     },
     "execution_count": 65,
     "metadata": {},
     "output_type": "execute_result"
    }
   ],
   "source": [
    "df['totals_timeOnSite'].unique()"
   ]
  },
  {
   "cell_type": "code",
   "execution_count": 66,
   "metadata": {},
   "outputs": [
    {
     "data": {
      "text/plain": [
       "dtype('float64')"
      ]
     },
     "execution_count": 66,
     "metadata": {},
     "output_type": "execute_result"
    }
   ],
   "source": [
    "df['totals_pageviews'].dtypes"
   ]
  },
  {
   "cell_type": "code",
   "execution_count": 67,
   "metadata": {},
   "outputs": [],
   "source": [
    "X = df[['visitNumber','totals_bounces', 'totals_hits', 'totals_newVisits', 'totals_pageviews', 'totals_sessionQualityDim','totals_timeOnSite','totals_transactions', 'totals_visits',\n",
    "        'value_APAC', 'value_Central America', 'value_EMEA','value_North America', 'value_South America', 'value_unknown',\n",
    "        'hitNumber',\n",
    "        'continent_(not set)', 'continent_Africa','continent_Americas', 'continent_Asia', 'continent_Europe','continent_Oceania', \n",
    "        'deviceCategory_desktop', 'deviceCategory_mobile','deviceCategory_tablet',\n",
    "        'medium_(none)', 'medium_affiliate','medium_cpc', 'medium_cpm', 'medium_organic', 'medium_referral',\n",
    "       'channelGrouping_Direct', 'channelGrouping_Display', 'channelGrouping_Organic Search', \n",
    "        'channelGrouping_Paid Search', 'channelGrouping_Referral', 'isMobile_True','isMobile_False']]"
   ]
  },
  {
   "cell_type": "markdown",
   "metadata": {},
   "source": [
    "## Check for Data Leakage"
   ]
  },
  {
   "cell_type": "code",
   "execution_count": 68,
   "metadata": {},
   "outputs": [
    {
     "name": "stdout",
     "output_type": "stream",
     "text": [
      "[0.010407919150734085, -0.05448502150519769, 0.2662901408899433, -0.06210352069574997, 0.27487349726779564, 0.10001369541008932, 0.14634560599199029, 0.5478378515433695, nan, -0.020094555412971834, -0.005914685436130502, -0.02784126020307301, 0.052796574403364604, -0.007815060712716084, -0.02127476915156817, -0.0016991376396389357, -0.0015388050519238845, -0.005668560139326829, 0.04916571440858379, -0.02479997908558722, -0.03172376328998046, -0.008095434821325973, 0.034654520154182515, -0.03182893873200064, -0.009666974322122162, 0.031565841571247026, nan, -0.00021982435541709842, 0.017800829932557008, -0.02836387410151051, -0.013733545665159773, -0.0025824961764516004, 0.0029630745701394396, -0.04487030611033117, 0.0005491882284552748, 0.06079935694567917, -0.03467270225154891, 0.03467270225154891]\n"
     ]
    },
    {
     "name": "stderr",
     "output_type": "stream",
     "text": [
      "c:\\program files\\python\\python36\\lib\\site-packages\\numpy\\lib\\function_base.py:3183: RuntimeWarning: invalid value encountered in true_divide\n",
      "  c /= stddev[:, None]\n",
      "c:\\program files\\python\\python36\\lib\\site-packages\\numpy\\lib\\function_base.py:3184: RuntimeWarning: invalid value encountered in true_divide\n",
      "  c /= stddev[None, :]\n"
     ]
    }
   ],
   "source": [
    "feature = X.values\n",
    "target = y\n",
    "\n",
    "corr_list1 = []; \n",
    "for i in range(0,len(X.columns)):\n",
    "   corr_list1.append(np.corrcoef(feature[:,i] , target)[0,1])\n",
    "\n",
    "print(corr_list1)"
   ]
  },
  {
   "cell_type": "code",
   "execution_count": 69,
   "metadata": {},
   "outputs": [],
   "source": [
    "for i in corr_list1:\n",
    "    if i > 0.9:\n",
    "        print(i)"
   ]
  },
  {
   "cell_type": "markdown",
   "metadata": {},
   "source": [
    "No data leakage detected"
   ]
  },
  {
   "cell_type": "markdown",
   "metadata": {},
   "source": [
    "### Split and scale the dataset:"
   ]
  },
  {
   "cell_type": "code",
   "execution_count": 70,
   "metadata": {},
   "outputs": [],
   "source": [
    "from sklearn.model_selection import train_test_split\n",
    "X_train_org,X_test_org,y_train,y_test = train_test_split(X,y,test_size=.25,random_state=12)"
   ]
  },
  {
   "cell_type": "markdown",
   "metadata": {},
   "source": [
    "With the regression task, I am going to use StandardScaler to scale the dataset since StandardScaler will smooth out the outliers in the dataset and gives us better result."
   ]
  },
  {
   "cell_type": "code",
   "execution_count": 71,
   "metadata": {},
   "outputs": [],
   "source": [
    "from sklearn.preprocessing import StandardScaler ## minmax is better for classification and standard for regression\n",
    "scaler = StandardScaler()\n",
    "X_train = scaler.fit_transform(X_train_org)\n",
    "X_test = scaler.transform(X_test_org)"
   ]
  },
  {
   "cell_type": "markdown",
   "metadata": {},
   "source": [
    "# 2. Build model"
   ]
  },
  {
   "cell_type": "markdown",
   "metadata": {},
   "source": [
    "### Training models:"
   ]
  },
  {
   "cell_type": "markdown",
   "metadata": {},
   "source": [
    "Using  cross validation score with 5 folds, I will train the data with the following models: KNN Regressor, Linear Regression (normal equation), and polyniomial. Grid search will be used along side with cross validation in order to find the best parameter for each model. The average train score and test score will be calculated. Then, I will use the model with the best parameter to train the data and get the train and test score. A score report will be created at the end in order to decide which model is better. The score metrics used for regression is R-quared. The results are expected to be highly biased because of the nature of the target set."
   ]
  },
  {
   "cell_type": "markdown",
   "metadata": {},
   "source": [
    "### KNN REGRESSOR: \n",
    "We will look for the best number of neighbors among [1, 5, 10, 15, 20]__"
   ]
  },
  {
   "cell_type": "code",
   "execution_count": 72,
   "metadata": {},
   "outputs": [],
   "source": [
    "from sklearn.model_selection import GridSearchCV\n",
    "from sklearn.metrics import mean_squared_error"
   ]
  },
  {
   "cell_type": "code",
   "execution_count": 73,
   "metadata": {},
   "outputs": [
    {
     "name": "stdout",
     "output_type": "stream",
     "text": [
      "Parameter grid:\n",
      "{'n_neighbors': [1, 5, 10, 15, 20]}\n"
     ]
    }
   ],
   "source": [
    "from sklearn.neighbors import KNeighborsRegressor\n",
    "KNR = KNeighborsRegressor()\n",
    "param_grid = {'n_neighbors': [1,5,10,15,20]}\n",
    "print(\"Parameter grid:\\n{}\".format(param_grid))\n",
    "grid_KNR = GridSearchCV(KNR, param_grid, cv=5, return_train_score=True)"
   ]
  },
  {
   "cell_type": "code",
   "execution_count": 74,
   "metadata": {},
   "outputs": [
    {
     "data": {
      "text/plain": [
       "GridSearchCV(cv=5, error_score='raise',\n",
       "       estimator=KNeighborsRegressor(algorithm='auto', leaf_size=30, metric='minkowski',\n",
       "          metric_params=None, n_jobs=1, n_neighbors=5, p=2,\n",
       "          weights='uniform'),\n",
       "       fit_params=None, iid=True, n_jobs=1,\n",
       "       param_grid={'n_neighbors': [1, 5, 10, 15, 20]},\n",
       "       pre_dispatch='2*n_jobs', refit=True, return_train_score=True,\n",
       "       scoring=None, verbose=0)"
      ]
     },
     "execution_count": 74,
     "metadata": {},
     "output_type": "execute_result"
    }
   ],
   "source": [
    "grid_KNR.fit(X_train, y_train)"
   ]
  },
  {
   "cell_type": "code",
   "execution_count": 75,
   "metadata": {},
   "outputs": [
    {
     "name": "stdout",
     "output_type": "stream",
     "text": [
      "Best parameters: {'n_neighbors': 20}\n",
      "Best cross-validation score: 0.3154\n"
     ]
    }
   ],
   "source": [
    "print(\"Best parameters: {}\".format(grid_KNR.best_params_))\n",
    "print(\"Best cross-validation score: {:.4f}\".format(grid_KNR.best_score_))"
   ]
  },
  {
   "cell_type": "code",
   "execution_count": 76,
   "metadata": {},
   "outputs": [
    {
     "name": "stdout",
     "output_type": "stream",
     "text": [
      "Average train score: 0.37\n",
      "Average test score: 0.32\n"
     ]
    }
   ],
   "source": [
    "from sklearn.model_selection import cross_validate\n",
    "best_model = grid_KNR.best_estimator_\n",
    "model_score = cross_validate(best_model, X_train, y_train, cv = 5, return_train_score=True)\n",
    "print('Average train score: %.2f'%model_score['train_score'].mean())\n",
    "print('Average test score: %.2f'%model_score['test_score'].mean())"
   ]
  },
  {
   "cell_type": "code",
   "execution_count": 77,
   "metadata": {},
   "outputs": [],
   "source": [
    "Regression_report_table = [['KNN', grid_KNR.best_params_, grid_KNR.score(X_train, y_train), grid_KNR.score(X_test, y_test)]]"
   ]
  },
  {
   "cell_type": "code",
   "execution_count": 78,
   "metadata": {},
   "outputs": [
    {
     "data": {
      "text/plain": [
       "[['KNN', {'n_neighbors': 20}, 0.3674156167403323, 0.2662433028538057]]"
      ]
     },
     "execution_count": 78,
     "metadata": {},
     "output_type": "execute_result"
    }
   ],
   "source": [
    "Regression_report_table"
   ]
  },
  {
   "cell_type": "code",
   "execution_count": 79,
   "metadata": {},
   "outputs": [],
   "source": [
    "y_KNN_predicted = grid_KNR.predict(X_test)"
   ]
  },
  {
   "cell_type": "code",
   "execution_count": 80,
   "metadata": {},
   "outputs": [
    {
     "data": {
      "text/plain": [
       "Text(0.5,1,'Sample accuracy plot')"
      ]
     },
     "execution_count": 80,
     "metadata": {},
     "output_type": "execute_result"
    },
    {
     "data": {
      "image/png": "[encoded data removed]",
      "text/plain": [
       "<Figure size 1440x576 with 1 Axes>"
      ]
     },
     "metadata": {},
     "output_type": "display_data"
    }
   ],
   "source": [
    "length = len(y_KNN_predicted)\n",
    "sample_size = 1\n",
    "index = range(0,length,sample_size)\n",
    "plt.figure(figsize=(20,8))\n",
    "plt.plot(index,y_KNN_predicted[0:length:sample_size],index,y_test[0:length:sample_size])\n",
    "plt.legend(('Estimated Value', 'Actual Value'),loc='upper right')\n",
    "plt.title('Sample accuracy plot')"
   ]
  },
  {
   "cell_type": "markdown",
   "metadata": {},
   "source": [
    "### LINEAR REGRESSION"
   ]
  },
  {
   "cell_type": "code",
   "execution_count": 81,
   "metadata": {},
   "outputs": [
    {
     "name": "stdout",
     "output_type": "stream",
     "text": [
      "Average train score: 0.361266\n",
      "Average test score: 0.332261\n"
     ]
    }
   ],
   "source": [
    "from sklearn.linear_model import LinearRegression\n",
    "from sklearn.model_selection import cross_validate\n",
    "\n",
    "model_score = cross_validate(LinearRegression(), X_train, y_train, cv = 5, return_train_score=True)\n",
    "print('Average train score: %.6f'%model_score['train_score'].mean())\n",
    "print('Average test score: %.6f'%model_score['test_score'].mean())"
   ]
  },
  {
   "cell_type": "code",
   "execution_count": 82,
   "metadata": {},
   "outputs": [
    {
     "name": "stdout",
     "output_type": "stream",
     "text": [
      "0.35871961235733607\n",
      "0.2329674275539706\n"
     ]
    }
   ],
   "source": [
    "#Normal equation\n",
    "from sklearn.linear_model import LinearRegression\n",
    "\n",
    "lreg = LinearRegression()\n",
    "lreg.fit(X_train, y_train)\n",
    "print(lreg.score(X_train, y_train))\n",
    "print(lreg.score(X_test, y_test))"
   ]
  },
  {
   "cell_type": "code",
   "execution_count": 83,
   "metadata": {},
   "outputs": [],
   "source": [
    "Regression_report_table = Regression_report_table + [['Linear Normal Equation', 'None', lreg.score(X_train, y_train), lreg.score(X_test, y_test)]]"
   ]
  },
  {
   "cell_type": "code",
   "execution_count": 84,
   "metadata": {},
   "outputs": [
    {
     "data": {
      "text/plain": [
       "[['KNN', {'n_neighbors': 20}, 0.3674156167403323, 0.2662433028538057],\n",
       " ['Linear Normal Equation', 'None', 0.35871961235733607, 0.2329674275539706]]"
      ]
     },
     "execution_count": 84,
     "metadata": {},
     "output_type": "execute_result"
    }
   ],
   "source": [
    "Regression_report_table"
   ]
  },
  {
   "cell_type": "code",
   "execution_count": 85,
   "metadata": {},
   "outputs": [],
   "source": [
    "Reg = lreg.fit(X_train, y_train)\n",
    "y_lreg_predicted = Reg.predict(X_test)"
   ]
  },
  {
   "cell_type": "code",
   "execution_count": 86,
   "metadata": {},
   "outputs": [
    {
     "data": {
      "text/plain": [
       "Text(0.5,1,'Sample accuracy plot')"
      ]
     },
     "execution_count": 86,
     "metadata": {},
     "output_type": "execute_result"
    },
    {
     "data": {
      "image/png": "[encoded data removed]",
      "text/plain": [
       "<Figure size 1440x576 with 1 Axes>"
      ]
     },
     "metadata": {},
     "output_type": "display_data"
    }
   ],
   "source": [
    "length = len(y_lreg_predicted)\n",
    "sample_size = 1\n",
    "index = range(0,length,sample_size)\n",
    "plt.figure(figsize=(20,8))\n",
    "plt.plot(index,y_lreg_predicted[0:length:sample_size],index,y_test[0:length:sample_size])\n",
    "plt.legend(('Estimated Value', 'Actual Value'),loc='upper right')\n",
    "plt.title('Sample accuracy plot')"
   ]
  },
  {
   "cell_type": "markdown",
   "metadata": {},
   "source": [
    "### POLYNOMIAL REGRESSION"
   ]
  },
  {
   "cell_type": "code",
   "execution_count": 87,
   "metadata": {},
   "outputs": [],
   "source": [
    "from  sklearn.preprocessing  import PolynomialFeatures\n",
    "from sklearn.pipeline import Pipeline\n",
    "from sklearn.pipeline import make_pipeline"
   ]
  },
  {
   "cell_type": "code",
   "execution_count": 88,
   "metadata": {},
   "outputs": [],
   "source": [
    "model = Pipeline([('poly',PolynomialFeatures()), ('lreg',LinearRegression())])"
   ]
  },
  {
   "cell_type": "code",
   "execution_count": 89,
   "metadata": {},
   "outputs": [],
   "source": [
    "from sklearn.model_selection import GridSearchCV\n",
    "param_grid = {'poly__degree': [2]}\n",
    "grid_poly = GridSearchCV(model, param_grid, cv=5, scoring = 'r2')"
   ]
  },
  {
   "cell_type": "code",
   "execution_count": 90,
   "metadata": {},
   "outputs": [
    {
     "data": {
      "text/plain": [
       "GridSearchCV(cv=5, error_score='raise',\n",
       "       estimator=Pipeline(memory=None,\n",
       "     steps=[('poly', PolynomialFeatures(degree=2, include_bias=True, interaction_only=False)), ('lreg', LinearRegression(copy_X=True, fit_intercept=True, n_jobs=1, normalize=False))]),\n",
       "       fit_params=None, iid=True, n_jobs=1,\n",
       "       param_grid={'poly__degree': [2]}, pre_dispatch='2*n_jobs',\n",
       "       refit=True, return_train_score='warn', scoring='r2', verbose=0)"
      ]
     },
     "execution_count": 90,
     "metadata": {},
     "output_type": "execute_result"
    }
   ],
   "source": [
    "grid_poly.fit(X_train, y_train)"
   ]
  },
  {
   "cell_type": "code",
   "execution_count": 91,
   "metadata": {},
   "outputs": [
    {
     "name": "stdout",
     "output_type": "stream",
     "text": [
      "Best parameters: {'poly__degree': 2}\n",
      "Best cross-validation score: -95397532210616401920.0000\n"
     ]
    }
   ],
   "source": [
    "print(\"Best parameters: {}\".format(grid_poly.best_params_))\n",
    "print(\"Best cross-validation score: {:.4f}\".format(grid_poly.best_score_))"
   ]
  },
  {
   "cell_type": "code",
   "execution_count": 92,
   "metadata": {},
   "outputs": [],
   "source": [
    "Regression_report_table = Regression_report_table + [['Polynomial', 'degree = 2', grid_poly.score(X_train, y_train), grid_poly.score(X_test, y_test)]]"
   ]
  },
  {
   "cell_type": "code",
   "execution_count": 93,
   "metadata": {},
   "outputs": [
    {
     "data": {
      "text/plain": [
       "[['KNN', {'n_neighbors': 20}, 0.3674156167403323, 0.2662433028538057],\n",
       " ['Linear Normal Equation', 'None', 0.35871961235733607, 0.2329674275539706],\n",
       " ['Polynomial', 'degree = 2', 0.6382764818783759, -203375660764011.62]]"
      ]
     },
     "execution_count": 93,
     "metadata": {},
     "output_type": "execute_result"
    }
   ],
   "source": [
    "Regression_report_table"
   ]
  },
  {
   "cell_type": "markdown",
   "metadata": {},
   "source": [
    "### Kernelized SVR"
   ]
  },
  {
   "cell_type": "code",
   "execution_count": 94,
   "metadata": {},
   "outputs": [],
   "source": [
    "from sklearn.svm import SVR"
   ]
  },
  {
   "cell_type": "code",
   "execution_count": 95,
   "metadata": {},
   "outputs": [],
   "source": [
    "param_svr_rbf = {'C': [0.01, 1, 100],'gamma': [0.1, 1],'epsilon':[0.01,1,100]} \n",
    "grid_SVR_rbf = GridSearchCV(SVR(kernel='rbf'), param_svr_rbf , cv=5, return_train_score=True,n_jobs=-1)"
   ]
  },
  {
   "cell_type": "code",
   "execution_count": 96,
   "metadata": {},
   "outputs": [
    {
     "data": {
      "text/plain": [
       "GridSearchCV(cv=5, error_score='raise',\n",
       "       estimator=SVR(C=1.0, cache_size=200, coef0=0.0, degree=3, epsilon=0.1, gamma='auto',\n",
       "  kernel='rbf', max_iter=-1, shrinking=True, tol=0.001, verbose=False),\n",
       "       fit_params=None, iid=True, n_jobs=-1,\n",
       "       param_grid={'C': [0.01, 1, 100], 'gamma': [0.1, 1], 'epsilon': [0.01, 1, 100]},\n",
       "       pre_dispatch='2*n_jobs', refit=True, return_train_score=True,\n",
       "       scoring=None, verbose=0)"
      ]
     },
     "execution_count": 96,
     "metadata": {},
     "output_type": "execute_result"
    }
   ],
   "source": [
    "grid_SVR_rbf.fit(X_train, y_train)"
   ]
  },
  {
   "cell_type": "code",
   "execution_count": 97,
   "metadata": {},
   "outputs": [
    {
     "name": "stdout",
     "output_type": "stream",
     "text": [
      "Best parameters: {'C': 100, 'epsilon': 100, 'gamma': 0.1}\n",
      "Best cross-validation score: -0.0036\n"
     ]
    }
   ],
   "source": [
    "print(\"Best parameters: {}\".format(grid_SVR_rbf.best_params_))\n",
    "print(\"Best cross-validation score: {:.4f}\".format(grid_SVR_rbf.best_score_))"
   ]
  },
  {
   "cell_type": "code",
   "execution_count": 98,
   "metadata": {},
   "outputs": [],
   "source": [
    "Regression_report_table = Regression_report_table + [['SVM with rbf', grid_SVR_rbf.best_params_ , grid_SVR_rbf.score(X_train, y_train), grid_SVR_rbf.score(X_test, y_test)]]"
   ]
  },
  {
   "cell_type": "code",
   "execution_count": 99,
   "metadata": {},
   "outputs": [
    {
     "data": {
      "text/plain": [
       "[['KNN', {'n_neighbors': 20}, 0.3674156167403323, 0.2662433028538057],\n",
       " ['Linear Normal Equation', 'None', 0.35871961235733607, 0.2329674275539706],\n",
       " ['Polynomial', 'degree = 2', 0.6382764818783759, -203375660764011.62],\n",
       " ['SVM with rbf',\n",
       "  {'C': 100, 'epsilon': 100, 'gamma': 0.1},\n",
       "  -0.0033725593496238826,\n",
       "  -0.0038753033290159777]]"
      ]
     },
     "execution_count": 99,
     "metadata": {},
     "output_type": "execute_result"
    }
   ],
   "source": [
    "Regression_report_table "
   ]
  },
  {
   "cell_type": "code",
   "execution_count": 100,
   "metadata": {},
   "outputs": [],
   "source": [
    "Regression_report = pd.DataFrame(Regression_report_table,columns = ['Model_name', 'Model_parameter', 'Train_accuracy', 'Test_accuracy'])"
   ]
  },
  {
   "cell_type": "code",
   "execution_count": 101,
   "metadata": {},
   "outputs": [
    {
     "data": {
      "text/html": [
       "<div>\n",
       "<style scoped>\n",
       "    .dataframe tbody tr th:only-of-type {\n",
       "        vertical-align: middle;\n",
       "    }\n",
       "\n",
       "    .dataframe tbody tr th {\n",
       "        vertical-align: top;\n",
       "    }\n",
       "\n",
       "    .dataframe thead th {\n",
       "        text-align: right;\n",
       "    }\n",
       "</style>\n",
       "<table border=\"1\" class=\"dataframe\">\n",
       "  <thead>\n",
       "    <tr style=\"text-align: right;\">\n",
       "      <th></th>\n",
       "      <th>Model_name</th>\n",
       "      <th>Model_parameter</th>\n",
       "      <th>Train_accuracy</th>\n",
       "      <th>Test_accuracy</th>\n",
       "    </tr>\n",
       "  </thead>\n",
       "  <tbody>\n",
       "    <tr>\n",
       "      <th>0</th>\n",
       "      <td>KNN</td>\n",
       "      <td>{'n_neighbors': 20}</td>\n",
       "      <td>0.367416</td>\n",
       "      <td>2.662433e-01</td>\n",
       "    </tr>\n",
       "    <tr>\n",
       "      <th>1</th>\n",
       "      <td>Linear Normal Equation</td>\n",
       "      <td>None</td>\n",
       "      <td>0.358720</td>\n",
       "      <td>2.329674e-01</td>\n",
       "    </tr>\n",
       "    <tr>\n",
       "      <th>2</th>\n",
       "      <td>Polynomial</td>\n",
       "      <td>degree = 2</td>\n",
       "      <td>0.638276</td>\n",
       "      <td>-2.033757e+14</td>\n",
       "    </tr>\n",
       "    <tr>\n",
       "      <th>3</th>\n",
       "      <td>SVM with rbf</td>\n",
       "      <td>{'C': 100, 'epsilon': 100, 'gamma': 0.1}</td>\n",
       "      <td>-0.003373</td>\n",
       "      <td>-3.875303e-03</td>\n",
       "    </tr>\n",
       "  </tbody>\n",
       "</table>\n",
       "</div>"
      ],
      "text/plain": [
       "               Model_name                           Model_parameter  \\\n",
       "0                     KNN                       {'n_neighbors': 20}   \n",
       "1  Linear Normal Equation                                      None   \n",
       "2              Polynomial                                degree = 2   \n",
       "3            SVM with rbf  {'C': 100, 'epsilon': 100, 'gamma': 0.1}   \n",
       "\n",
       "   Train_accuracy  Test_accuracy  \n",
       "0        0.367416   2.662433e-01  \n",
       "1        0.358720   2.329674e-01  \n",
       "2        0.638276  -2.033757e+14  \n",
       "3       -0.003373  -3.875303e-03  "
      ]
     },
     "execution_count": 101,
     "metadata": {},
     "output_type": "execute_result"
    }
   ],
   "source": [
    "Regression_report"
   ]
  },
  {
   "cell_type": "code",
   "execution_count": 102,
   "metadata": {},
   "outputs": [],
   "source": [
    "Regression_report_plot = Regression_report[['Model_name','Train_accuracy','Test_accuracy']]"
   ]
  },
  {
   "cell_type": "code",
   "execution_count": 103,
   "metadata": {},
   "outputs": [],
   "source": [
    "Regression_report_plot.index = Regression_report['Model_name']"
   ]
  },
  {
   "cell_type": "code",
   "execution_count": 104,
   "metadata": {},
   "outputs": [
    {
     "data": {
      "text/plain": [
       "(-10, 8)"
      ]
     },
     "execution_count": 104,
     "metadata": {},
     "output_type": "execute_result"
    },
    {
     "data": {
      "image/png": "[encoded data removed]",
      "text/plain": [
       "<Figure size 1080x504 with 1 Axes>"
      ]
     },
     "metadata": {},
     "output_type": "display_data"
    }
   ],
   "source": [
    "plt.figure(figsize=(15,7))\n",
    "plt.grid(True)\n",
    "plt.plot(Regression_report_plot['Train_accuracy'],label='Train_score')\n",
    "plt.plot(Regression_report_plot['Test_accuracy'],label='Test_score')\n",
    "plt.legend( ['Train_score', 'Test_score'])\n",
    "plt.ylim(-10,8)"
   ]
  },
  {
   "cell_type": "markdown",
   "metadata": {},
   "source": [
    "Based on the score, KNN Regressor with the number of neighbors equals to 20 gives the best result. However, the predicted result is also not every accurate. Because the data is biased, maybe linear regression is not a good choice. We may have to combine the models to get a better result. One suggestion is that we may combine logistic regression and linear regression. First, we create a logistic regression to identify whether the revenue is greater than 0 or equal to 0. If a transaction is identified to have the total transaction revenue greater than 0, we will use a linear model to predict the revenue. The linear model will be identify by training on the dataset which includes only instances with revenue greater than 0."
   ]
  },
  {
   "cell_type": "markdown",
   "metadata": {},
   "source": [
    "# Clustering with k-means"
   ]
  },
  {
   "cell_type": "markdown",
   "metadata": {},
   "source": [
    "First, I try to identify the optimal number of clusters for this dataset."
   ]
  },
  {
   "cell_type": "code",
   "execution_count": 105,
   "metadata": {},
   "outputs": [],
   "source": [
    "from sklearn.preprocessing import MinMaxScaler\n",
    "from sklearn.cluster import KMeans\n",
    "import matplotlib.pyplot as plt\n",
    "import seaborn as sns"
   ]
  },
  {
   "cell_type": "code",
   "execution_count": 106,
   "metadata": {},
   "outputs": [],
   "source": [
    "Sum_of_squared_distances = []\n",
    "K = range(1,10)\n",
    "for k in K:\n",
    "    km = KMeans(n_clusters=k)\n",
    "    km = km.fit(X)\n",
    "    Sum_of_squared_distances.append(km.inertia_)"
   ]
  },
  {
   "cell_type": "code",
   "execution_count": 107,
   "metadata": {},
   "outputs": [
    {
     "data": {
      "image/png": "[encoded data removed]",
      "text/plain": [
       "<Figure size 432x288 with 1 Axes>"
      ]
     },
     "metadata": {},
     "output_type": "display_data"
    }
   ],
   "source": [
    "plt.plot(K, Sum_of_squared_distances, 'bx-')\n",
    "plt.xlabel('k')\n",
    "plt.ylabel('Sum_of_squared_distances')\n",
    "plt.title('Elbow Method For Optimal k')\n",
    "plt.show()"
   ]
  },
  {
   "cell_type": "markdown",
   "metadata": {},
   "source": [
    "Based on the result of the elbow plot, I will choose 3 as the number of clusters."
   ]
  },
  {
   "cell_type": "markdown",
   "metadata": {},
   "source": [
    "The next step is to perform clustering with 3 clusters on the feature set."
   ]
  },
  {
   "cell_type": "code",
   "execution_count": 108,
   "metadata": {},
   "outputs": [],
   "source": [
    "from sklearn.cluster import KMeans\n",
    "kmeans = KMeans(n_clusters=3)\n",
    "kmeans.fit(X)\n",
    "y_kmeans = kmeans.predict(X)"
   ]
  },
  {
   "cell_type": "markdown",
   "metadata": {},
   "source": [
    "Sample plot"
   ]
  },
  {
   "cell_type": "code",
   "execution_count": 109,
   "metadata": {
    "scrolled": false
   },
   "outputs": [
    {
     "data": {
      "image/png": "[encoded data removed]",
      "text/plain": [
       "<Figure size 432x288 with 1 Axes>"
      ]
     },
     "metadata": {},
     "output_type": "display_data"
    }
   ],
   "source": [
    "plt.scatter(X.iloc[:, 2], X.iloc[:, 6], c=y_kmeans, s=50, cmap='viridis')\n",
    "\n",
    "centers = kmeans.cluster_centers_\n",
    "plt.scatter(centers[:, 2], centers[:, 6], c='black', s=200, alpha=0.5);"
   ]
  },
  {
   "cell_type": "markdown",
   "metadata": {},
   "source": [
    "With these three clusters, if we try to run the same model on each cluster, we might have significantly different results since each of these clusters has different characteristics."
   ]
  },
  {
   "cell_type": "markdown",
   "metadata": {},
   "source": [
    "# Clustering withGeneralizing E–M: Gaussian Mixture Models"
   ]
  },
  {
   "cell_type": "code",
   "execution_count": 110,
   "metadata": {},
   "outputs": [
    {
     "data": {
      "image/png": "[encoded data removed]",
      "text/plain": [
       "<Figure size 432x288 with 1 Axes>"
      ]
     },
     "metadata": {},
     "output_type": "display_data"
    }
   ],
   "source": [
    "from sklearn.mixture import GaussianMixture\n",
    "gmm = GaussianMixture(n_components=3).fit(X)\n",
    "labels = gmm.predict(X)\n",
    "plt.scatter(X.iloc[:, 2], X.iloc[:, 6], c=labels, s=40, cmap='viridis');"
   ]
  },
  {
   "cell_type": "code",
   "execution_count": 111,
   "metadata": {},
   "outputs": [
    {
     "data": {
      "image/png": "[encoded data removed]",
      "text/plain": [
       "<Figure size 432x288 with 1 Axes>"
      ]
     },
     "metadata": {},
     "output_type": "display_data"
    }
   ],
   "source": [
    "from sklearn.mixture import GaussianMixture\n",
    "gmm = GaussianMixture(n_components=3).fit(X)\n",
    "labels = gmm.predict(X)\n",
    "plt.scatter(X.iloc[:, 2], X.iloc[:, 6], c=labels, s=40, cmap='viridis');"
   ]
  },
  {
   "cell_type": "code",
   "execution_count": 112,
   "metadata": {},
   "outputs": [
    {
     "data": {
      "image/png": "[encoded data removed]",
      "text/plain": [
       "<Figure size 432x288 with 1 Axes>"
      ]
     },
     "metadata": {},
     "output_type": "display_data"
    }
   ],
   "source": [
    "from sklearn.mixture import GaussianMixture\n",
    "gmm = GaussianMixture(n_components=3).fit(X)\n",
    "labels = gmm.predict(X)\n",
    "plt.scatter(X.iloc[:, 5], X.iloc[:, 6], c=labels, s=40, cmap='viridis');"
   ]
  },
  {
   "cell_type": "code",
   "execution_count": 113,
   "metadata": {},
   "outputs": [
    {
     "data": {
      "image/png": "[encoded data removed]",
      "text/plain": [
       "<Figure size 432x288 with 1 Axes>"
      ]
     },
     "metadata": {},
     "output_type": "display_data"
    }
   ],
   "source": [
    "from sklearn.mixture import GaussianMixture\n",
    "gmm = GaussianMixture(n_components=5).fit(X)\n",
    "labels = gmm.predict(X)\n",
    "plt.scatter(X.iloc[:, 5], X.iloc[:, 6], c=labels, s=40, cmap='viridis');"
   ]
  },
  {
   "cell_type": "markdown",
   "metadata": {},
   "source": [
    "Using GaussianMixture, above are sample plot with 3 and 5 components for feature 2-6 and feature 5-6. I cannot find a clear cluster as k-means. In this case, k-means perform better."
   ]
  },
  {
   "cell_type": "markdown",
   "metadata": {},
   "source": [
    "### Dimentionally reduction with PCA\n",
    "Choose two unsupervised learning models, dimentionally reduction, and train it your dataset. Now use the same supervised learning models above on reduced dataset. Can you see any differences? Discuss the result."
   ]
  },
  {
   "cell_type": "markdown",
   "metadata": {},
   "source": [
    "#### TRY 2 PCAS AND THEN VISUALIZE CLUSTERING"
   ]
  },
  {
   "cell_type": "code",
   "execution_count": 114,
   "metadata": {},
   "outputs": [],
   "source": [
    "from sklearn.decomposition import PCA  # 1. Choose the model class\n",
    "model = PCA(n_components=2)            # 2. Instantiate the model with hyperparameters\n",
    "model.fit(X)                      # 3. Fit to data. Notice y is not specified!\n",
    "X_2D = model.transform(X)         # 4. Transform the data to two dimensions"
   ]
  },
  {
   "cell_type": "code",
   "execution_count": 115,
   "metadata": {},
   "outputs": [
    {
     "data": {
      "text/plain": [
       "<seaborn.axisgrid.FacetGrid at 0x27cb4f5ff98>"
      ]
     },
     "execution_count": 115,
     "metadata": {},
     "output_type": "execute_result"
    },
    {
     "data": {
      "image/png": "[encoded data removed]",
      "text/plain": [
       "<Figure size 402.375x360 with 1 Axes>"
      ]
     },
     "metadata": {},
     "output_type": "display_data"
    }
   ],
   "source": [
    "dfX_2D = pd.DataFrame({'PCA1': X_2D[:, 0],'PCA2': X_2D[:, 1],'kmean':y_kmeans})\n",
    "sns.lmplot(\"PCA1\", \"PCA2\",hue = 'kmean', data=dfX_2D , fit_reg=False)"
   ]
  },
  {
   "cell_type": "code",
   "execution_count": 116,
   "metadata": {},
   "outputs": [],
   "source": [
    "dfX_2D.drop(['kmean'],axis=1,inplace=True)"
   ]
  },
  {
   "cell_type": "code",
   "execution_count": 117,
   "metadata": {},
   "outputs": [],
   "source": [
    "Sum_of_squared_distances = []\n",
    "K = range(1,10)\n",
    "for k in K:\n",
    "    km = KMeans(n_clusters=k)\n",
    "    km = km.fit(dfX_2D)\n",
    "    Sum_of_squared_distances.append(km.inertia_)"
   ]
  },
  {
   "cell_type": "code",
   "execution_count": 118,
   "metadata": {},
   "outputs": [
    {
     "data": {
      "image/png": "[encoded data removed]",
      "text/plain": [
       "<Figure size 432x288 with 1 Axes>"
      ]
     },
     "metadata": {},
     "output_type": "display_data"
    }
   ],
   "source": [
    "plt.plot(K, Sum_of_squared_distances, 'bx-')\n",
    "plt.xlabel('k')\n",
    "plt.ylabel('Sum_of_squared_distances')\n",
    "plt.title('Elbow Method For Optimal k')\n",
    "plt.show()"
   ]
  },
  {
   "cell_type": "code",
   "execution_count": 119,
   "metadata": {},
   "outputs": [],
   "source": [
    "from sklearn.cluster import KMeans\n",
    "kmeans = KMeans(n_clusters=3)\n",
    "kmeans.fit(dfX_2D)\n",
    "y_kmeans = kmeans.predict(dfX_2D)"
   ]
  },
  {
   "cell_type": "code",
   "execution_count": 120,
   "metadata": {},
   "outputs": [
    {
     "data": {
      "image/png": "[encoded data removed]",
      "text/plain": [
       "<Figure size 432x288 with 1 Axes>"
      ]
     },
     "metadata": {},
     "output_type": "display_data"
    }
   ],
   "source": [
    "plt.scatter(dfX_2D.iloc[:, 0], dfX_2D.iloc[:, 1], c=y_kmeans, s=50, cmap='viridis')\n",
    "\n",
    "centers = kmeans.cluster_centers_\n",
    "plt.scatter(centers[:, 0], centers[:, 1], c='black', s=200, alpha=0.5);"
   ]
  },
  {
   "cell_type": "markdown",
   "metadata": {},
   "source": [
    "#### FIND NUMBER OF GOOD COMPONENTS"
   ]
  },
  {
   "cell_type": "code",
   "execution_count": 121,
   "metadata": {},
   "outputs": [
    {
     "data": {
      "text/plain": [
       "(0, 10)"
      ]
     },
     "execution_count": 121,
     "metadata": {},
     "output_type": "execute_result"
    },
    {
     "data": {
      "image/png": "[encoded data removed]",
      "text/plain": [
       "<Figure size 432x288 with 1 Axes>"
      ]
     },
     "metadata": {},
     "output_type": "display_data"
    }
   ],
   "source": [
    "from sklearn.decomposition import PCA\n",
    "pca = PCA().fit(X)\n",
    "plt.plot(np.cumsum(pca.explained_variance_ratio_))\n",
    "plt.xlabel('number of components')\n",
    "plt.ylabel('cumulative explained variance')\n",
    "plt.xlim(0, 10)"
   ]
  },
  {
   "cell_type": "markdown",
   "metadata": {},
   "source": [
    "Based on the graph above, the best number of components is 3."
   ]
  },
  {
   "cell_type": "markdown",
   "metadata": {},
   "source": [
    "The next step is to perform PCA on the feature set and store the result in dfX_3D dataframe."
   ]
  },
  {
   "cell_type": "code",
   "execution_count": 122,
   "metadata": {},
   "outputs": [],
   "source": [
    "# from sklearn.preprocessing import StandardScaler\n",
    "\n",
    "# scaler = MinMaxScaler()\n",
    "# scaler.fit(X)\n",
    "# X_scaled = scaler.transform(X)\n",
    "\n",
    "# #make a dataframe\n",
    "# X_scaled = pd.DataFrame(X_scaled)\n",
    "\n",
    "# #change column names\n",
    "# X_scaled.columns = X.columns\n",
    "# X_scaled.head()"
   ]
  },
  {
   "cell_type": "code",
   "execution_count": 123,
   "metadata": {},
   "outputs": [],
   "source": [
    "# from sklearn.decomposition import PCA\n",
    "# pca = PCA().fit(X_scaled)\n",
    "# plt.plot(np.cumsum(pca.explained_variance_ratio_))\n",
    "# plt.xlabel('number of components')\n",
    "# plt.ylabel('cumulative explained variance')\n",
    "# plt.xlim(0, 10)"
   ]
  },
  {
   "cell_type": "code",
   "execution_count": 124,
   "metadata": {},
   "outputs": [],
   "source": [
    "from sklearn.decomposition import PCA  # 1. Choose the model class\n",
    "model = PCA(n_components=3)            # 2. Instantiate the model with hyperparameters\n",
    "model.fit(X)                      # 3. Fit to data. Notice y is not specified!\n",
    "X_3D = model.transform(X)         # 4. Transform the data to two dimensions"
   ]
  },
  {
   "cell_type": "code",
   "execution_count": 125,
   "metadata": {},
   "outputs": [],
   "source": [
    "dfX_3D = pd.DataFrame({'PCA1': X_3D[:, 0],'PCA2': X_3D[:, 1],'PCA3': X_3D[:, 2]})"
   ]
  },
  {
   "cell_type": "markdown",
   "metadata": {},
   "source": [
    "#### Split new dataset"
   ]
  },
  {
   "cell_type": "code",
   "execution_count": 126,
   "metadata": {},
   "outputs": [],
   "source": [
    "X= dfX_3D"
   ]
  },
  {
   "cell_type": "code",
   "execution_count": 127,
   "metadata": {},
   "outputs": [],
   "source": [
    "#Split and scale the dataset:\n",
    "\n",
    "from sklearn.model_selection import train_test_split\n",
    "X_train_org,X_test_org,y_train,y_test = train_test_split(X,y,test_size=.25,random_state=10)\n",
    "\n",
    "from sklearn.preprocessing import StandardScaler ## minmax is better for classification and standard for regression\n",
    "scaler = StandardScaler()\n",
    "X_train = scaler.fit_transform(X_train_org)\n",
    "X_test = scaler.transform(X_test_org)"
   ]
  },
  {
   "cell_type": "markdown",
   "metadata": {},
   "source": [
    "Now, I will use the new data set with 3 components to train the supervised models."
   ]
  },
  {
   "cell_type": "markdown",
   "metadata": {},
   "source": [
    "#### KNN REGRESSOR with PCA"
   ]
  },
  {
   "cell_type": "code",
   "execution_count": 128,
   "metadata": {},
   "outputs": [
    {
     "name": "stdout",
     "output_type": "stream",
     "text": [
      "Parameter grid:\n",
      "{'n_neighbors': [1, 5, 10, 15, 20]}\n"
     ]
    }
   ],
   "source": [
    "from sklearn.model_selection import GridSearchCV\n",
    "from sklearn.metrics import mean_squared_error\n",
    "from sklearn.neighbors import KNeighborsRegressor\n",
    "KNR = KNeighborsRegressor()\n",
    "param_grid = {'n_neighbors': [1,5,10,15,20]}\n",
    "print(\"Parameter grid:\\n{}\".format(param_grid))\n",
    "grid_KNR = GridSearchCV(KNR, param_grid, cv=5, return_train_score=True)"
   ]
  },
  {
   "cell_type": "code",
   "execution_count": 129,
   "metadata": {},
   "outputs": [
    {
     "data": {
      "text/plain": [
       "GridSearchCV(cv=5, error_score='raise',\n",
       "       estimator=KNeighborsRegressor(algorithm='auto', leaf_size=30, metric='minkowski',\n",
       "          metric_params=None, n_jobs=1, n_neighbors=5, p=2,\n",
       "          weights='uniform'),\n",
       "       fit_params=None, iid=True, n_jobs=1,\n",
       "       param_grid={'n_neighbors': [1, 5, 10, 15, 20]},\n",
       "       pre_dispatch='2*n_jobs', refit=True, return_train_score=True,\n",
       "       scoring=None, verbose=0)"
      ]
     },
     "execution_count": 129,
     "metadata": {},
     "output_type": "execute_result"
    }
   ],
   "source": [
    "grid_KNR.fit(X_train, y_train)"
   ]
  },
  {
   "cell_type": "code",
   "execution_count": 130,
   "metadata": {},
   "outputs": [
    {
     "name": "stdout",
     "output_type": "stream",
     "text": [
      "Best parameters: {'n_neighbors': 20}\n",
      "Best cross-validation score: -0.5098\n"
     ]
    }
   ],
   "source": [
    "print(\"Best parameters: {}\".format(grid_KNR.best_params_))\n",
    "print(\"Best cross-validation score: {:.4f}\".format(grid_KNR.best_score_))"
   ]
  },
  {
   "cell_type": "code",
   "execution_count": 131,
   "metadata": {},
   "outputs": [
    {
     "name": "stdout",
     "output_type": "stream",
     "text": [
      "Average train score: 0.09\n",
      "Average test score: -0.51\n"
     ]
    }
   ],
   "source": [
    "from sklearn.model_selection import cross_validate\n",
    "best_model = grid_KNR.best_estimator_\n",
    "model_score = cross_validate(best_model, X_train, y_train, cv = 5, return_train_score=True)\n",
    "print('Average train score: %.2f'%model_score['train_score'].mean())\n",
    "print('Average test score: %.2f'%model_score['test_score'].mean())"
   ]
  },
  {
   "cell_type": "code",
   "execution_count": 132,
   "metadata": {},
   "outputs": [],
   "source": [
    "Regression_report_table2 = [['KNN', grid_KNR.best_params_, grid_KNR.score(X_train, y_train), grid_KNR.score(X_test, y_test)]]"
   ]
  },
  {
   "cell_type": "markdown",
   "metadata": {},
   "source": [
    "#### LINEAR REGRESSION WITH PCA"
   ]
  },
  {
   "cell_type": "code",
   "execution_count": 133,
   "metadata": {},
   "outputs": [
    {
     "name": "stdout",
     "output_type": "stream",
     "text": [
      "Average train score: 0.037423\n",
      "Average test score: -0.101362\n"
     ]
    }
   ],
   "source": [
    "model_score = cross_validate(LinearRegression(), X_train, y_train, cv = 5, return_train_score=True)\n",
    "print('Average train score: %.6f'%model_score['train_score'].mean())\n",
    "print('Average test score: %.6f'%model_score['test_score'].mean())"
   ]
  },
  {
   "cell_type": "code",
   "execution_count": 134,
   "metadata": {},
   "outputs": [
    {
     "name": "stdout",
     "output_type": "stream",
     "text": [
      "0.03676381659738226\n",
      "0.09425701082395467\n"
     ]
    }
   ],
   "source": [
    "#Normal equation\n",
    "from sklearn.linear_model import LinearRegression\n",
    "lreg = LinearRegression()\n",
    "lreg.fit(X_train, y_train)\n",
    "print(lreg.score(X_train, y_train))\n",
    "print(lreg.score(X_test, y_test))"
   ]
  },
  {
   "cell_type": "code",
   "execution_count": 135,
   "metadata": {},
   "outputs": [],
   "source": [
    "Regression_report_table2 = Regression_report_table2 + [['Linear Normal Equation', 'None', lreg.score(X_train, y_train), lreg.score(X_test, y_test)]]"
   ]
  },
  {
   "cell_type": "code",
   "execution_count": 136,
   "metadata": {},
   "outputs": [
    {
     "data": {
      "text/plain": [
       "[['KNN', {'n_neighbors': 20}, 0.08135515765123669, 0.0849663296780857],\n",
       " ['Linear Normal Equation', 'None', 0.03676381659738226, 0.09425701082395467]]"
      ]
     },
     "execution_count": 136,
     "metadata": {},
     "output_type": "execute_result"
    }
   ],
   "source": [
    "Regression_report_table2"
   ]
  },
  {
   "cell_type": "markdown",
   "metadata": {},
   "source": [
    "#### POLYNOMIAL REGRESSION WITH PCA"
   ]
  },
  {
   "cell_type": "code",
   "execution_count": 137,
   "metadata": {},
   "outputs": [
    {
     "data": {
      "text/plain": [
       "GridSearchCV(cv=5, error_score='raise',\n",
       "       estimator=Pipeline(memory=None,\n",
       "     steps=[('poly', PolynomialFeatures(degree=2, include_bias=True, interaction_only=False)), ('lreg', LinearRegression(copy_X=True, fit_intercept=True, n_jobs=1, normalize=False))]),\n",
       "       fit_params=None, iid=True, n_jobs=1,\n",
       "       param_grid={'poly__degree': [2]}, pre_dispatch='2*n_jobs',\n",
       "       refit=True, return_train_score='warn', scoring='r2', verbose=0)"
      ]
     },
     "execution_count": 137,
     "metadata": {},
     "output_type": "execute_result"
    }
   ],
   "source": [
    "model = Pipeline([('poly',PolynomialFeatures()), ('lreg',LinearRegression())])\n",
    "param_grid = {'poly__degree': [2]}\n",
    "grid_poly = GridSearchCV(model, param_grid, cv=5, scoring = 'r2')\n",
    "grid_poly.fit(X_train, y_train)"
   ]
  },
  {
   "cell_type": "code",
   "execution_count": 138,
   "metadata": {},
   "outputs": [
    {
     "name": "stdout",
     "output_type": "stream",
     "text": [
      "Best parameters: {'poly__degree': 2}\n",
      "Best cross-validation score: -0.1768\n",
      "Best parameters: {'poly__degree': 2}\n",
      "Best cross-validation score: -0.1768\n"
     ]
    }
   ],
   "source": [
    "print(\"Best parameters: {}\".format(grid_poly.best_params_))\n",
    "print(\"Best cross-validation score: {:.4f}\".format(grid_poly.best_score_))\n",
    "print(\"Best parameters: {}\".format(grid_poly.best_params_))\n",
    "print(\"Best cross-validation score: {:.4f}\".format(grid_poly.best_score_))"
   ]
  },
  {
   "cell_type": "code",
   "execution_count": 139,
   "metadata": {},
   "outputs": [],
   "source": [
    "Regression_report_table2 = Regression_report_table2 + [['Polynomial', 'degree = 2', grid_poly.score(X_train, y_train), grid_poly.score(X_test, y_test)]]"
   ]
  },
  {
   "cell_type": "code",
   "execution_count": 140,
   "metadata": {},
   "outputs": [
    {
     "data": {
      "text/plain": [
       "[['KNN', {'n_neighbors': 20}, 0.08135515765123669, 0.0849663296780857],\n",
       " ['Linear Normal Equation', 'None', 0.03676381659738226, 0.09425701082395467],\n",
       " ['Polynomial', 'degree = 2', 0.045734016525341925, 0.07207451189840319]]"
      ]
     },
     "execution_count": 140,
     "metadata": {},
     "output_type": "execute_result"
    }
   ],
   "source": [
    "Regression_report_table2 "
   ]
  },
  {
   "cell_type": "code",
   "execution_count": 141,
   "metadata": {},
   "outputs": [],
   "source": [
    "Regression_report2 = pd.DataFrame(Regression_report_table2,columns = ['Model_name', 'Model_parameter', 'Train_accuracy', 'Test_accuracy'])"
   ]
  },
  {
   "cell_type": "code",
   "execution_count": 142,
   "metadata": {},
   "outputs": [
    {
     "data": {
      "text/html": [
       "<div>\n",
       "<style scoped>\n",
       "    .dataframe tbody tr th:only-of-type {\n",
       "        vertical-align: middle;\n",
       "    }\n",
       "\n",
       "    .dataframe tbody tr th {\n",
       "        vertical-align: top;\n",
       "    }\n",
       "\n",
       "    .dataframe thead th {\n",
       "        text-align: right;\n",
       "    }\n",
       "</style>\n",
       "<table border=\"1\" class=\"dataframe\">\n",
       "  <thead>\n",
       "    <tr style=\"text-align: right;\">\n",
       "      <th></th>\n",
       "      <th>Model_name</th>\n",
       "      <th>Model_parameter</th>\n",
       "      <th>Train_accuracy</th>\n",
       "      <th>Test_accuracy</th>\n",
       "    </tr>\n",
       "  </thead>\n",
       "  <tbody>\n",
       "    <tr>\n",
       "      <th>0</th>\n",
       "      <td>KNN</td>\n",
       "      <td>{'n_neighbors': 20}</td>\n",
       "      <td>0.081355</td>\n",
       "      <td>0.084966</td>\n",
       "    </tr>\n",
       "    <tr>\n",
       "      <th>1</th>\n",
       "      <td>Linear Normal Equation</td>\n",
       "      <td>None</td>\n",
       "      <td>0.036764</td>\n",
       "      <td>0.094257</td>\n",
       "    </tr>\n",
       "    <tr>\n",
       "      <th>2</th>\n",
       "      <td>Polynomial</td>\n",
       "      <td>degree = 2</td>\n",
       "      <td>0.045734</td>\n",
       "      <td>0.072075</td>\n",
       "    </tr>\n",
       "  </tbody>\n",
       "</table>\n",
       "</div>"
      ],
      "text/plain": [
       "               Model_name      Model_parameter  Train_accuracy  Test_accuracy\n",
       "0                     KNN  {'n_neighbors': 20}        0.081355       0.084966\n",
       "1  Linear Normal Equation                 None        0.036764       0.094257\n",
       "2              Polynomial           degree = 2        0.045734       0.072075"
      ]
     },
     "execution_count": 142,
     "metadata": {},
     "output_type": "execute_result"
    }
   ],
   "source": [
    "Regression_report2 # New report table"
   ]
  },
  {
   "cell_type": "code",
   "execution_count": 143,
   "metadata": {},
   "outputs": [
    {
     "data": {
      "text/html": [
       "<div>\n",
       "<style scoped>\n",
       "    .dataframe tbody tr th:only-of-type {\n",
       "        vertical-align: middle;\n",
       "    }\n",
       "\n",
       "    .dataframe tbody tr th {\n",
       "        vertical-align: top;\n",
       "    }\n",
       "\n",
       "    .dataframe thead th {\n",
       "        text-align: right;\n",
       "    }\n",
       "</style>\n",
       "<table border=\"1\" class=\"dataframe\">\n",
       "  <thead>\n",
       "    <tr style=\"text-align: right;\">\n",
       "      <th></th>\n",
       "      <th>Model_name</th>\n",
       "      <th>Model_parameter</th>\n",
       "      <th>Train_accuracy</th>\n",
       "      <th>Test_accuracy</th>\n",
       "    </tr>\n",
       "  </thead>\n",
       "  <tbody>\n",
       "    <tr>\n",
       "      <th>0</th>\n",
       "      <td>KNN</td>\n",
       "      <td>{'n_neighbors': 20}</td>\n",
       "      <td>0.367416</td>\n",
       "      <td>2.662433e-01</td>\n",
       "    </tr>\n",
       "    <tr>\n",
       "      <th>1</th>\n",
       "      <td>Linear Normal Equation</td>\n",
       "      <td>None</td>\n",
       "      <td>0.358720</td>\n",
       "      <td>2.329674e-01</td>\n",
       "    </tr>\n",
       "    <tr>\n",
       "      <th>2</th>\n",
       "      <td>Polynomial</td>\n",
       "      <td>degree = 2</td>\n",
       "      <td>0.638276</td>\n",
       "      <td>-2.033757e+14</td>\n",
       "    </tr>\n",
       "    <tr>\n",
       "      <th>3</th>\n",
       "      <td>SVM with rbf</td>\n",
       "      <td>{'C': 100, 'epsilon': 100, 'gamma': 0.1}</td>\n",
       "      <td>-0.003373</td>\n",
       "      <td>-3.875303e-03</td>\n",
       "    </tr>\n",
       "  </tbody>\n",
       "</table>\n",
       "</div>"
      ],
      "text/plain": [
       "               Model_name                           Model_parameter  \\\n",
       "0                     KNN                       {'n_neighbors': 20}   \n",
       "1  Linear Normal Equation                                      None   \n",
       "2              Polynomial                                degree = 2   \n",
       "3            SVM with rbf  {'C': 100, 'epsilon': 100, 'gamma': 0.1}   \n",
       "\n",
       "   Train_accuracy  Test_accuracy  \n",
       "0        0.367416   2.662433e-01  \n",
       "1        0.358720   2.329674e-01  \n",
       "2        0.638276  -2.033757e+14  \n",
       "3       -0.003373  -3.875303e-03  "
      ]
     },
     "execution_count": 143,
     "metadata": {},
     "output_type": "execute_result"
    }
   ],
   "source": [
    "Regression_report # old report table"
   ]
  },
  {
   "cell_type": "markdown",
   "metadata": {},
   "source": [
    "After apply PCA on the data, the same model gets lower training and testing score (significantly lower)."
   ]
  },
  {
   "cell_type": "markdown",
   "metadata": {},
   "source": [
    "Which number of components gives the optimal trade-off between bias and variance? To answer this question, I will look at Linear Regression and KNN Regression to see if changing the number of PCA might help improving the results."
   ]
  },
  {
   "cell_type": "code",
   "execution_count": 144,
   "metadata": {},
   "outputs": [],
   "source": [
    "X = df[['visitNumber','totals_bounces', 'totals_hits', 'totals_newVisits', 'totals_pageviews', 'totals_sessionQualityDim','totals_timeOnSite','totals_transactions', 'totals_visits',\n",
    "        'value_APAC', 'value_Central America', 'value_EMEA','value_North America', 'value_South America', 'value_unknown',\n",
    "        'hitNumber',\n",
    "        'continent_(not set)', 'continent_Africa','continent_Americas', 'continent_Asia', 'continent_Europe','continent_Oceania', \n",
    "        'deviceCategory_desktop', 'deviceCategory_mobile','deviceCategory_tablet',\n",
    "        'medium_(none)', 'medium_affiliate','medium_cpc', 'medium_cpm', 'medium_organic', 'medium_referral',\n",
    "        'channelGrouping_Direct', 'channelGrouping_Display', 'channelGrouping_Organic Search', \n",
    "        'channelGrouping_Paid Search', 'channelGrouping_Referral', 'isMobile_True','isMobile_False']]"
   ]
  },
  {
   "cell_type": "code",
   "execution_count": 145,
   "metadata": {},
   "outputs": [],
   "source": [
    "X_train_org,X_test_org,y_train,y_test = train_test_split(X,y,test_size=.25,random_state=10)\n",
    "X_train = scaler.fit_transform(X_train_org)\n",
    "X_test = scaler.transform(X_test_org)"
   ]
  },
  {
   "cell_type": "markdown",
   "metadata": {},
   "source": [
    "LINEAR REGRESSION"
   ]
  },
  {
   "cell_type": "code",
   "execution_count": 146,
   "metadata": {},
   "outputs": [],
   "source": [
    "from sklearn.pipeline import make_pipeline\n",
    "\n",
    "def model(n_components = 3, **kwargs):\n",
    "    return make_pipeline(PCA(n_components), \n",
    "                       LinearRegression(**kwargs))"
   ]
  },
  {
   "cell_type": "code",
   "execution_count": 147,
   "metadata": {},
   "outputs": [
    {
     "name": "stdout",
     "output_type": "stream",
     "text": [
      "[[-3.10522869e-03  3.37896779e-02 -5.24676279e-01  2.33243289e-02\n",
      "   5.23124964e-02]\n",
      " [ 5.52675214e-03  6.69096105e-02 -9.20821744e-01  4.08403883e-02\n",
      "   1.00673242e-01]\n",
      " [ 3.68076611e-03  8.01219036e-02 -1.27405930e+00  4.87735101e-02\n",
      "   1.26019475e-01]\n",
      " [ 2.20047139e-03  8.40996820e-02 -1.33197269e+00  4.97909774e-02\n",
      "   1.30567560e-01]\n",
      " [ 1.43515053e-03  8.72617918e-02 -1.34906058e+00  5.27894448e-02\n",
      "   1.34083917e-01]\n",
      " [ 3.67000533e-04  8.68028306e-02 -1.40046895e+00  5.38689116e-02\n",
      "   1.34414750e-01]\n",
      " [-1.21249188e-04  8.69872617e-02 -1.45557246e+00  5.34677322e-02\n",
      "   1.34585453e-01]\n",
      " [-3.93732772e-03  8.85622216e-02 -1.45029593e+00  5.45026958e-02\n",
      "   1.35136194e-01]]\n"
     ]
    },
    {
     "data": {
      "text/plain": [
       "Text(0,0.5,'score')"
      ]
     },
     "execution_count": 147,
     "metadata": {},
     "output_type": "execute_result"
    },
    {
     "data": {
      "image/png": "[encoded data removed]",
      "text/plain": [
       "<Figure size 720x360 with 1 Axes>"
      ]
     },
     "metadata": {},
     "output_type": "display_data"
    }
   ],
   "source": [
    "from sklearn.model_selection import validation_curve\n",
    "from sklearn.linear_model import LinearRegression\n",
    "\n",
    "n_components = np.arange(2,10)\n",
    "train_score, val_score = validation_curve(model(), X_train, y_train, 'pca__n_components',n_components, cv=5)\n",
    "print(val_score)\n",
    "plt.subplots(figsize =(10,5))\n",
    "plt.plot(n_components, np.mean(train_score, 1), color='blue', label='training score')\n",
    "plt.plot(n_components, np.mean(val_score, 1), color='red', label='validation score')\n",
    "plt.legend(loc='best')\n",
    "plt.ylim(-1, 1)\n",
    "plt.xlabel('degree')\n",
    "plt.ylabel('score')"
   ]
  },
  {
   "cell_type": "markdown",
   "metadata": {},
   "source": [
    "KNN REGRESSION"
   ]
  },
  {
   "cell_type": "code",
   "execution_count": 148,
   "metadata": {},
   "outputs": [],
   "source": [
    "from sklearn.pipeline import make_pipeline\n",
    "\n",
    "def model(n_components = 3, **kwargs):\n",
    "    return make_pipeline(PCA(n_components), \n",
    "                       KNeighborsRegressor(**kwargs,n_neighbors = 20))"
   ]
  },
  {
   "cell_type": "code",
   "execution_count": 149,
   "metadata": {},
   "outputs": [
    {
     "name": "stdout",
     "output_type": "stream",
     "text": [
      "[[ 0.02722151  0.07505935 -1.87447509  0.1400347   0.1768148 ]\n",
      " [-0.11720107  0.03245872 -1.3661876   0.12397516  0.071133  ]\n",
      " [-0.14727346  0.06130326 -1.61042016  0.1111353   0.15737116]\n",
      " [-0.09357309  0.0825306  -1.62777021  0.11365281  0.18105685]\n",
      " [-0.04382873  0.07240845 -1.29704204  0.10335314  0.1700158 ]\n",
      " [ 0.07405535  0.07841982 -1.75082507  0.06299306  0.15477937]\n",
      " [ 0.06985006  0.08439115 -1.27854114  0.09661578  0.18215546]\n",
      " [ 0.13487295  0.09044222 -1.39488505  0.0891458   0.17683981]]\n"
     ]
    },
    {
     "data": {
      "text/plain": [
       "Text(0,0.5,'score')"
      ]
     },
     "execution_count": 149,
     "metadata": {},
     "output_type": "execute_result"
    },
    {
     "data": {
      "image/png": "[encoded data removed]",
      "text/plain": [
       "<Figure size 720x360 with 1 Axes>"
      ]
     },
     "metadata": {},
     "output_type": "display_data"
    }
   ],
   "source": [
    "from sklearn.model_selection import validation_curve\n",
    "\n",
    "n_components = np.arange(2,10)\n",
    "train_score, val_score = validation_curve(model(), X_train, y_train, 'pca__n_components',n_components, cv=5)\n",
    "print(val_score)\n",
    "plt.subplots(figsize =(10,5))\n",
    "plt.plot(n_components, np.mean(train_score, 1), color='blue', label='training score')\n",
    "plt.plot(n_components, np.mean(val_score, 1), color='red', label='validation score')\n",
    "plt.legend(loc='best')\n",
    "plt.ylim(-1, 1)\n",
    "plt.xlabel('degree')\n",
    "plt.ylabel('score')"
   ]
  },
  {
   "cell_type": "markdown",
   "metadata": {},
   "source": [
    "Both graph shows it does not seem that changing the number of components would help in this case, for both models."
   ]
  },
  {
   "cell_type": "markdown",
   "metadata": {},
   "source": [
    "# Dimensionailty reduction with kernel PCA"
   ]
  },
  {
   "cell_type": "markdown",
   "metadata": {},
   "source": [
    "I will use PCA with rbf kernel to perform dimensionality reduction (3 components) and then rerun KNN regression, Linear Regression and Polynomial Regression. Then I will compare the result with report_table 1 and 2"
   ]
  },
  {
   "cell_type": "code",
   "execution_count": 150,
   "metadata": {},
   "outputs": [],
   "source": [
    "X = df[['visitNumber','totals_bounces', 'totals_hits', 'totals_newVisits', 'totals_pageviews', 'totals_sessionQualityDim','totals_timeOnSite','totals_transactions', 'totals_visits',\n",
    "        'value_APAC', 'value_Central America', 'value_EMEA','value_North America', 'value_South America', 'value_unknown',\n",
    "        'hitNumber',\n",
    "        'continent_(not set)', 'continent_Africa','continent_Americas', 'continent_Asia', 'continent_Europe','continent_Oceania', \n",
    "        'deviceCategory_desktop', 'deviceCategory_mobile','deviceCategory_tablet',\n",
    "        'medium_(none)', 'medium_affiliate','medium_cpc', 'medium_cpm', 'medium_organic', 'medium_referral',\n",
    "        'channelGrouping_Direct', 'channelGrouping_Display', 'channelGrouping_Organic Search', \n",
    "        'channelGrouping_Paid Search', 'channelGrouping_Referral', 'isMobile_True','isMobile_False']]"
   ]
  },
  {
   "cell_type": "code",
   "execution_count": 151,
   "metadata": {},
   "outputs": [],
   "source": [
    "from sklearn.decomposition import KernelPCA\n",
    "\n",
    "rbf_pca = KernelPCA(n_components = 3, kernel=\"rbf\", gamma=0.04)\n",
    "X_3D = rbf_pca.fit_transform(X)\n",
    "dfX_3D = pd.DataFrame({'PCA1': X_3D[:, 0],'PCA2': X_3D[:, 1],'PCA3': X_3D[:, 2]})"
   ]
  },
  {
   "cell_type": "markdown",
   "metadata": {},
   "source": [
    "### Split new dataset"
   ]
  },
  {
   "cell_type": "code",
   "execution_count": 152,
   "metadata": {},
   "outputs": [],
   "source": [
    "X= dfX_3D"
   ]
  },
  {
   "cell_type": "code",
   "execution_count": 153,
   "metadata": {},
   "outputs": [],
   "source": [
    "#Split and scale the dataset:\n",
    "from sklearn.model_selection import train_test_split\n",
    "X_train_org,X_test_org,y_train,y_test = train_test_split(X,y,test_size=.25,random_state=12)\n",
    "\n",
    "from sklearn.preprocessing import StandardScaler ## minmax is better for classification and standard for regression\n",
    "scaler = StandardScaler()\n",
    "X_train = scaler.fit_transform(X_train_org)\n",
    "X_test = scaler.transform(X_test_org)"
   ]
  },
  {
   "cell_type": "markdown",
   "metadata": {},
   "source": [
    "#### KNN REGRESSOR with kernel PCA"
   ]
  },
  {
   "cell_type": "code",
   "execution_count": 154,
   "metadata": {},
   "outputs": [
    {
     "name": "stdout",
     "output_type": "stream",
     "text": [
      "Parameter grid:\n",
      "{'n_neighbors': [1, 5, 10, 15, 20]}\n"
     ]
    }
   ],
   "source": [
    "KNR = KNeighborsRegressor()\n",
    "param_grid = {'n_neighbors': [1,5,10,15,20]}\n",
    "print(\"Parameter grid:\\n{}\".format(param_grid))"
   ]
  },
  {
   "cell_type": "code",
   "execution_count": 155,
   "metadata": {},
   "outputs": [
    {
     "data": {
      "text/plain": [
       "GridSearchCV(cv=5, error_score='raise',\n",
       "       estimator=KNeighborsRegressor(algorithm='auto', leaf_size=30, metric='minkowski',\n",
       "          metric_params=None, n_jobs=1, n_neighbors=5, p=2,\n",
       "          weights='uniform'),\n",
       "       fit_params=None, iid=True, n_jobs=1,\n",
       "       param_grid={'n_neighbors': [1, 5, 10, 15, 20]},\n",
       "       pre_dispatch='2*n_jobs', refit=True, return_train_score=True,\n",
       "       scoring=None, verbose=0)"
      ]
     },
     "execution_count": 155,
     "metadata": {},
     "output_type": "execute_result"
    }
   ],
   "source": [
    "grid_KNR.fit(X_train, y_train)"
   ]
  },
  {
   "cell_type": "code",
   "execution_count": 156,
   "metadata": {},
   "outputs": [
    {
     "name": "stdout",
     "output_type": "stream",
     "text": [
      "Best parameters: {'n_neighbors': 20}\n",
      "Best cross-validation score: -0.0180\n"
     ]
    }
   ],
   "source": [
    "print(\"Best parameters: {}\".format(grid_KNR.best_params_))\n",
    "print(\"Best cross-validation score: {:.4f}\".format(grid_KNR.best_score_))"
   ]
  },
  {
   "cell_type": "code",
   "execution_count": 157,
   "metadata": {},
   "outputs": [
    {
     "name": "stdout",
     "output_type": "stream",
     "text": [
      "Average train score: 0.08\n",
      "Average test score: -0.02\n"
     ]
    }
   ],
   "source": [
    "from sklearn.model_selection import cross_validate\n",
    "best_model = grid_KNR.best_estimator_\n",
    "model_score = cross_validate(best_model, X_train, y_train, cv = 5, return_train_score=True)\n",
    "print('Average train score: %.2f'%model_score['train_score'].mean())\n",
    "print('Average test score: %.2f'%model_score['test_score'].mean())"
   ]
  },
  {
   "cell_type": "code",
   "execution_count": 158,
   "metadata": {},
   "outputs": [],
   "source": [
    "Regression_report_table3 = [['KNN', grid_KNR.best_params_, grid_KNR.score(X_train, y_train), grid_KNR.score(X_test, y_test)]]"
   ]
  },
  {
   "cell_type": "markdown",
   "metadata": {},
   "source": [
    "#### LINEAR REGRESSION with kernel PCA"
   ]
  },
  {
   "cell_type": "code",
   "execution_count": 159,
   "metadata": {},
   "outputs": [
    {
     "name": "stdout",
     "output_type": "stream",
     "text": [
      "Average train score: 0.002597\n",
      "Average test score: 0.002405\n"
     ]
    }
   ],
   "source": [
    "model_score = cross_validate(LinearRegression(), X_train, y_train, cv = 5, return_train_score=True)\n",
    "print('Average train score: %.6f'%model_score['train_score'].mean())\n",
    "print('Average test score: %.6f'%model_score['test_score'].mean())"
   ]
  },
  {
   "cell_type": "code",
   "execution_count": 160,
   "metadata": {},
   "outputs": [
    {
     "name": "stdout",
     "output_type": "stream",
     "text": [
      "0.0025856252788265532\n",
      "0.002352769554943235\n"
     ]
    }
   ],
   "source": [
    "#Normal equation\n",
    "from sklearn.linear_model import LinearRegression\n",
    "lreg = LinearRegression()\n",
    "lreg.fit(X_train, y_train)\n",
    "print(lreg.score(X_train, y_train))\n",
    "print(lreg.score(X_test, y_test))"
   ]
  },
  {
   "cell_type": "code",
   "execution_count": 161,
   "metadata": {},
   "outputs": [],
   "source": [
    "Regression_report_table3 = Regression_report_table3 + [['Linear Normal Equation', 'None', lreg.score(X_train, y_train), lreg.score(X_test, y_test)]]"
   ]
  },
  {
   "cell_type": "markdown",
   "metadata": {},
   "source": [
    "#### POLYNOMIAL REGRESSION WITH PCA"
   ]
  },
  {
   "cell_type": "code",
   "execution_count": 162,
   "metadata": {},
   "outputs": [
    {
     "data": {
      "text/plain": [
       "GridSearchCV(cv=5, error_score='raise',\n",
       "       estimator=Pipeline(memory=None,\n",
       "     steps=[('poly', PolynomialFeatures(degree=2, include_bias=True, interaction_only=False)), ('lreg', LinearRegression(copy_X=True, fit_intercept=True, n_jobs=1, normalize=False))]),\n",
       "       fit_params=None, iid=True, n_jobs=1,\n",
       "       param_grid={'poly__degree': [2]}, pre_dispatch='2*n_jobs',\n",
       "       refit=True, return_train_score='warn', scoring='r2', verbose=0)"
      ]
     },
     "execution_count": 162,
     "metadata": {},
     "output_type": "execute_result"
    }
   ],
   "source": [
    "model = Pipeline([('poly',PolynomialFeatures()), ('lreg',LinearRegression())])\n",
    "param_grid = {'poly__degree': [2]}\n",
    "grid_poly = GridSearchCV(model, param_grid, cv=5, scoring = 'r2')\n",
    "grid_poly.fit(X_train, y_train)"
   ]
  },
  {
   "cell_type": "code",
   "execution_count": 163,
   "metadata": {},
   "outputs": [
    {
     "name": "stdout",
     "output_type": "stream",
     "text": [
      "Best parameters: {'poly__degree': 2}\n",
      "Best cross-validation score: 0.0030\n",
      "Best parameters: {'poly__degree': 2}\n",
      "Best cross-validation score: 0.0030\n"
     ]
    }
   ],
   "source": [
    "print(\"Best parameters: {}\".format(grid_poly.best_params_))\n",
    "print(\"Best cross-validation score: {:.4f}\".format(grid_poly.best_score_))\n",
    "print(\"Best parameters: {}\".format(grid_poly.best_params_))\n",
    "print(\"Best cross-validation score: {:.4f}\".format(grid_poly.best_score_))"
   ]
  },
  {
   "cell_type": "code",
   "execution_count": 164,
   "metadata": {},
   "outputs": [],
   "source": [
    "Regression_report_table3 = Regression_report_table3 + [['Polynomial', 'degree = 2', grid_poly.score(X_train, y_train), grid_poly.score(X_test, y_test)]]"
   ]
  },
  {
   "cell_type": "code",
   "execution_count": 165,
   "metadata": {},
   "outputs": [
    {
     "data": {
      "text/plain": [
       "[['KNN', {'n_neighbors': 20}, 0.07370760979273971, 0.001178936520796925],\n",
       " ['Linear Normal Equation',\n",
       "  'None',\n",
       "  0.0025856252788265532,\n",
       "  0.002352769554943235],\n",
       " ['Polynomial', 'degree = 2', 0.003226773964593699, 0.0029705297397869534]]"
      ]
     },
     "execution_count": 165,
     "metadata": {},
     "output_type": "execute_result"
    }
   ],
   "source": [
    "Regression_report_table3"
   ]
  },
  {
   "cell_type": "code",
   "execution_count": 166,
   "metadata": {},
   "outputs": [],
   "source": [
    "Regression_report3 = pd.DataFrame(Regression_report_table3,columns = ['Model_name', 'Model_parameter', 'Train_accuracy', 'Test_accuracy'])"
   ]
  },
  {
   "cell_type": "code",
   "execution_count": 167,
   "metadata": {},
   "outputs": [
    {
     "data": {
      "text/html": [
       "<div>\n",
       "<style scoped>\n",
       "    .dataframe tbody tr th:only-of-type {\n",
       "        vertical-align: middle;\n",
       "    }\n",
       "\n",
       "    .dataframe tbody tr th {\n",
       "        vertical-align: top;\n",
       "    }\n",
       "\n",
       "    .dataframe thead th {\n",
       "        text-align: right;\n",
       "    }\n",
       "</style>\n",
       "<table border=\"1\" class=\"dataframe\">\n",
       "  <thead>\n",
       "    <tr style=\"text-align: right;\">\n",
       "      <th></th>\n",
       "      <th>Model_name</th>\n",
       "      <th>Model_parameter</th>\n",
       "      <th>Train_accuracy</th>\n",
       "      <th>Test_accuracy</th>\n",
       "    </tr>\n",
       "  </thead>\n",
       "  <tbody>\n",
       "    <tr>\n",
       "      <th>0</th>\n",
       "      <td>KNN</td>\n",
       "      <td>{'n_neighbors': 20}</td>\n",
       "      <td>0.073708</td>\n",
       "      <td>0.001179</td>\n",
       "    </tr>\n",
       "    <tr>\n",
       "      <th>1</th>\n",
       "      <td>Linear Normal Equation</td>\n",
       "      <td>None</td>\n",
       "      <td>0.002586</td>\n",
       "      <td>0.002353</td>\n",
       "    </tr>\n",
       "    <tr>\n",
       "      <th>2</th>\n",
       "      <td>Polynomial</td>\n",
       "      <td>degree = 2</td>\n",
       "      <td>0.003227</td>\n",
       "      <td>0.002971</td>\n",
       "    </tr>\n",
       "  </tbody>\n",
       "</table>\n",
       "</div>"
      ],
      "text/plain": [
       "               Model_name      Model_parameter  Train_accuracy  Test_accuracy\n",
       "0                     KNN  {'n_neighbors': 20}        0.073708       0.001179\n",
       "1  Linear Normal Equation                 None        0.002586       0.002353\n",
       "2              Polynomial           degree = 2        0.003227       0.002971"
      ]
     },
     "execution_count": 167,
     "metadata": {},
     "output_type": "execute_result"
    }
   ],
   "source": [
    "Regression_report3"
   ]
  },
  {
   "cell_type": "code",
   "execution_count": 168,
   "metadata": {
    "scrolled": true
   },
   "outputs": [
    {
     "data": {
      "text/html": [
       "<div>\n",
       "<style scoped>\n",
       "    .dataframe tbody tr th:only-of-type {\n",
       "        vertical-align: middle;\n",
       "    }\n",
       "\n",
       "    .dataframe tbody tr th {\n",
       "        vertical-align: top;\n",
       "    }\n",
       "\n",
       "    .dataframe thead th {\n",
       "        text-align: right;\n",
       "    }\n",
       "</style>\n",
       "<table border=\"1\" class=\"dataframe\">\n",
       "  <thead>\n",
       "    <tr style=\"text-align: right;\">\n",
       "      <th></th>\n",
       "      <th>Model_name</th>\n",
       "      <th>Model_parameter</th>\n",
       "      <th>Train_accuracy</th>\n",
       "      <th>Test_accuracy</th>\n",
       "    </tr>\n",
       "  </thead>\n",
       "  <tbody>\n",
       "    <tr>\n",
       "      <th>0</th>\n",
       "      <td>KNN</td>\n",
       "      <td>{'n_neighbors': 20}</td>\n",
       "      <td>0.081355</td>\n",
       "      <td>0.084966</td>\n",
       "    </tr>\n",
       "    <tr>\n",
       "      <th>1</th>\n",
       "      <td>Linear Normal Equation</td>\n",
       "      <td>None</td>\n",
       "      <td>0.036764</td>\n",
       "      <td>0.094257</td>\n",
       "    </tr>\n",
       "    <tr>\n",
       "      <th>2</th>\n",
       "      <td>Polynomial</td>\n",
       "      <td>degree = 2</td>\n",
       "      <td>0.045734</td>\n",
       "      <td>0.072075</td>\n",
       "    </tr>\n",
       "  </tbody>\n",
       "</table>\n",
       "</div>"
      ],
      "text/plain": [
       "               Model_name      Model_parameter  Train_accuracy  Test_accuracy\n",
       "0                     KNN  {'n_neighbors': 20}        0.081355       0.084966\n",
       "1  Linear Normal Equation                 None        0.036764       0.094257\n",
       "2              Polynomial           degree = 2        0.045734       0.072075"
      ]
     },
     "execution_count": 168,
     "metadata": {},
     "output_type": "execute_result"
    }
   ],
   "source": [
    "Regression_report2"
   ]
  },
  {
   "cell_type": "code",
   "execution_count": 170,
   "metadata": {},
   "outputs": [
    {
     "data": {
      "text/html": [
       "<div>\n",
       "<style scoped>\n",
       "    .dataframe tbody tr th:only-of-type {\n",
       "        vertical-align: middle;\n",
       "    }\n",
       "\n",
       "    .dataframe tbody tr th {\n",
       "        vertical-align: top;\n",
       "    }\n",
       "\n",
       "    .dataframe thead th {\n",
       "        text-align: right;\n",
       "    }\n",
       "</style>\n",
       "<table border=\"1\" class=\"dataframe\">\n",
       "  <thead>\n",
       "    <tr style=\"text-align: right;\">\n",
       "      <th></th>\n",
       "      <th>Model_name</th>\n",
       "      <th>Model_parameter</th>\n",
       "      <th>Train_accuracy</th>\n",
       "      <th>Test_accuracy</th>\n",
       "    </tr>\n",
       "  </thead>\n",
       "  <tbody>\n",
       "    <tr>\n",
       "      <th>0</th>\n",
       "      <td>KNN</td>\n",
       "      <td>{'n_neighbors': 20}</td>\n",
       "      <td>0.367416</td>\n",
       "      <td>2.662433e-01</td>\n",
       "    </tr>\n",
       "    <tr>\n",
       "      <th>1</th>\n",
       "      <td>Linear Normal Equation</td>\n",
       "      <td>None</td>\n",
       "      <td>0.358720</td>\n",
       "      <td>2.329674e-01</td>\n",
       "    </tr>\n",
       "    <tr>\n",
       "      <th>2</th>\n",
       "      <td>Polynomial</td>\n",
       "      <td>degree = 2</td>\n",
       "      <td>0.638276</td>\n",
       "      <td>-2.033757e+14</td>\n",
       "    </tr>\n",
       "    <tr>\n",
       "      <th>3</th>\n",
       "      <td>SVM with rbf</td>\n",
       "      <td>{'C': 100, 'epsilon': 100, 'gamma': 0.1}</td>\n",
       "      <td>-0.003373</td>\n",
       "      <td>-3.875303e-03</td>\n",
       "    </tr>\n",
       "  </tbody>\n",
       "</table>\n",
       "</div>"
      ],
      "text/plain": [
       "               Model_name                           Model_parameter  \\\n",
       "0                     KNN                       {'n_neighbors': 20}   \n",
       "1  Linear Normal Equation                                      None   \n",
       "2              Polynomial                                degree = 2   \n",
       "3            SVM with rbf  {'C': 100, 'epsilon': 100, 'gamma': 0.1}   \n",
       "\n",
       "   Train_accuracy  Test_accuracy  \n",
       "0        0.367416   2.662433e-01  \n",
       "1        0.358720   2.329674e-01  \n",
       "2        0.638276  -2.033757e+14  \n",
       "3       -0.003373  -3.875303e-03  "
      ]
     },
     "execution_count": 170,
     "metadata": {},
     "output_type": "execute_result"
    }
   ],
   "source": [
    "Regression_report"
   ]
  },
  {
   "cell_type": "markdown",
   "metadata": {},
   "source": [
    "The result for the models generaly get worse after dimensionaility reduction. The problem might be when using dimensionaility reduction, we have lost a lot of important information. This makes the models generally perform worse on the data set with reduced dimension. Overall, all the applied models does not fit the data well."
   ]
  }
 ],
 "metadata": {
  "kernelspec": {
   "display_name": "Python 3",
   "language": "python",
   "name": "python3"
  },
  "language_info": {
   "codemirror_mode": {
    "name": "ipython",
    "version": 3
   },
   "file_extension": ".py",
   "mimetype": "text/x-python",
   "name": "python",
   "nbconvert_exporter": "python",
   "pygments_lexer": "ipython3",
   "version": "3.6.6"
  }
 },
 "nbformat": 4,
 "nbformat_minor": 2
}
