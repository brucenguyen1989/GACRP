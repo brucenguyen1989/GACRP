{
 "cells": [
  {
   "attachments": {
    "flowchart.png": {
     "image/png": "[encoded data removed]"
    }
   },
   "cell_type": "markdown",
   "metadata": {},
   "source": [
    "I realized this is a bias dataset. Most probably supervised models were underfit.  In situations like this, none of the regression models will have a good fit for the dataset due to the large predence of the 0s. Thus, I try to break the problem, into a two-step machine learning model. \n",
    "\n",
    "First step is to classify the data points as positive revenue and zero revenue. This simply is a binary classification.\n",
    "Next, I build a regression model to postprocess classification results. Here is a flow chart to show how I the outline of the model. \n",
    "\n",
    "![flowchart.png](attachment:flowchart.png)"
   ]
  },
  {
   "cell_type": "markdown",
   "metadata": {},
   "source": [
    "## 1.DATA PREPARATION"
   ]
  },
  {
   "cell_type": "code",
   "execution_count": 1,
   "metadata": {},
   "outputs": [],
   "source": [
    "import pandas as pd\n",
    "import numpy as np\n",
    "import matplotlib.pyplot as plt\n",
    "import json\n",
    "import ast\n",
    "from pandas.io.json import json_normalize #package for flattening json in pandas df"
   ]
  },
  {
   "cell_type": "code",
   "execution_count": 2,
   "metadata": {},
   "outputs": [],
   "source": [
    "df = pd.read_csv('data.csv')\n",
    "x = str([{'index': 'xxx','value': 'unknown'}])\n",
    "for i in df['customDimensions']:\n",
    "    if ast.literal_eval(i) == []:\n",
    "        df['customDimensions'].replace(i,x,inplace = True)"
   ]
  },
  {
   "cell_type": "code",
   "execution_count": 3,
   "metadata": {},
   "outputs": [],
   "source": [
    "df['customDimensions'] = df['customDimensions'].apply(lambda x: ast.literal_eval(x))\n",
    "df['customDimensions']= df['customDimensions'].apply(lambda x: x[0])\n",
    "df['customDimensions'] = df['customDimensions'].apply(lambda x: str(x))"
   ]
  },
  {
   "cell_type": "code",
   "execution_count": 4,
   "metadata": {},
   "outputs": [],
   "source": [
    "cust_Dim = json_normalize(df['customDimensions'].apply(eval))\n",
    "cust_Dim.replace('xxx',np.nan,inplace = True)"
   ]
  },
  {
   "cell_type": "code",
   "execution_count": 5,
   "metadata": {},
   "outputs": [],
   "source": [
    "value = pd.get_dummies(cust_Dim['value'],columns = 'values', prefix = 'value')"
   ]
  },
  {
   "cell_type": "code",
   "execution_count": 6,
   "metadata": {},
   "outputs": [],
   "source": [
    "x = str([{'hitNumber':'xxx', 'time':'xxx', 'hour':'xxx', 'minute':'xxx', 'isInteraction':'xxx', 'isEntrance':'xxx', 'isExit':'xxx', 'referer':'xxx', 'page':'xxx', 'transaction':'xxx', 'item':'xxx',\n",
    "          'appInfo':'xxx','exceptionInfo':'xxx','product':'xxx','promotion':'xxx','eCommerceAction':'xxx', 'experiment':'xxx', 'customVariables':'xxx', 'customDimensions':'xxx',\n",
    "          'customMetrics':'xxx', 'type':'xxx','social':'xxx','contentGroup':'xxx','dataSource':'xxx','publisher_infos':'xxx'}])"
   ]
  },
  {
   "cell_type": "code",
   "execution_count": 7,
   "metadata": {},
   "outputs": [],
   "source": [
    "for i in df['hits']:\n",
    "    if ast.literal_eval(i) == []:\n",
    "        df['hits'].replace(i,x,inplace = True)"
   ]
  },
  {
   "cell_type": "code",
   "execution_count": 8,
   "metadata": {},
   "outputs": [],
   "source": [
    "df['hits'] = df['hits'].apply(lambda x: ast.literal_eval(x))\n",
    "df['hits']= df['hits'].apply(lambda x: x[0])\n",
    "df['hits'] = df['hits'].apply(lambda x: str(x))"
   ]
  },
  {
   "cell_type": "code",
   "execution_count": 9,
   "metadata": {},
   "outputs": [],
   "source": [
    "hits = json_normalize(df['hits'].apply(eval))\n",
    "hits.replace('xxx',np.nan,inplace = True)"
   ]
  },
  {
   "cell_type": "code",
   "execution_count": 10,
   "metadata": {},
   "outputs": [
    {
     "name": "stdout",
     "output_type": "stream",
     "text": [
      "<class 'pandas.core.frame.DataFrame'>\n",
      "RangeIndex: 20000 entries, 0 to 19999\n",
      "Data columns (total 64 columns):\n",
      "appInfo                                  0 non-null float64\n",
      "appInfo.exitScreenName                   19994 non-null object\n",
      "appInfo.landingScreenName                19994 non-null object\n",
      "appInfo.screenDepth                      19994 non-null object\n",
      "appInfo.screenName                       19994 non-null object\n",
      "contentGroup                             0 non-null float64\n",
      "contentGroup.contentGroup1               19994 non-null object\n",
      "contentGroup.contentGroup2               19994 non-null object\n",
      "contentGroup.contentGroup3               19994 non-null object\n",
      "contentGroup.contentGroup4               19994 non-null object\n",
      "contentGroup.contentGroup5               19994 non-null object\n",
      "contentGroup.contentGroupUniqueViews1    80 non-null object\n",
      "contentGroup.contentGroupUniqueViews2    7069 non-null object\n",
      "contentGroup.contentGroupUniqueViews3    561 non-null object\n",
      "contentGroup.previousContentGroup1       19994 non-null object\n",
      "contentGroup.previousContentGroup2       19994 non-null object\n",
      "contentGroup.previousContentGroup3       19994 non-null object\n",
      "contentGroup.previousContentGroup4       19994 non-null object\n",
      "contentGroup.previousContentGroup5       19994 non-null object\n",
      "customDimensions                         19994 non-null object\n",
      "customMetrics                            19994 non-null object\n",
      "customVariables                          19994 non-null object\n",
      "dataSource                               11214 non-null object\n",
      "eCommerceAction                          0 non-null float64\n",
      "eCommerceAction.action_type              19994 non-null object\n",
      "eCommerceAction.step                     19994 non-null object\n",
      "eventInfo.eventAction                    44 non-null object\n",
      "eventInfo.eventCategory                  44 non-null object\n",
      "eventInfo.eventLabel                     26 non-null object\n",
      "exceptionInfo                            0 non-null float64\n",
      "exceptionInfo.isFatal                    19994 non-null object\n",
      "experiment                               19994 non-null object\n",
      "hitNumber                                19994 non-null object\n",
      "hour                                     19994 non-null object\n",
      "isEntrance                               19950 non-null object\n",
      "isExit                                   9913 non-null object\n",
      "isInteraction                            19994 non-null object\n",
      "item                                     0 non-null float64\n",
      "item.currencyCode                        6971 non-null object\n",
      "minute                                   19994 non-null object\n",
      "page                                     0 non-null float64\n",
      "page.hostname                            19994 non-null object\n",
      "page.pagePath                            19994 non-null object\n",
      "page.pagePathLevel1                      19994 non-null object\n",
      "page.pagePathLevel2                      19994 non-null object\n",
      "page.pagePathLevel3                      19994 non-null object\n",
      "page.pagePathLevel4                      19994 non-null object\n",
      "page.pageTitle                           19994 non-null object\n",
      "page.searchCategory                      14 non-null object\n",
      "page.searchKeyword                       14 non-null object\n",
      "product                                  19994 non-null object\n",
      "promotion                                19994 non-null object\n",
      "promotionActionInfo.promoIsClick         5 non-null object\n",
      "promotionActionInfo.promoIsView          5670 non-null object\n",
      "publisher_infos                          19994 non-null object\n",
      "referer                                  15108 non-null object\n",
      "social                                   0 non-null float64\n",
      "social.hasSocialSourceReferral           19994 non-null object\n",
      "social.socialInteractionNetworkAction    19994 non-null object\n",
      "social.socialNetwork                     19994 non-null object\n",
      "time                                     19994 non-null object\n",
      "transaction                              0 non-null float64\n",
      "transaction.currencyCode                 6971 non-null object\n",
      "type                                     19994 non-null object\n",
      "dtypes: float64(8), object(56)\n",
      "memory usage: 9.8+ MB\n"
     ]
    }
   ],
   "source": [
    "hits.info()"
   ]
  },
  {
   "cell_type": "code",
   "execution_count": 11,
   "metadata": {},
   "outputs": [],
   "source": [
    "hits['hitNumber'] = hits['hitNumber'].apply(lambda x: x if pd.isnull(x) else int(x))"
   ]
  },
  {
   "cell_type": "code",
   "execution_count": 12,
   "metadata": {},
   "outputs": [],
   "source": [
    "hits['hitNumber'].fillna(0, inplace=True)"
   ]
  },
  {
   "cell_type": "code",
   "execution_count": 13,
   "metadata": {},
   "outputs": [],
   "source": [
    "geo_Network = json_normalize(df['geoNetwork'].apply(eval))"
   ]
  },
  {
   "cell_type": "code",
   "execution_count": 14,
   "metadata": {},
   "outputs": [
    {
     "data": {
      "text/plain": [
       "array(['Europe', 'Americas', 'Asia', 'Oceania', '(not set)', 'Africa'],\n",
       "      dtype=object)"
      ]
     },
     "execution_count": 14,
     "metadata": {},
     "output_type": "execute_result"
    }
   ],
   "source": [
    "geo_Network.continent.unique()"
   ]
  },
  {
   "cell_type": "code",
   "execution_count": 15,
   "metadata": {},
   "outputs": [],
   "source": [
    "continent = pd.get_dummies(geo_Network['continent'],columns = 'continents', prefix = 'continent')"
   ]
  },
  {
   "cell_type": "code",
   "execution_count": 16,
   "metadata": {},
   "outputs": [],
   "source": [
    "device = json_normalize(df['device'].apply(eval))"
   ]
  },
  {
   "cell_type": "code",
   "execution_count": 17,
   "metadata": {},
   "outputs": [],
   "source": [
    "deviceCategory = pd.get_dummies(device['deviceCategory'],columns = 'deviceCategory', prefix = 'deviceCategory')"
   ]
  },
  {
   "cell_type": "code",
   "execution_count": 18,
   "metadata": {},
   "outputs": [],
   "source": [
    "isMobile =  pd.get_dummies(device['isMobile'],columns = 'isMobile', prefix = 'isMobile')"
   ]
  },
  {
   "cell_type": "code",
   "execution_count": 19,
   "metadata": {},
   "outputs": [],
   "source": [
    "trafficSource = json_normalize(df['trafficSource'].apply(eval))"
   ]
  },
  {
   "cell_type": "code",
   "execution_count": 20,
   "metadata": {},
   "outputs": [],
   "source": [
    "medium = pd.get_dummies(trafficSource['medium'],columns = 'medium', prefix = 'medium')"
   ]
  },
  {
   "cell_type": "code",
   "execution_count": 21,
   "metadata": {},
   "outputs": [],
   "source": [
    "df.drop(['customDimensions', 'device', 'geoNetwork', 'hits', 'trafficSource'],axis=1,inplace=True)"
   ]
  },
  {
   "cell_type": "code",
   "execution_count": 22,
   "metadata": {},
   "outputs": [],
   "source": [
    "df = pd.concat([df,value,hits['hitNumber'],continent,deviceCategory,medium,isMobile],axis=1)"
   ]
  },
  {
   "cell_type": "code",
   "execution_count": 23,
   "metadata": {},
   "outputs": [],
   "source": [
    "df['totals_transactionRevenue'].fillna(0, inplace=True)\n",
    "df['totals_totalTransactionRevenue'].fillna(0, inplace=True)\n",
    "df['totals_transactions'].fillna(0, inplace=True)\n",
    "df['totals_bounces'].fillna(0, inplace=True)\n",
    "df['totals_newVisits'].fillna(0, inplace=True)\n",
    "df['totals_pageviews'].fillna(0, inplace=True)\n",
    "df['totals_sessionQualityDim'].fillna(0, inplace=True)\n",
    "df['totals_timeOnSite'].fillna(0, inplace=True)"
   ]
  },
  {
   "cell_type": "code",
   "execution_count": 24,
   "metadata": {},
   "outputs": [
    {
     "data": {
      "text/html": [
       "<div>\n",
       "<style scoped>\n",
       "    .dataframe tbody tr th:only-of-type {\n",
       "        vertical-align: middle;\n",
       "    }\n",
       "\n",
       "    .dataframe tbody tr th {\n",
       "        vertical-align: top;\n",
       "    }\n",
       "\n",
       "    .dataframe thead th {\n",
       "        text-align: right;\n",
       "    }\n",
       "</style>\n",
       "<table border=\"1\" class=\"dataframe\">\n",
       "  <thead>\n",
       "    <tr style=\"text-align: right;\">\n",
       "      <th></th>\n",
       "      <th>channelGrouping</th>\n",
       "      <th>date</th>\n",
       "      <th>fullVisitorId</th>\n",
       "      <th>socialEngagementType</th>\n",
       "      <th>visitId</th>\n",
       "      <th>visitNumber</th>\n",
       "      <th>visitStartTime</th>\n",
       "      <th>totals_bounces</th>\n",
       "      <th>totals_hits</th>\n",
       "      <th>totals_newVisits</th>\n",
       "      <th>...</th>\n",
       "      <th>deviceCategory_mobile</th>\n",
       "      <th>deviceCategory_tablet</th>\n",
       "      <th>medium_(none)</th>\n",
       "      <th>medium_affiliate</th>\n",
       "      <th>medium_cpc</th>\n",
       "      <th>medium_cpm</th>\n",
       "      <th>medium_organic</th>\n",
       "      <th>medium_referral</th>\n",
       "      <th>isMobile_False</th>\n",
       "      <th>isMobile_True</th>\n",
       "    </tr>\n",
       "  </thead>\n",
       "  <tbody>\n",
       "    <tr>\n",
       "      <th>0</th>\n",
       "      <td>Organic Search</td>\n",
       "      <td>20171016</td>\n",
       "      <td>3162355547410993243</td>\n",
       "      <td>Not Socially Engaged</td>\n",
       "      <td>1508198450</td>\n",
       "      <td>1</td>\n",
       "      <td>1508198450</td>\n",
       "      <td>1.0</td>\n",
       "      <td>1</td>\n",
       "      <td>1.0</td>\n",
       "      <td>...</td>\n",
       "      <td>0</td>\n",
       "      <td>0</td>\n",
       "      <td>0</td>\n",
       "      <td>0</td>\n",
       "      <td>0</td>\n",
       "      <td>0</td>\n",
       "      <td>1</td>\n",
       "      <td>0</td>\n",
       "      <td>1</td>\n",
       "      <td>0</td>\n",
       "    </tr>\n",
       "    <tr>\n",
       "      <th>1</th>\n",
       "      <td>Referral</td>\n",
       "      <td>20171016</td>\n",
       "      <td>8934116514970143966</td>\n",
       "      <td>Not Socially Engaged</td>\n",
       "      <td>1508176307</td>\n",
       "      <td>6</td>\n",
       "      <td>1508176307</td>\n",
       "      <td>0.0</td>\n",
       "      <td>2</td>\n",
       "      <td>0.0</td>\n",
       "      <td>...</td>\n",
       "      <td>0</td>\n",
       "      <td>0</td>\n",
       "      <td>0</td>\n",
       "      <td>0</td>\n",
       "      <td>0</td>\n",
       "      <td>0</td>\n",
       "      <td>0</td>\n",
       "      <td>1</td>\n",
       "      <td>1</td>\n",
       "      <td>0</td>\n",
       "    </tr>\n",
       "    <tr>\n",
       "      <th>2</th>\n",
       "      <td>Direct</td>\n",
       "      <td>20171016</td>\n",
       "      <td>7992466427990357681</td>\n",
       "      <td>Not Socially Engaged</td>\n",
       "      <td>1508201613</td>\n",
       "      <td>1</td>\n",
       "      <td>1508201613</td>\n",
       "      <td>0.0</td>\n",
       "      <td>2</td>\n",
       "      <td>1.0</td>\n",
       "      <td>...</td>\n",
       "      <td>1</td>\n",
       "      <td>0</td>\n",
       "      <td>1</td>\n",
       "      <td>0</td>\n",
       "      <td>0</td>\n",
       "      <td>0</td>\n",
       "      <td>0</td>\n",
       "      <td>0</td>\n",
       "      <td>0</td>\n",
       "      <td>1</td>\n",
       "    </tr>\n",
       "    <tr>\n",
       "      <th>3</th>\n",
       "      <td>Organic Search</td>\n",
       "      <td>20171016</td>\n",
       "      <td>9075655783635761930</td>\n",
       "      <td>Not Socially Engaged</td>\n",
       "      <td>1508169851</td>\n",
       "      <td>1</td>\n",
       "      <td>1508169851</td>\n",
       "      <td>0.0</td>\n",
       "      <td>2</td>\n",
       "      <td>1.0</td>\n",
       "      <td>...</td>\n",
       "      <td>0</td>\n",
       "      <td>0</td>\n",
       "      <td>0</td>\n",
       "      <td>0</td>\n",
       "      <td>0</td>\n",
       "      <td>0</td>\n",
       "      <td>1</td>\n",
       "      <td>0</td>\n",
       "      <td>1</td>\n",
       "      <td>0</td>\n",
       "    </tr>\n",
       "    <tr>\n",
       "      <th>4</th>\n",
       "      <td>Organic Search</td>\n",
       "      <td>20171016</td>\n",
       "      <td>6960673291025684308</td>\n",
       "      <td>Not Socially Engaged</td>\n",
       "      <td>1508190552</td>\n",
       "      <td>1</td>\n",
       "      <td>1508190552</td>\n",
       "      <td>0.0</td>\n",
       "      <td>2</td>\n",
       "      <td>1.0</td>\n",
       "      <td>...</td>\n",
       "      <td>0</td>\n",
       "      <td>0</td>\n",
       "      <td>0</td>\n",
       "      <td>0</td>\n",
       "      <td>0</td>\n",
       "      <td>0</td>\n",
       "      <td>1</td>\n",
       "      <td>0</td>\n",
       "      <td>1</td>\n",
       "      <td>0</td>\n",
       "    </tr>\n",
       "  </tbody>\n",
       "</table>\n",
       "<p>5 rows × 41 columns</p>\n",
       "</div>"
      ],
      "text/plain": [
       "  channelGrouping      date        fullVisitorId  socialEngagementType  \\\n",
       "0  Organic Search  20171016  3162355547410993243  Not Socially Engaged   \n",
       "1        Referral  20171016  8934116514970143966  Not Socially Engaged   \n",
       "2          Direct  20171016  7992466427990357681  Not Socially Engaged   \n",
       "3  Organic Search  20171016  9075655783635761930  Not Socially Engaged   \n",
       "4  Organic Search  20171016  6960673291025684308  Not Socially Engaged   \n",
       "\n",
       "      visitId  visitNumber  visitStartTime  totals_bounces  totals_hits  \\\n",
       "0  1508198450            1      1508198450             1.0            1   \n",
       "1  1508176307            6      1508176307             0.0            2   \n",
       "2  1508201613            1      1508201613             0.0            2   \n",
       "3  1508169851            1      1508169851             0.0            2   \n",
       "4  1508190552            1      1508190552             0.0            2   \n",
       "\n",
       "   totals_newVisits      ...        deviceCategory_mobile  \\\n",
       "0               1.0      ...                            0   \n",
       "1               0.0      ...                            0   \n",
       "2               1.0      ...                            1   \n",
       "3               1.0      ...                            0   \n",
       "4               1.0      ...                            0   \n",
       "\n",
       "   deviceCategory_tablet  medium_(none)  medium_affiliate  medium_cpc  \\\n",
       "0                      0              0                 0           0   \n",
       "1                      0              0                 0           0   \n",
       "2                      0              1                 0           0   \n",
       "3                      0              0                 0           0   \n",
       "4                      0              0                 0           0   \n",
       "\n",
       "   medium_cpm  medium_organic  medium_referral  isMobile_False  isMobile_True  \n",
       "0           0               1                0               1              0  \n",
       "1           0               0                1               1              0  \n",
       "2           0               0                0               0              1  \n",
       "3           0               1                0               1              0  \n",
       "4           0               1                0               1              0  \n",
       "\n",
       "[5 rows x 41 columns]"
      ]
     },
     "execution_count": 24,
     "metadata": {},
     "output_type": "execute_result"
    }
   ],
   "source": [
    "df.head()"
   ]
  },
  {
   "cell_type": "code",
   "execution_count": 25,
   "metadata": {},
   "outputs": [],
   "source": [
    "channelGrouping = pd.get_dummies(df['channelGrouping'],columns = 'channelGrouping', prefix = 'channelGrouping')\n",
    "df.drop(['channelGrouping'],axis=1,inplace=True)\n",
    "df = pd.concat([df,channelGrouping],axis=1)"
   ]
  },
  {
   "cell_type": "markdown",
   "metadata": {},
   "source": [
    "## 2. PREPARE FEATURE SET AND TARGET SET FOR CLASSIFICATION"
   ]
  },
  {
   "cell_type": "code",
   "execution_count": 26,
   "metadata": {},
   "outputs": [],
   "source": [
    "df['Revenue_check'] = df['totals_transactionRevenue'].apply(lambda x: int(x >0))"
   ]
  },
  {
   "cell_type": "code",
   "execution_count": 27,
   "metadata": {},
   "outputs": [],
   "source": [
    "X = df[['visitNumber','totals_bounces', 'totals_hits', 'totals_newVisits', 'totals_pageviews', 'totals_sessionQualityDim','totals_timeOnSite','totals_transactions', 'totals_visits',\n",
    "        'value_APAC', 'value_Central America', 'value_EMEA','value_North America', 'value_South America', 'value_unknown',\n",
    "        'hitNumber',\n",
    "        'continent_(not set)', 'continent_Africa','continent_Americas', 'continent_Asia', 'continent_Europe','continent_Oceania', \n",
    "        'deviceCategory_desktop', 'deviceCategory_mobile','deviceCategory_tablet',\n",
    "        'medium_(none)', 'medium_affiliate','medium_cpc', 'medium_cpm', 'medium_organic', 'medium_referral',\n",
    "       'channelGrouping_Affiliates', 'channelGrouping_Direct', 'channelGrouping_Display', 'channelGrouping_Organic Search', \n",
    "        'channelGrouping_Paid Search', 'channelGrouping_Referral','channelGrouping_Social', 'isMobile_True','isMobile_False']]"
   ]
  },
  {
   "cell_type": "code",
   "execution_count": 28,
   "metadata": {},
   "outputs": [
    {
     "data": {
      "text/plain": [
       "(20000, 40)"
      ]
     },
     "execution_count": 28,
     "metadata": {},
     "output_type": "execute_result"
    }
   ],
   "source": [
    "X.shape"
   ]
  },
  {
   "cell_type": "code",
   "execution_count": 29,
   "metadata": {},
   "outputs": [],
   "source": [
    "y_clf = df['Revenue_check']"
   ]
  },
  {
   "cell_type": "code",
   "execution_count": 30,
   "metadata": {},
   "outputs": [],
   "source": [
    "from sklearn.model_selection import train_test_split\n",
    "X_train_org,X_test_org,y_clf_train,y_clf_test = train_test_split(X,y_clf,test_size=.25,random_state=10)"
   ]
  },
  {
   "cell_type": "code",
   "execution_count": 31,
   "metadata": {},
   "outputs": [],
   "source": [
    "from sklearn.preprocessing import MinMaxScaler\n",
    "from sklearn.preprocessing import StandardScaler\n",
    "scaler1 = MinMaxScaler()\n",
    "X_train = scaler1.fit_transform(X_train_org)\n",
    "X_test = scaler1.transform(X_test_org)"
   ]
  },
  {
   "cell_type": "markdown",
   "metadata": {},
   "source": [
    "## RANDOM FORREST"
   ]
  },
  {
   "cell_type": "code",
   "execution_count": 32,
   "metadata": {},
   "outputs": [],
   "source": [
    "from sklearn.ensemble import BaggingClassifier\n",
    "from sklearn.tree import DecisionTreeClassifier\n",
    "from  sklearn.metrics import f1_score, precision_score\n",
    "from sklearn.ensemble import RandomForestClassifier"
   ]
  },
  {
   "cell_type": "code",
   "execution_count": 33,
   "metadata": {},
   "outputs": [
    {
     "name": "stdout",
     "output_type": "stream",
     "text": [
      "Accuracy on training set: 1.000\n",
      "Accuracy on test set: 1.000\n"
     ]
    }
   ],
   "source": [
    "forest = RandomForestClassifier(n_estimators=1000, max_leaf_nodes=25, n_jobs=-1, random_state=0)\n",
    "forest.fit(X_train, y_clf_train)\n",
    "\n",
    "print(\"Accuracy on training set: {:.3f}\".format(forest.score(X_train, y_clf_train)))\n",
    "print(\"Accuracy on test set: {:.3f}\".format(forest.score(X_test, y_clf_test)))"
   ]
  },
  {
   "cell_type": "code",
   "execution_count": 34,
   "metadata": {},
   "outputs": [
    {
     "name": "stdout",
     "output_type": "stream",
     "text": [
      "Train roc_auc_score: 1.00\n",
      "Test roc_auc_score: 1.00 \n"
     ]
    }
   ],
   "source": [
    "from sklearn.metrics import roc_auc_score\n",
    "y_clf_pred_train = forest.predict(X_train)\n",
    "y_clf_pred_test = forest.predict(X_test)\n",
    "\n",
    "print('Train roc_auc_score: %.2f'%roc_auc_score(y_clf_pred_train, y_clf_train))\n",
    "print('Test roc_auc_score: %.2f '%roc_auc_score(y_clf_pred_test, y_clf_test))"
   ]
  },
  {
   "cell_type": "code",
   "execution_count": 35,
   "metadata": {},
   "outputs": [],
   "source": [
    "X_tf = scaler1.transform(X)"
   ]
  },
  {
   "cell_type": "code",
   "execution_count": 36,
   "metadata": {},
   "outputs": [],
   "source": [
    "y_clf_predict = forest.predict(X_tf)"
   ]
  },
  {
   "cell_type": "code",
   "execution_count": 37,
   "metadata": {},
   "outputs": [
    {
     "data": {
      "text/plain": [
       "0.00965"
      ]
     },
     "execution_count": 37,
     "metadata": {},
     "output_type": "execute_result"
    }
   ],
   "source": [
    "y_clf.mean()"
   ]
  },
  {
   "cell_type": "code",
   "execution_count": 38,
   "metadata": {},
   "outputs": [
    {
     "data": {
      "text/plain": [
       "0.0096"
      ]
     },
     "execution_count": 38,
     "metadata": {},
     "output_type": "execute_result"
    }
   ],
   "source": [
    "y_clf_predict.mean()"
   ]
  },
  {
   "cell_type": "code",
   "execution_count": 39,
   "metadata": {},
   "outputs": [
    {
     "data": {
      "text/plain": [
       "(20000, 40)"
      ]
     },
     "execution_count": 39,
     "metadata": {},
     "output_type": "execute_result"
    }
   ],
   "source": [
    "X.shape"
   ]
  },
  {
   "cell_type": "code",
   "execution_count": 40,
   "metadata": {},
   "outputs": [],
   "source": [
    "df_new = X.copy()"
   ]
  },
  {
   "cell_type": "code",
   "execution_count": 41,
   "metadata": {},
   "outputs": [],
   "source": [
    "df_new['Revenue'] = df['totals_transactionRevenue']\n",
    "df_new['Revenue_check'] = y_clf"
   ]
  },
  {
   "cell_type": "code",
   "execution_count": 42,
   "metadata": {},
   "outputs": [],
   "source": [
    "df_new['Predicted_Revenue_check'] = forest.predict(scaler1.transform(df_new.iloc[:,:40]))"
   ]
  },
  {
   "cell_type": "code",
   "execution_count": 43,
   "metadata": {},
   "outputs": [],
   "source": [
    "# df_check = df_new[['Revenue_check','Predicted_Revenue_check']]"
   ]
  },
  {
   "cell_type": "code",
   "execution_count": 44,
   "metadata": {},
   "outputs": [],
   "source": [
    "# df_check['check'] =  df_new['Revenue_check'] - df_new['Predicted_Revenue_check']"
   ]
  },
  {
   "cell_type": "code",
   "execution_count": 45,
   "metadata": {},
   "outputs": [],
   "source": [
    "# df_check['check'].mean()*20000"
   ]
  },
  {
   "cell_type": "code",
   "execution_count": 46,
   "metadata": {},
   "outputs": [
    {
     "data": {
      "text/html": [
       "<div>\n",
       "<style scoped>\n",
       "    .dataframe tbody tr th:only-of-type {\n",
       "        vertical-align: middle;\n",
       "    }\n",
       "\n",
       "    .dataframe tbody tr th {\n",
       "        vertical-align: top;\n",
       "    }\n",
       "\n",
       "    .dataframe thead th {\n",
       "        text-align: right;\n",
       "    }\n",
       "</style>\n",
       "<table border=\"1\" class=\"dataframe\">\n",
       "  <thead>\n",
       "    <tr style=\"text-align: right;\">\n",
       "      <th></th>\n",
       "      <th>visitNumber</th>\n",
       "      <th>totals_bounces</th>\n",
       "      <th>totals_hits</th>\n",
       "      <th>totals_newVisits</th>\n",
       "      <th>totals_pageviews</th>\n",
       "      <th>totals_sessionQualityDim</th>\n",
       "      <th>totals_timeOnSite</th>\n",
       "      <th>totals_transactions</th>\n",
       "      <th>totals_visits</th>\n",
       "      <th>value_APAC</th>\n",
       "      <th>...</th>\n",
       "      <th>channelGrouping_Display</th>\n",
       "      <th>channelGrouping_Organic Search</th>\n",
       "      <th>channelGrouping_Paid Search</th>\n",
       "      <th>channelGrouping_Referral</th>\n",
       "      <th>channelGrouping_Social</th>\n",
       "      <th>isMobile_True</th>\n",
       "      <th>isMobile_False</th>\n",
       "      <th>Revenue</th>\n",
       "      <th>Revenue_check</th>\n",
       "      <th>Predicted_Revenue_check</th>\n",
       "    </tr>\n",
       "  </thead>\n",
       "  <tbody>\n",
       "    <tr>\n",
       "      <th>0</th>\n",
       "      <td>1</td>\n",
       "      <td>1.0</td>\n",
       "      <td>1</td>\n",
       "      <td>1.0</td>\n",
       "      <td>1.0</td>\n",
       "      <td>1.0</td>\n",
       "      <td>0.0</td>\n",
       "      <td>0.0</td>\n",
       "      <td>1</td>\n",
       "      <td>0</td>\n",
       "      <td>...</td>\n",
       "      <td>0</td>\n",
       "      <td>1</td>\n",
       "      <td>0</td>\n",
       "      <td>0</td>\n",
       "      <td>0</td>\n",
       "      <td>0</td>\n",
       "      <td>1</td>\n",
       "      <td>0.0</td>\n",
       "      <td>0</td>\n",
       "      <td>0</td>\n",
       "    </tr>\n",
       "    <tr>\n",
       "      <th>1</th>\n",
       "      <td>6</td>\n",
       "      <td>0.0</td>\n",
       "      <td>2</td>\n",
       "      <td>0.0</td>\n",
       "      <td>2.0</td>\n",
       "      <td>2.0</td>\n",
       "      <td>28.0</td>\n",
       "      <td>0.0</td>\n",
       "      <td>1</td>\n",
       "      <td>0</td>\n",
       "      <td>...</td>\n",
       "      <td>0</td>\n",
       "      <td>0</td>\n",
       "      <td>0</td>\n",
       "      <td>1</td>\n",
       "      <td>0</td>\n",
       "      <td>0</td>\n",
       "      <td>1</td>\n",
       "      <td>0.0</td>\n",
       "      <td>0</td>\n",
       "      <td>0</td>\n",
       "    </tr>\n",
       "    <tr>\n",
       "      <th>2</th>\n",
       "      <td>1</td>\n",
       "      <td>0.0</td>\n",
       "      <td>2</td>\n",
       "      <td>1.0</td>\n",
       "      <td>2.0</td>\n",
       "      <td>1.0</td>\n",
       "      <td>38.0</td>\n",
       "      <td>0.0</td>\n",
       "      <td>1</td>\n",
       "      <td>0</td>\n",
       "      <td>...</td>\n",
       "      <td>0</td>\n",
       "      <td>0</td>\n",
       "      <td>0</td>\n",
       "      <td>0</td>\n",
       "      <td>0</td>\n",
       "      <td>1</td>\n",
       "      <td>0</td>\n",
       "      <td>0.0</td>\n",
       "      <td>0</td>\n",
       "      <td>0</td>\n",
       "    </tr>\n",
       "    <tr>\n",
       "      <th>3</th>\n",
       "      <td>1</td>\n",
       "      <td>0.0</td>\n",
       "      <td>2</td>\n",
       "      <td>1.0</td>\n",
       "      <td>2.0</td>\n",
       "      <td>1.0</td>\n",
       "      <td>1.0</td>\n",
       "      <td>0.0</td>\n",
       "      <td>1</td>\n",
       "      <td>0</td>\n",
       "      <td>...</td>\n",
       "      <td>0</td>\n",
       "      <td>1</td>\n",
       "      <td>0</td>\n",
       "      <td>0</td>\n",
       "      <td>0</td>\n",
       "      <td>0</td>\n",
       "      <td>1</td>\n",
       "      <td>0.0</td>\n",
       "      <td>0</td>\n",
       "      <td>0</td>\n",
       "    </tr>\n",
       "    <tr>\n",
       "      <th>4</th>\n",
       "      <td>1</td>\n",
       "      <td>0.0</td>\n",
       "      <td>2</td>\n",
       "      <td>1.0</td>\n",
       "      <td>2.0</td>\n",
       "      <td>1.0</td>\n",
       "      <td>52.0</td>\n",
       "      <td>0.0</td>\n",
       "      <td>1</td>\n",
       "      <td>0</td>\n",
       "      <td>...</td>\n",
       "      <td>0</td>\n",
       "      <td>1</td>\n",
       "      <td>0</td>\n",
       "      <td>0</td>\n",
       "      <td>0</td>\n",
       "      <td>0</td>\n",
       "      <td>1</td>\n",
       "      <td>0.0</td>\n",
       "      <td>0</td>\n",
       "      <td>0</td>\n",
       "    </tr>\n",
       "  </tbody>\n",
       "</table>\n",
       "<p>5 rows × 43 columns</p>\n",
       "</div>"
      ],
      "text/plain": [
       "   visitNumber  totals_bounces  totals_hits  totals_newVisits  \\\n",
       "0            1             1.0            1               1.0   \n",
       "1            6             0.0            2               0.0   \n",
       "2            1             0.0            2               1.0   \n",
       "3            1             0.0            2               1.0   \n",
       "4            1             0.0            2               1.0   \n",
       "\n",
       "   totals_pageviews  totals_sessionQualityDim  totals_timeOnSite  \\\n",
       "0               1.0                       1.0                0.0   \n",
       "1               2.0                       2.0               28.0   \n",
       "2               2.0                       1.0               38.0   \n",
       "3               2.0                       1.0                1.0   \n",
       "4               2.0                       1.0               52.0   \n",
       "\n",
       "   totals_transactions  totals_visits  value_APAC           ...             \\\n",
       "0                  0.0              1           0           ...              \n",
       "1                  0.0              1           0           ...              \n",
       "2                  0.0              1           0           ...              \n",
       "3                  0.0              1           0           ...              \n",
       "4                  0.0              1           0           ...              \n",
       "\n",
       "   channelGrouping_Display  channelGrouping_Organic Search  \\\n",
       "0                        0                               1   \n",
       "1                        0                               0   \n",
       "2                        0                               0   \n",
       "3                        0                               1   \n",
       "4                        0                               1   \n",
       "\n",
       "   channelGrouping_Paid Search  channelGrouping_Referral  \\\n",
       "0                            0                         0   \n",
       "1                            0                         1   \n",
       "2                            0                         0   \n",
       "3                            0                         0   \n",
       "4                            0                         0   \n",
       "\n",
       "   channelGrouping_Social  isMobile_True  isMobile_False  Revenue  \\\n",
       "0                       0              0               1      0.0   \n",
       "1                       0              0               1      0.0   \n",
       "2                       0              1               0      0.0   \n",
       "3                       0              0               1      0.0   \n",
       "4                       0              0               1      0.0   \n",
       "\n",
       "   Revenue_check  Predicted_Revenue_check  \n",
       "0              0                        0  \n",
       "1              0                        0  \n",
       "2              0                        0  \n",
       "3              0                        0  \n",
       "4              0                        0  \n",
       "\n",
       "[5 rows x 43 columns]"
      ]
     },
     "execution_count": 46,
     "metadata": {},
     "output_type": "execute_result"
    }
   ],
   "source": [
    "df_new.head()"
   ]
  },
  {
   "cell_type": "markdown",
   "metadata": {},
   "source": [
    "## REGRESSION"
   ]
  },
  {
   "cell_type": "markdown",
   "metadata": {},
   "source": [
    "The data used to train regression model will be instances with Revenue_check =1"
   ]
  },
  {
   "cell_type": "code",
   "execution_count": 47,
   "metadata": {},
   "outputs": [],
   "source": [
    "df_regression = df_new[df_new['Revenue_check']>0]"
   ]
  },
  {
   "cell_type": "code",
   "execution_count": 48,
   "metadata": {},
   "outputs": [
    {
     "data": {
      "text/html": [
       "<div>\n",
       "<style scoped>\n",
       "    .dataframe tbody tr th:only-of-type {\n",
       "        vertical-align: middle;\n",
       "    }\n",
       "\n",
       "    .dataframe tbody tr th {\n",
       "        vertical-align: top;\n",
       "    }\n",
       "\n",
       "    .dataframe thead th {\n",
       "        text-align: right;\n",
       "    }\n",
       "</style>\n",
       "<table border=\"1\" class=\"dataframe\">\n",
       "  <thead>\n",
       "    <tr style=\"text-align: right;\">\n",
       "      <th></th>\n",
       "      <th>visitNumber</th>\n",
       "      <th>totals_bounces</th>\n",
       "      <th>totals_hits</th>\n",
       "      <th>totals_newVisits</th>\n",
       "      <th>totals_pageviews</th>\n",
       "      <th>totals_sessionQualityDim</th>\n",
       "      <th>totals_timeOnSite</th>\n",
       "      <th>totals_transactions</th>\n",
       "      <th>totals_visits</th>\n",
       "      <th>value_APAC</th>\n",
       "      <th>...</th>\n",
       "      <th>channelGrouping_Display</th>\n",
       "      <th>channelGrouping_Organic Search</th>\n",
       "      <th>channelGrouping_Paid Search</th>\n",
       "      <th>channelGrouping_Referral</th>\n",
       "      <th>channelGrouping_Social</th>\n",
       "      <th>isMobile_True</th>\n",
       "      <th>isMobile_False</th>\n",
       "      <th>Revenue</th>\n",
       "      <th>Revenue_check</th>\n",
       "      <th>Predicted_Revenue_check</th>\n",
       "    </tr>\n",
       "  </thead>\n",
       "  <tbody>\n",
       "    <tr>\n",
       "      <th>433</th>\n",
       "      <td>4</td>\n",
       "      <td>0.0</td>\n",
       "      <td>9</td>\n",
       "      <td>0.0</td>\n",
       "      <td>9.0</td>\n",
       "      <td>13.0</td>\n",
       "      <td>261.0</td>\n",
       "      <td>1.0</td>\n",
       "      <td>1</td>\n",
       "      <td>0</td>\n",
       "      <td>...</td>\n",
       "      <td>0</td>\n",
       "      <td>1</td>\n",
       "      <td>0</td>\n",
       "      <td>0</td>\n",
       "      <td>0</td>\n",
       "      <td>0</td>\n",
       "      <td>1</td>\n",
       "      <td>15190000.0</td>\n",
       "      <td>1</td>\n",
       "      <td>1</td>\n",
       "    </tr>\n",
       "    <tr>\n",
       "      <th>550</th>\n",
       "      <td>11</td>\n",
       "      <td>0.0</td>\n",
       "      <td>15</td>\n",
       "      <td>0.0</td>\n",
       "      <td>12.0</td>\n",
       "      <td>38.0</td>\n",
       "      <td>285.0</td>\n",
       "      <td>1.0</td>\n",
       "      <td>1</td>\n",
       "      <td>0</td>\n",
       "      <td>...</td>\n",
       "      <td>0</td>\n",
       "      <td>0</td>\n",
       "      <td>0</td>\n",
       "      <td>1</td>\n",
       "      <td>0</td>\n",
       "      <td>0</td>\n",
       "      <td>1</td>\n",
       "      <td>8000000.0</td>\n",
       "      <td>1</td>\n",
       "      <td>1</td>\n",
       "    </tr>\n",
       "    <tr>\n",
       "      <th>555</th>\n",
       "      <td>6</td>\n",
       "      <td>0.0</td>\n",
       "      <td>15</td>\n",
       "      <td>0.0</td>\n",
       "      <td>15.0</td>\n",
       "      <td>42.0</td>\n",
       "      <td>1044.0</td>\n",
       "      <td>1.0</td>\n",
       "      <td>1</td>\n",
       "      <td>0</td>\n",
       "      <td>...</td>\n",
       "      <td>0</td>\n",
       "      <td>1</td>\n",
       "      <td>0</td>\n",
       "      <td>0</td>\n",
       "      <td>0</td>\n",
       "      <td>1</td>\n",
       "      <td>0</td>\n",
       "      <td>57300000.0</td>\n",
       "      <td>1</td>\n",
       "      <td>1</td>\n",
       "    </tr>\n",
       "    <tr>\n",
       "      <th>597</th>\n",
       "      <td>17</td>\n",
       "      <td>0.0</td>\n",
       "      <td>18</td>\n",
       "      <td>0.0</td>\n",
       "      <td>16.0</td>\n",
       "      <td>77.0</td>\n",
       "      <td>514.0</td>\n",
       "      <td>1.0</td>\n",
       "      <td>1</td>\n",
       "      <td>0</td>\n",
       "      <td>...</td>\n",
       "      <td>0</td>\n",
       "      <td>0</td>\n",
       "      <td>0</td>\n",
       "      <td>1</td>\n",
       "      <td>0</td>\n",
       "      <td>0</td>\n",
       "      <td>1</td>\n",
       "      <td>18230000.0</td>\n",
       "      <td>1</td>\n",
       "      <td>1</td>\n",
       "    </tr>\n",
       "    <tr>\n",
       "      <th>619</th>\n",
       "      <td>1</td>\n",
       "      <td>0.0</td>\n",
       "      <td>21</td>\n",
       "      <td>1.0</td>\n",
       "      <td>20.0</td>\n",
       "      <td>62.0</td>\n",
       "      <td>487.0</td>\n",
       "      <td>1.0</td>\n",
       "      <td>1</td>\n",
       "      <td>0</td>\n",
       "      <td>...</td>\n",
       "      <td>0</td>\n",
       "      <td>0</td>\n",
       "      <td>0</td>\n",
       "      <td>1</td>\n",
       "      <td>0</td>\n",
       "      <td>0</td>\n",
       "      <td>1</td>\n",
       "      <td>12310000.0</td>\n",
       "      <td>1</td>\n",
       "      <td>1</td>\n",
       "    </tr>\n",
       "  </tbody>\n",
       "</table>\n",
       "<p>5 rows × 43 columns</p>\n",
       "</div>"
      ],
      "text/plain": [
       "     visitNumber  totals_bounces  totals_hits  totals_newVisits  \\\n",
       "433            4             0.0            9               0.0   \n",
       "550           11             0.0           15               0.0   \n",
       "555            6             0.0           15               0.0   \n",
       "597           17             0.0           18               0.0   \n",
       "619            1             0.0           21               1.0   \n",
       "\n",
       "     totals_pageviews  totals_sessionQualityDim  totals_timeOnSite  \\\n",
       "433               9.0                      13.0              261.0   \n",
       "550              12.0                      38.0              285.0   \n",
       "555              15.0                      42.0             1044.0   \n",
       "597              16.0                      77.0              514.0   \n",
       "619              20.0                      62.0              487.0   \n",
       "\n",
       "     totals_transactions  totals_visits  value_APAC           ...             \\\n",
       "433                  1.0              1           0           ...              \n",
       "550                  1.0              1           0           ...              \n",
       "555                  1.0              1           0           ...              \n",
       "597                  1.0              1           0           ...              \n",
       "619                  1.0              1           0           ...              \n",
       "\n",
       "     channelGrouping_Display  channelGrouping_Organic Search  \\\n",
       "433                        0                               1   \n",
       "550                        0                               0   \n",
       "555                        0                               1   \n",
       "597                        0                               0   \n",
       "619                        0                               0   \n",
       "\n",
       "     channelGrouping_Paid Search  channelGrouping_Referral  \\\n",
       "433                            0                         0   \n",
       "550                            0                         1   \n",
       "555                            0                         0   \n",
       "597                            0                         1   \n",
       "619                            0                         1   \n",
       "\n",
       "     channelGrouping_Social  isMobile_True  isMobile_False     Revenue  \\\n",
       "433                       0              0               1  15190000.0   \n",
       "550                       0              0               1   8000000.0   \n",
       "555                       0              1               0  57300000.0   \n",
       "597                       0              0               1  18230000.0   \n",
       "619                       0              0               1  12310000.0   \n",
       "\n",
       "     Revenue_check  Predicted_Revenue_check  \n",
       "433              1                        1  \n",
       "550              1                        1  \n",
       "555              1                        1  \n",
       "597              1                        1  \n",
       "619              1                        1  \n",
       "\n",
       "[5 rows x 43 columns]"
      ]
     },
     "execution_count": 48,
     "metadata": {},
     "output_type": "execute_result"
    }
   ],
   "source": [
    "df_regression.head()"
   ]
  },
  {
   "cell_type": "code",
   "execution_count": 49,
   "metadata": {},
   "outputs": [
    {
     "data": {
      "text/plain": [
       "(193, 43)"
      ]
     },
     "execution_count": 49,
     "metadata": {},
     "output_type": "execute_result"
    }
   ],
   "source": [
    "df_regression.shape"
   ]
  },
  {
   "cell_type": "code",
   "execution_count": 50,
   "metadata": {},
   "outputs": [],
   "source": [
    "from sklearn import datasets, linear_model\n",
    "from sklearn.linear_model import LinearRegression\n",
    "from sklearn.linear_model import LinearRegression, Ridge, Lasso"
   ]
  },
  {
   "cell_type": "code",
   "execution_count": 51,
   "metadata": {},
   "outputs": [],
   "source": [
    "X_reg = df_regression[['visitNumber','totals_bounces', 'totals_hits', 'totals_newVisits', 'totals_pageviews', 'totals_sessionQualityDim','totals_timeOnSite','totals_transactions', 'totals_visits',\n",
    "        'value_APAC', 'value_Central America', 'value_EMEA','value_North America', 'value_South America', 'value_unknown',\n",
    "        'hitNumber',\n",
    "        'continent_(not set)', 'continent_Africa','continent_Americas', 'continent_Asia', 'continent_Europe','continent_Oceania', \n",
    "        'deviceCategory_desktop', 'deviceCategory_mobile','deviceCategory_tablet',\n",
    "        'medium_(none)', 'medium_affiliate','medium_cpc', 'medium_cpm', 'medium_organic', 'medium_referral',\n",
    "       'channelGrouping_Affiliates', 'channelGrouping_Direct', 'channelGrouping_Display', 'channelGrouping_Organic Search', \n",
    "        'channelGrouping_Paid Search', 'channelGrouping_Referral','channelGrouping_Social', 'isMobile_True','isMobile_False']]"
   ]
  },
  {
   "cell_type": "code",
   "execution_count": 52,
   "metadata": {},
   "outputs": [],
   "source": [
    "y_reg = df_regression['Revenue']"
   ]
  },
  {
   "cell_type": "code",
   "execution_count": 53,
   "metadata": {},
   "outputs": [],
   "source": [
    "X_reg_train_org,X_reg_test_org,y_reg_train,y_reg_test = train_test_split(X_reg,y_reg,test_size=.25,random_state=10)\n",
    "scaler2 = StandardScaler()\n",
    "X_reg_train = scaler2.fit_transform(X_reg_train_org)\n",
    "X_reg_test = scaler2.transform(X_reg_test_org)"
   ]
  },
  {
   "cell_type": "markdown",
   "metadata": {},
   "source": [
    "I will check the three models above to see which model is best for regression task: Gradient Boost, Linear Regression, Linear Ridge."
   ]
  },
  {
   "cell_type": "markdown",
   "metadata": {},
   "source": [
    "#### GRADIENT BOOST"
   ]
  },
  {
   "cell_type": "code",
   "execution_count": 54,
   "metadata": {},
   "outputs": [
    {
     "data": {
      "text/plain": [
       "GradientBoostingRegressor(alpha=0.9, criterion='friedman_mse', init=None,\n",
       "             learning_rate=0.1, loss='ls', max_depth=3, max_features=None,\n",
       "             max_leaf_nodes=None, min_impurity_decrease=0.0,\n",
       "             min_impurity_split=None, min_samples_leaf=1,\n",
       "             min_samples_split=2, min_weight_fraction_leaf=0.0,\n",
       "             n_estimators=200, presort='auto', random_state=0,\n",
       "             subsample=1.0, verbose=0, warm_start=False)"
      ]
     },
     "execution_count": 54,
     "metadata": {},
     "output_type": "execute_result"
    }
   ],
   "source": [
    "from  sklearn.ensemble import GradientBoostingRegressor\n",
    "\n",
    "gbrt = GradientBoostingRegressor(max_depth=3, n_estimators=200, learning_rate=0.1, random_state=0)\n",
    "gbrt.fit(X_reg_train, y_reg_train)"
   ]
  },
  {
   "cell_type": "code",
   "execution_count": 55,
   "metadata": {},
   "outputs": [],
   "source": [
    "y_reg_train_pred = gbrt.predict(X_reg_train)\n",
    "y_reg_test_pred =  gbrt.predict(X_reg_test)"
   ]
  },
  {
   "cell_type": "code",
   "execution_count": 56,
   "metadata": {},
   "outputs": [
    {
     "name": "stdout",
     "output_type": "stream",
     "text": [
      "Train score: 0.9881\n",
      "Test score: 0.3397\n"
     ]
    }
   ],
   "source": [
    "from sklearn.metrics import r2_score\n",
    "print('Train score: {:.4f}'.format(r2_score(y_reg_train, y_reg_train_pred)))\n",
    "print('Test score: {:.4f}'.format(r2_score(y_reg_test, y_reg_test_pred)))"
   ]
  },
  {
   "cell_type": "markdown",
   "metadata": {},
   "source": [
    "#### LINEAR REGRESSION"
   ]
  },
  {
   "cell_type": "code",
   "execution_count": 57,
   "metadata": {},
   "outputs": [
    {
     "name": "stdout",
     "output_type": "stream",
     "text": [
      "Average train score: 0.241122\n",
      "Average test score: -0.513823\n"
     ]
    }
   ],
   "source": [
    "from sklearn.model_selection import cross_validate\n",
    "model_score = cross_validate(LinearRegression(), X_reg_train, y_reg_train, cv = 5, return_train_score=True)\n",
    "print('Average train score: %.6f'%model_score['train_score'].mean())\n",
    "print('Average test score: %.6f'%model_score['test_score'].mean())"
   ]
  },
  {
   "cell_type": "code",
   "execution_count": 58,
   "metadata": {},
   "outputs": [
    {
     "name": "stdout",
     "output_type": "stream",
     "text": [
      "0.21041086966782807\n",
      "0.21645838564441533\n"
     ]
    }
   ],
   "source": [
    "from sklearn.linear_model import LinearRegression\n",
    "\n",
    "lreg = LinearRegression()\n",
    "lreg.fit(X_reg_train, y_reg_train)\n",
    "print(lreg.score(X_reg_train, y_reg_train))\n",
    "print(lreg.score(X_reg_test, y_reg_test))\n"
   ]
  },
  {
   "cell_type": "markdown",
   "metadata": {},
   "source": [
    "#### RIDGE LINEAR REGRESSION"
   ]
  },
  {
   "cell_type": "code",
   "execution_count": 59,
   "metadata": {},
   "outputs": [
    {
     "name": "stdout",
     "output_type": "stream",
     "text": [
      "Parameter grid:\n",
      "{'alpha': [0.001, 0.01, 0.1, 1, 10, 100]}\n"
     ]
    }
   ],
   "source": [
    "param_grid = {'alpha': [0.001,0.01,0.1,1,10,100]}\n",
    "print(\"Parameter grid:\\n{}\".format(param_grid))"
   ]
  },
  {
   "cell_type": "code",
   "execution_count": 60,
   "metadata": {},
   "outputs": [],
   "source": [
    "from sklearn.model_selection import GridSearchCV\n",
    "from  sklearn.linear_model import Ridge\n",
    "grid_Ridge = GridSearchCV(Ridge(), param_grid, cv=5, return_train_score=True)"
   ]
  },
  {
   "cell_type": "code",
   "execution_count": 61,
   "metadata": {},
   "outputs": [
    {
     "data": {
      "text/plain": [
       "GridSearchCV(cv=5, error_score='raise',\n",
       "       estimator=Ridge(alpha=1.0, copy_X=True, fit_intercept=True, max_iter=None,\n",
       "   normalize=False, random_state=None, solver='auto', tol=0.001),\n",
       "       fit_params=None, iid=True, n_jobs=1,\n",
       "       param_grid={'alpha': [0.001, 0.01, 0.1, 1, 10, 100]},\n",
       "       pre_dispatch='2*n_jobs', refit=True, return_train_score=True,\n",
       "       scoring=None, verbose=0)"
      ]
     },
     "execution_count": 61,
     "metadata": {},
     "output_type": "execute_result"
    }
   ],
   "source": [
    "grid_Ridge.fit(X_reg_train, y_reg_train)"
   ]
  },
  {
   "cell_type": "code",
   "execution_count": 62,
   "metadata": {},
   "outputs": [
    {
     "name": "stdout",
     "output_type": "stream",
     "text": [
      "Best parameters: {'alpha': 100}\n",
      "Best cross-validation score: -0.1015\n"
     ]
    }
   ],
   "source": [
    "print(\"Best parameters: {}\".format(grid_Ridge.best_params_))\n",
    "print(\"Best cross-validation score: {:.4f}\".format(grid_Ridge.best_score_))"
   ]
  },
  {
   "cell_type": "code",
   "execution_count": 63,
   "metadata": {},
   "outputs": [
    {
     "name": "stdout",
     "output_type": "stream",
     "text": [
      "0.16206199237569452\n",
      "0.1658983586611381\n"
     ]
    }
   ],
   "source": [
    "print(grid_Ridge.score(X_reg_train, y_reg_train))\n",
    "print(grid_Ridge.score(X_reg_test, y_reg_test))"
   ]
  },
  {
   "cell_type": "markdown",
   "metadata": {},
   "source": [
    "Based on the score, I will use gradiant boost regressor to predict the revenue since it has highest tran score and test score on the dataset"
   ]
  },
  {
   "cell_type": "markdown",
   "metadata": {},
   "source": [
    "## 3. AGGREGATING RESULT"
   ]
  },
  {
   "cell_type": "markdown",
   "metadata": {},
   "source": [
    "In this part, I will present the whole process to predict totals_transactionRevenue if a data set with the fearure values and the totals_transactionRevenue is given. I will follow these steps to get the predicted totals_transactionRevenue:"
   ]
  },
  {
   "cell_type": "markdown",
   "metadata": {},
   "source": [
    "I will use the whole dataset as a new data"
   ]
  },
  {
   "cell_type": "code",
   "execution_count": 64,
   "metadata": {},
   "outputs": [
    {
     "name": "stderr",
     "output_type": "stream",
     "text": [
      "c:\\program files\\python\\python36\\lib\\site-packages\\ipykernel_launcher.py:2: SettingWithCopyWarning: \n",
      "A value is trying to be set on a copy of a slice from a DataFrame.\n",
      "Try using .loc[row_indexer,col_indexer] = value instead\n",
      "\n",
      "See the caveats in the documentation: http://pandas.pydata.org/pandas-docs/stable/indexing.html#indexing-view-versus-copy\n",
      "  \n"
     ]
    }
   ],
   "source": [
    "data = X\n",
    "data['Revenue'] = df['totals_transactionRevenue']"
   ]
  },
  {
   "cell_type": "markdown",
   "metadata": {},
   "source": [
    "We will use the Random Forrest model to predict if each instance in the data has revenue or not"
   ]
  },
  {
   "cell_type": "code",
   "execution_count": 65,
   "metadata": {},
   "outputs": [
    {
     "name": "stderr",
     "output_type": "stream",
     "text": [
      "c:\\program files\\python\\python36\\lib\\site-packages\\ipykernel_launcher.py:1: SettingWithCopyWarning: \n",
      "A value is trying to be set on a copy of a slice from a DataFrame.\n",
      "Try using .loc[row_indexer,col_indexer] = value instead\n",
      "\n",
      "See the caveats in the documentation: http://pandas.pydata.org/pandas-docs/stable/indexing.html#indexing-view-versus-copy\n",
      "  \"\"\"Entry point for launching an IPython kernel.\n"
     ]
    }
   ],
   "source": [
    "data['Predicted_Revenue_check'] = forest.predict(scaler1.transform(data.iloc[:,:40])) #scale original X with MinMaxScaler and predict Revenue_check"
   ]
  },
  {
   "cell_type": "markdown",
   "metadata": {},
   "source": [
    "Based on the result of Predicted_Revenue_check, we can split the data into 2 parts and predict the Revenue:"
   ]
  },
  {
   "cell_type": "code",
   "execution_count": 66,
   "metadata": {},
   "outputs": [
    {
     "data": {
      "text/plain": [
       "(20000, 42)"
      ]
     },
     "execution_count": 66,
     "metadata": {},
     "output_type": "execute_result"
    }
   ],
   "source": [
    "data.shape"
   ]
  },
  {
   "cell_type": "code",
   "execution_count": 67,
   "metadata": {},
   "outputs": [
    {
     "data": {
      "text/html": [
       "<div>\n",
       "<style scoped>\n",
       "    .dataframe tbody tr th:only-of-type {\n",
       "        vertical-align: middle;\n",
       "    }\n",
       "\n",
       "    .dataframe tbody tr th {\n",
       "        vertical-align: top;\n",
       "    }\n",
       "\n",
       "    .dataframe thead th {\n",
       "        text-align: right;\n",
       "    }\n",
       "</style>\n",
       "<table border=\"1\" class=\"dataframe\">\n",
       "  <thead>\n",
       "    <tr style=\"text-align: right;\">\n",
       "      <th></th>\n",
       "      <th>visitNumber</th>\n",
       "      <th>totals_bounces</th>\n",
       "      <th>totals_hits</th>\n",
       "      <th>totals_newVisits</th>\n",
       "      <th>totals_pageviews</th>\n",
       "      <th>totals_sessionQualityDim</th>\n",
       "      <th>totals_timeOnSite</th>\n",
       "      <th>totals_transactions</th>\n",
       "      <th>totals_visits</th>\n",
       "      <th>value_APAC</th>\n",
       "      <th>...</th>\n",
       "      <th>channelGrouping_Direct</th>\n",
       "      <th>channelGrouping_Display</th>\n",
       "      <th>channelGrouping_Organic Search</th>\n",
       "      <th>channelGrouping_Paid Search</th>\n",
       "      <th>channelGrouping_Referral</th>\n",
       "      <th>channelGrouping_Social</th>\n",
       "      <th>isMobile_True</th>\n",
       "      <th>isMobile_False</th>\n",
       "      <th>Revenue</th>\n",
       "      <th>Predicted_Revenue_check</th>\n",
       "    </tr>\n",
       "  </thead>\n",
       "  <tbody>\n",
       "    <tr>\n",
       "      <th>0</th>\n",
       "      <td>1</td>\n",
       "      <td>1.0</td>\n",
       "      <td>1</td>\n",
       "      <td>1.0</td>\n",
       "      <td>1.0</td>\n",
       "      <td>1.0</td>\n",
       "      <td>0.0</td>\n",
       "      <td>0.0</td>\n",
       "      <td>1</td>\n",
       "      <td>0</td>\n",
       "      <td>...</td>\n",
       "      <td>0</td>\n",
       "      <td>0</td>\n",
       "      <td>1</td>\n",
       "      <td>0</td>\n",
       "      <td>0</td>\n",
       "      <td>0</td>\n",
       "      <td>0</td>\n",
       "      <td>1</td>\n",
       "      <td>0.0</td>\n",
       "      <td>0</td>\n",
       "    </tr>\n",
       "    <tr>\n",
       "      <th>1</th>\n",
       "      <td>6</td>\n",
       "      <td>0.0</td>\n",
       "      <td>2</td>\n",
       "      <td>0.0</td>\n",
       "      <td>2.0</td>\n",
       "      <td>2.0</td>\n",
       "      <td>28.0</td>\n",
       "      <td>0.0</td>\n",
       "      <td>1</td>\n",
       "      <td>0</td>\n",
       "      <td>...</td>\n",
       "      <td>0</td>\n",
       "      <td>0</td>\n",
       "      <td>0</td>\n",
       "      <td>0</td>\n",
       "      <td>1</td>\n",
       "      <td>0</td>\n",
       "      <td>0</td>\n",
       "      <td>1</td>\n",
       "      <td>0.0</td>\n",
       "      <td>0</td>\n",
       "    </tr>\n",
       "    <tr>\n",
       "      <th>2</th>\n",
       "      <td>1</td>\n",
       "      <td>0.0</td>\n",
       "      <td>2</td>\n",
       "      <td>1.0</td>\n",
       "      <td>2.0</td>\n",
       "      <td>1.0</td>\n",
       "      <td>38.0</td>\n",
       "      <td>0.0</td>\n",
       "      <td>1</td>\n",
       "      <td>0</td>\n",
       "      <td>...</td>\n",
       "      <td>1</td>\n",
       "      <td>0</td>\n",
       "      <td>0</td>\n",
       "      <td>0</td>\n",
       "      <td>0</td>\n",
       "      <td>0</td>\n",
       "      <td>1</td>\n",
       "      <td>0</td>\n",
       "      <td>0.0</td>\n",
       "      <td>0</td>\n",
       "    </tr>\n",
       "    <tr>\n",
       "      <th>3</th>\n",
       "      <td>1</td>\n",
       "      <td>0.0</td>\n",
       "      <td>2</td>\n",
       "      <td>1.0</td>\n",
       "      <td>2.0</td>\n",
       "      <td>1.0</td>\n",
       "      <td>1.0</td>\n",
       "      <td>0.0</td>\n",
       "      <td>1</td>\n",
       "      <td>0</td>\n",
       "      <td>...</td>\n",
       "      <td>0</td>\n",
       "      <td>0</td>\n",
       "      <td>1</td>\n",
       "      <td>0</td>\n",
       "      <td>0</td>\n",
       "      <td>0</td>\n",
       "      <td>0</td>\n",
       "      <td>1</td>\n",
       "      <td>0.0</td>\n",
       "      <td>0</td>\n",
       "    </tr>\n",
       "    <tr>\n",
       "      <th>4</th>\n",
       "      <td>1</td>\n",
       "      <td>0.0</td>\n",
       "      <td>2</td>\n",
       "      <td>1.0</td>\n",
       "      <td>2.0</td>\n",
       "      <td>1.0</td>\n",
       "      <td>52.0</td>\n",
       "      <td>0.0</td>\n",
       "      <td>1</td>\n",
       "      <td>0</td>\n",
       "      <td>...</td>\n",
       "      <td>0</td>\n",
       "      <td>0</td>\n",
       "      <td>1</td>\n",
       "      <td>0</td>\n",
       "      <td>0</td>\n",
       "      <td>0</td>\n",
       "      <td>0</td>\n",
       "      <td>1</td>\n",
       "      <td>0.0</td>\n",
       "      <td>0</td>\n",
       "    </tr>\n",
       "  </tbody>\n",
       "</table>\n",
       "<p>5 rows × 42 columns</p>\n",
       "</div>"
      ],
      "text/plain": [
       "   visitNumber  totals_bounces  totals_hits  totals_newVisits  \\\n",
       "0            1             1.0            1               1.0   \n",
       "1            6             0.0            2               0.0   \n",
       "2            1             0.0            2               1.0   \n",
       "3            1             0.0            2               1.0   \n",
       "4            1             0.0            2               1.0   \n",
       "\n",
       "   totals_pageviews  totals_sessionQualityDim  totals_timeOnSite  \\\n",
       "0               1.0                       1.0                0.0   \n",
       "1               2.0                       2.0               28.0   \n",
       "2               2.0                       1.0               38.0   \n",
       "3               2.0                       1.0                1.0   \n",
       "4               2.0                       1.0               52.0   \n",
       "\n",
       "   totals_transactions  totals_visits  value_APAC           ...             \\\n",
       "0                  0.0              1           0           ...              \n",
       "1                  0.0              1           0           ...              \n",
       "2                  0.0              1           0           ...              \n",
       "3                  0.0              1           0           ...              \n",
       "4                  0.0              1           0           ...              \n",
       "\n",
       "   channelGrouping_Direct  channelGrouping_Display  \\\n",
       "0                       0                        0   \n",
       "1                       0                        0   \n",
       "2                       1                        0   \n",
       "3                       0                        0   \n",
       "4                       0                        0   \n",
       "\n",
       "   channelGrouping_Organic Search  channelGrouping_Paid Search  \\\n",
       "0                               1                            0   \n",
       "1                               0                            0   \n",
       "2                               0                            0   \n",
       "3                               1                            0   \n",
       "4                               1                            0   \n",
       "\n",
       "   channelGrouping_Referral  channelGrouping_Social  isMobile_True  \\\n",
       "0                         0                       0              0   \n",
       "1                         1                       0              0   \n",
       "2                         0                       0              1   \n",
       "3                         0                       0              0   \n",
       "4                         0                       0              0   \n",
       "\n",
       "   isMobile_False  Revenue  Predicted_Revenue_check  \n",
       "0               1      0.0                        0  \n",
       "1               1      0.0                        0  \n",
       "2               0      0.0                        0  \n",
       "3               1      0.0                        0  \n",
       "4               1      0.0                        0  \n",
       "\n",
       "[5 rows x 42 columns]"
      ]
     },
     "execution_count": 67,
     "metadata": {},
     "output_type": "execute_result"
    }
   ],
   "source": [
    "data.head()"
   ]
  },
  {
   "cell_type": "code",
   "execution_count": 68,
   "metadata": {},
   "outputs": [],
   "source": [
    "data_rev0 = data[data['Predicted_Revenue_check']==0]"
   ]
  },
  {
   "cell_type": "code",
   "execution_count": 69,
   "metadata": {},
   "outputs": [],
   "source": [
    "data_rev1 = data[data['Predicted_Revenue_check']==1]"
   ]
  },
  {
   "cell_type": "markdown",
   "metadata": {},
   "source": [
    "data_rev0 contains isntances with Predicted_Revenue_check = 0 and data_rev1 contains isntances with Predicted_Revenue_check = 1"
   ]
  },
  {
   "cell_type": "code",
   "execution_count": 70,
   "metadata": {},
   "outputs": [
    {
     "data": {
      "text/plain": [
       "(19808, 42)"
      ]
     },
     "execution_count": 70,
     "metadata": {},
     "output_type": "execute_result"
    }
   ],
   "source": [
    "data_rev0.shape"
   ]
  },
  {
   "cell_type": "code",
   "execution_count": 71,
   "metadata": {},
   "outputs": [
    {
     "data": {
      "text/plain": [
       "(192, 42)"
      ]
     },
     "execution_count": 71,
     "metadata": {},
     "output_type": "execute_result"
    }
   ],
   "source": [
    "data_rev1.shape"
   ]
  },
  {
   "cell_type": "markdown",
   "metadata": {},
   "source": [
    "Predicted_Revenue for data_rev0 is set to 0"
   ]
  },
  {
   "cell_type": "code",
   "execution_count": 72,
   "metadata": {},
   "outputs": [
    {
     "name": "stderr",
     "output_type": "stream",
     "text": [
      "c:\\program files\\python\\python36\\lib\\site-packages\\ipykernel_launcher.py:1: SettingWithCopyWarning: \n",
      "A value is trying to be set on a copy of a slice from a DataFrame.\n",
      "Try using .loc[row_indexer,col_indexer] = value instead\n",
      "\n",
      "See the caveats in the documentation: http://pandas.pydata.org/pandas-docs/stable/indexing.html#indexing-view-versus-copy\n",
      "  \"\"\"Entry point for launching an IPython kernel.\n"
     ]
    }
   ],
   "source": [
    "data_rev0['Predicted_Revenue'] = 0"
   ]
  },
  {
   "cell_type": "code",
   "execution_count": 73,
   "metadata": {},
   "outputs": [
    {
     "data": {
      "text/html": [
       "<div>\n",
       "<style scoped>\n",
       "    .dataframe tbody tr th:only-of-type {\n",
       "        vertical-align: middle;\n",
       "    }\n",
       "\n",
       "    .dataframe tbody tr th {\n",
       "        vertical-align: top;\n",
       "    }\n",
       "\n",
       "    .dataframe thead th {\n",
       "        text-align: right;\n",
       "    }\n",
       "</style>\n",
       "<table border=\"1\" class=\"dataframe\">\n",
       "  <thead>\n",
       "    <tr style=\"text-align: right;\">\n",
       "      <th></th>\n",
       "      <th>visitNumber</th>\n",
       "      <th>totals_bounces</th>\n",
       "      <th>totals_hits</th>\n",
       "      <th>totals_newVisits</th>\n",
       "      <th>totals_pageviews</th>\n",
       "      <th>totals_sessionQualityDim</th>\n",
       "      <th>totals_timeOnSite</th>\n",
       "      <th>totals_transactions</th>\n",
       "      <th>totals_visits</th>\n",
       "      <th>value_APAC</th>\n",
       "      <th>...</th>\n",
       "      <th>channelGrouping_Display</th>\n",
       "      <th>channelGrouping_Organic Search</th>\n",
       "      <th>channelGrouping_Paid Search</th>\n",
       "      <th>channelGrouping_Referral</th>\n",
       "      <th>channelGrouping_Social</th>\n",
       "      <th>isMobile_True</th>\n",
       "      <th>isMobile_False</th>\n",
       "      <th>Revenue</th>\n",
       "      <th>Predicted_Revenue_check</th>\n",
       "      <th>Predicted_Revenue</th>\n",
       "    </tr>\n",
       "  </thead>\n",
       "  <tbody>\n",
       "    <tr>\n",
       "      <th>0</th>\n",
       "      <td>1</td>\n",
       "      <td>1.0</td>\n",
       "      <td>1</td>\n",
       "      <td>1.0</td>\n",
       "      <td>1.0</td>\n",
       "      <td>1.0</td>\n",
       "      <td>0.0</td>\n",
       "      <td>0.0</td>\n",
       "      <td>1</td>\n",
       "      <td>0</td>\n",
       "      <td>...</td>\n",
       "      <td>0</td>\n",
       "      <td>1</td>\n",
       "      <td>0</td>\n",
       "      <td>0</td>\n",
       "      <td>0</td>\n",
       "      <td>0</td>\n",
       "      <td>1</td>\n",
       "      <td>0.0</td>\n",
       "      <td>0</td>\n",
       "      <td>0</td>\n",
       "    </tr>\n",
       "    <tr>\n",
       "      <th>1</th>\n",
       "      <td>6</td>\n",
       "      <td>0.0</td>\n",
       "      <td>2</td>\n",
       "      <td>0.0</td>\n",
       "      <td>2.0</td>\n",
       "      <td>2.0</td>\n",
       "      <td>28.0</td>\n",
       "      <td>0.0</td>\n",
       "      <td>1</td>\n",
       "      <td>0</td>\n",
       "      <td>...</td>\n",
       "      <td>0</td>\n",
       "      <td>0</td>\n",
       "      <td>0</td>\n",
       "      <td>1</td>\n",
       "      <td>0</td>\n",
       "      <td>0</td>\n",
       "      <td>1</td>\n",
       "      <td>0.0</td>\n",
       "      <td>0</td>\n",
       "      <td>0</td>\n",
       "    </tr>\n",
       "    <tr>\n",
       "      <th>2</th>\n",
       "      <td>1</td>\n",
       "      <td>0.0</td>\n",
       "      <td>2</td>\n",
       "      <td>1.0</td>\n",
       "      <td>2.0</td>\n",
       "      <td>1.0</td>\n",
       "      <td>38.0</td>\n",
       "      <td>0.0</td>\n",
       "      <td>1</td>\n",
       "      <td>0</td>\n",
       "      <td>...</td>\n",
       "      <td>0</td>\n",
       "      <td>0</td>\n",
       "      <td>0</td>\n",
       "      <td>0</td>\n",
       "      <td>0</td>\n",
       "      <td>1</td>\n",
       "      <td>0</td>\n",
       "      <td>0.0</td>\n",
       "      <td>0</td>\n",
       "      <td>0</td>\n",
       "    </tr>\n",
       "    <tr>\n",
       "      <th>3</th>\n",
       "      <td>1</td>\n",
       "      <td>0.0</td>\n",
       "      <td>2</td>\n",
       "      <td>1.0</td>\n",
       "      <td>2.0</td>\n",
       "      <td>1.0</td>\n",
       "      <td>1.0</td>\n",
       "      <td>0.0</td>\n",
       "      <td>1</td>\n",
       "      <td>0</td>\n",
       "      <td>...</td>\n",
       "      <td>0</td>\n",
       "      <td>1</td>\n",
       "      <td>0</td>\n",
       "      <td>0</td>\n",
       "      <td>0</td>\n",
       "      <td>0</td>\n",
       "      <td>1</td>\n",
       "      <td>0.0</td>\n",
       "      <td>0</td>\n",
       "      <td>0</td>\n",
       "    </tr>\n",
       "    <tr>\n",
       "      <th>4</th>\n",
       "      <td>1</td>\n",
       "      <td>0.0</td>\n",
       "      <td>2</td>\n",
       "      <td>1.0</td>\n",
       "      <td>2.0</td>\n",
       "      <td>1.0</td>\n",
       "      <td>52.0</td>\n",
       "      <td>0.0</td>\n",
       "      <td>1</td>\n",
       "      <td>0</td>\n",
       "      <td>...</td>\n",
       "      <td>0</td>\n",
       "      <td>1</td>\n",
       "      <td>0</td>\n",
       "      <td>0</td>\n",
       "      <td>0</td>\n",
       "      <td>0</td>\n",
       "      <td>1</td>\n",
       "      <td>0.0</td>\n",
       "      <td>0</td>\n",
       "      <td>0</td>\n",
       "    </tr>\n",
       "  </tbody>\n",
       "</table>\n",
       "<p>5 rows × 43 columns</p>\n",
       "</div>"
      ],
      "text/plain": [
       "   visitNumber  totals_bounces  totals_hits  totals_newVisits  \\\n",
       "0            1             1.0            1               1.0   \n",
       "1            6             0.0            2               0.0   \n",
       "2            1             0.0            2               1.0   \n",
       "3            1             0.0            2               1.0   \n",
       "4            1             0.0            2               1.0   \n",
       "\n",
       "   totals_pageviews  totals_sessionQualityDim  totals_timeOnSite  \\\n",
       "0               1.0                       1.0                0.0   \n",
       "1               2.0                       2.0               28.0   \n",
       "2               2.0                       1.0               38.0   \n",
       "3               2.0                       1.0                1.0   \n",
       "4               2.0                       1.0               52.0   \n",
       "\n",
       "   totals_transactions  totals_visits  value_APAC        ...          \\\n",
       "0                  0.0              1           0        ...           \n",
       "1                  0.0              1           0        ...           \n",
       "2                  0.0              1           0        ...           \n",
       "3                  0.0              1           0        ...           \n",
       "4                  0.0              1           0        ...           \n",
       "\n",
       "   channelGrouping_Display  channelGrouping_Organic Search  \\\n",
       "0                        0                               1   \n",
       "1                        0                               0   \n",
       "2                        0                               0   \n",
       "3                        0                               1   \n",
       "4                        0                               1   \n",
       "\n",
       "   channelGrouping_Paid Search  channelGrouping_Referral  \\\n",
       "0                            0                         0   \n",
       "1                            0                         1   \n",
       "2                            0                         0   \n",
       "3                            0                         0   \n",
       "4                            0                         0   \n",
       "\n",
       "   channelGrouping_Social  isMobile_True  isMobile_False  Revenue  \\\n",
       "0                       0              0               1      0.0   \n",
       "1                       0              0               1      0.0   \n",
       "2                       0              1               0      0.0   \n",
       "3                       0              0               1      0.0   \n",
       "4                       0              0               1      0.0   \n",
       "\n",
       "   Predicted_Revenue_check  Predicted_Revenue  \n",
       "0                        0                  0  \n",
       "1                        0                  0  \n",
       "2                        0                  0  \n",
       "3                        0                  0  \n",
       "4                        0                  0  \n",
       "\n",
       "[5 rows x 43 columns]"
      ]
     },
     "execution_count": 73,
     "metadata": {},
     "output_type": "execute_result"
    }
   ],
   "source": [
    "data_rev0.head()"
   ]
  },
  {
   "cell_type": "markdown",
   "metadata": {},
   "source": [
    "Gradient Boost model will be used to fill Predicted_Revenue for data_rev1"
   ]
  },
  {
   "cell_type": "code",
   "execution_count": 74,
   "metadata": {},
   "outputs": [
    {
     "name": "stderr",
     "output_type": "stream",
     "text": [
      "c:\\program files\\python\\python36\\lib\\site-packages\\ipykernel_launcher.py:1: SettingWithCopyWarning: \n",
      "A value is trying to be set on a copy of a slice from a DataFrame.\n",
      "Try using .loc[row_indexer,col_indexer] = value instead\n",
      "\n",
      "See the caveats in the documentation: http://pandas.pydata.org/pandas-docs/stable/indexing.html#indexing-view-versus-copy\n",
      "  \"\"\"Entry point for launching an IPython kernel.\n"
     ]
    }
   ],
   "source": [
    "data_rev1['Predicted_Revenue'] = gbrt.predict(scaler2.transform(data_rev1.iloc[:,:40]))#scale original X with StandarScaler and predict Revenue"
   ]
  },
  {
   "cell_type": "code",
   "execution_count": 75,
   "metadata": {},
   "outputs": [
    {
     "data": {
      "text/html": [
       "<div>\n",
       "<style scoped>\n",
       "    .dataframe tbody tr th:only-of-type {\n",
       "        vertical-align: middle;\n",
       "    }\n",
       "\n",
       "    .dataframe tbody tr th {\n",
       "        vertical-align: top;\n",
       "    }\n",
       "\n",
       "    .dataframe thead th {\n",
       "        text-align: right;\n",
       "    }\n",
       "</style>\n",
       "<table border=\"1\" class=\"dataframe\">\n",
       "  <thead>\n",
       "    <tr style=\"text-align: right;\">\n",
       "      <th></th>\n",
       "      <th>visitNumber</th>\n",
       "      <th>totals_bounces</th>\n",
       "      <th>totals_hits</th>\n",
       "      <th>totals_newVisits</th>\n",
       "      <th>totals_pageviews</th>\n",
       "      <th>totals_sessionQualityDim</th>\n",
       "      <th>totals_timeOnSite</th>\n",
       "      <th>totals_transactions</th>\n",
       "      <th>totals_visits</th>\n",
       "      <th>value_APAC</th>\n",
       "      <th>...</th>\n",
       "      <th>channelGrouping_Display</th>\n",
       "      <th>channelGrouping_Organic Search</th>\n",
       "      <th>channelGrouping_Paid Search</th>\n",
       "      <th>channelGrouping_Referral</th>\n",
       "      <th>channelGrouping_Social</th>\n",
       "      <th>isMobile_True</th>\n",
       "      <th>isMobile_False</th>\n",
       "      <th>Revenue</th>\n",
       "      <th>Predicted_Revenue_check</th>\n",
       "      <th>Predicted_Revenue</th>\n",
       "    </tr>\n",
       "  </thead>\n",
       "  <tbody>\n",
       "    <tr>\n",
       "      <th>433</th>\n",
       "      <td>4</td>\n",
       "      <td>0.0</td>\n",
       "      <td>9</td>\n",
       "      <td>0.0</td>\n",
       "      <td>9.0</td>\n",
       "      <td>13.0</td>\n",
       "      <td>261.0</td>\n",
       "      <td>1.0</td>\n",
       "      <td>1</td>\n",
       "      <td>0</td>\n",
       "      <td>...</td>\n",
       "      <td>0</td>\n",
       "      <td>1</td>\n",
       "      <td>0</td>\n",
       "      <td>0</td>\n",
       "      <td>0</td>\n",
       "      <td>0</td>\n",
       "      <td>1</td>\n",
       "      <td>15190000.0</td>\n",
       "      <td>1</td>\n",
       "      <td>3.199917e+07</td>\n",
       "    </tr>\n",
       "    <tr>\n",
       "      <th>550</th>\n",
       "      <td>11</td>\n",
       "      <td>0.0</td>\n",
       "      <td>15</td>\n",
       "      <td>0.0</td>\n",
       "      <td>12.0</td>\n",
       "      <td>38.0</td>\n",
       "      <td>285.0</td>\n",
       "      <td>1.0</td>\n",
       "      <td>1</td>\n",
       "      <td>0</td>\n",
       "      <td>...</td>\n",
       "      <td>0</td>\n",
       "      <td>0</td>\n",
       "      <td>0</td>\n",
       "      <td>1</td>\n",
       "      <td>0</td>\n",
       "      <td>0</td>\n",
       "      <td>1</td>\n",
       "      <td>8000000.0</td>\n",
       "      <td>1</td>\n",
       "      <td>1.008405e+07</td>\n",
       "    </tr>\n",
       "    <tr>\n",
       "      <th>555</th>\n",
       "      <td>6</td>\n",
       "      <td>0.0</td>\n",
       "      <td>15</td>\n",
       "      <td>0.0</td>\n",
       "      <td>15.0</td>\n",
       "      <td>42.0</td>\n",
       "      <td>1044.0</td>\n",
       "      <td>1.0</td>\n",
       "      <td>1</td>\n",
       "      <td>0</td>\n",
       "      <td>...</td>\n",
       "      <td>0</td>\n",
       "      <td>1</td>\n",
       "      <td>0</td>\n",
       "      <td>0</td>\n",
       "      <td>0</td>\n",
       "      <td>1</td>\n",
       "      <td>0</td>\n",
       "      <td>57300000.0</td>\n",
       "      <td>1</td>\n",
       "      <td>-1.225388e+07</td>\n",
       "    </tr>\n",
       "    <tr>\n",
       "      <th>597</th>\n",
       "      <td>17</td>\n",
       "      <td>0.0</td>\n",
       "      <td>18</td>\n",
       "      <td>0.0</td>\n",
       "      <td>16.0</td>\n",
       "      <td>77.0</td>\n",
       "      <td>514.0</td>\n",
       "      <td>1.0</td>\n",
       "      <td>1</td>\n",
       "      <td>0</td>\n",
       "      <td>...</td>\n",
       "      <td>0</td>\n",
       "      <td>0</td>\n",
       "      <td>0</td>\n",
       "      <td>1</td>\n",
       "      <td>0</td>\n",
       "      <td>0</td>\n",
       "      <td>1</td>\n",
       "      <td>18230000.0</td>\n",
       "      <td>1</td>\n",
       "      <td>2.212215e+07</td>\n",
       "    </tr>\n",
       "    <tr>\n",
       "      <th>619</th>\n",
       "      <td>1</td>\n",
       "      <td>0.0</td>\n",
       "      <td>21</td>\n",
       "      <td>1.0</td>\n",
       "      <td>20.0</td>\n",
       "      <td>62.0</td>\n",
       "      <td>487.0</td>\n",
       "      <td>1.0</td>\n",
       "      <td>1</td>\n",
       "      <td>0</td>\n",
       "      <td>...</td>\n",
       "      <td>0</td>\n",
       "      <td>0</td>\n",
       "      <td>0</td>\n",
       "      <td>1</td>\n",
       "      <td>0</td>\n",
       "      <td>0</td>\n",
       "      <td>1</td>\n",
       "      <td>12310000.0</td>\n",
       "      <td>1</td>\n",
       "      <td>1.103631e+07</td>\n",
       "    </tr>\n",
       "  </tbody>\n",
       "</table>\n",
       "<p>5 rows × 43 columns</p>\n",
       "</div>"
      ],
      "text/plain": [
       "     visitNumber  totals_bounces  totals_hits  totals_newVisits  \\\n",
       "433            4             0.0            9               0.0   \n",
       "550           11             0.0           15               0.0   \n",
       "555            6             0.0           15               0.0   \n",
       "597           17             0.0           18               0.0   \n",
       "619            1             0.0           21               1.0   \n",
       "\n",
       "     totals_pageviews  totals_sessionQualityDim  totals_timeOnSite  \\\n",
       "433               9.0                      13.0              261.0   \n",
       "550              12.0                      38.0              285.0   \n",
       "555              15.0                      42.0             1044.0   \n",
       "597              16.0                      77.0              514.0   \n",
       "619              20.0                      62.0              487.0   \n",
       "\n",
       "     totals_transactions  totals_visits  value_APAC        ...          \\\n",
       "433                  1.0              1           0        ...           \n",
       "550                  1.0              1           0        ...           \n",
       "555                  1.0              1           0        ...           \n",
       "597                  1.0              1           0        ...           \n",
       "619                  1.0              1           0        ...           \n",
       "\n",
       "     channelGrouping_Display  channelGrouping_Organic Search  \\\n",
       "433                        0                               1   \n",
       "550                        0                               0   \n",
       "555                        0                               1   \n",
       "597                        0                               0   \n",
       "619                        0                               0   \n",
       "\n",
       "     channelGrouping_Paid Search  channelGrouping_Referral  \\\n",
       "433                            0                         0   \n",
       "550                            0                         1   \n",
       "555                            0                         0   \n",
       "597                            0                         1   \n",
       "619                            0                         1   \n",
       "\n",
       "     channelGrouping_Social  isMobile_True  isMobile_False     Revenue  \\\n",
       "433                       0              0               1  15190000.0   \n",
       "550                       0              0               1   8000000.0   \n",
       "555                       0              1               0  57300000.0   \n",
       "597                       0              0               1  18230000.0   \n",
       "619                       0              0               1  12310000.0   \n",
       "\n",
       "     Predicted_Revenue_check  Predicted_Revenue  \n",
       "433                        1       3.199917e+07  \n",
       "550                        1       1.008405e+07  \n",
       "555                        1      -1.225388e+07  \n",
       "597                        1       2.212215e+07  \n",
       "619                        1       1.103631e+07  \n",
       "\n",
       "[5 rows x 43 columns]"
      ]
     },
     "execution_count": 75,
     "metadata": {},
     "output_type": "execute_result"
    }
   ],
   "source": [
    "data_rev1.head()"
   ]
  },
  {
   "cell_type": "markdown",
   "metadata": {},
   "source": [
    "Last step is to store the result in Result table:"
   ]
  },
  {
   "cell_type": "code",
   "execution_count": 76,
   "metadata": {},
   "outputs": [],
   "source": [
    "Result = pd.concat([data_rev1,data_rev0])"
   ]
  },
  {
   "cell_type": "code",
   "execution_count": 77,
   "metadata": {},
   "outputs": [
    {
     "data": {
      "text/plain": [
       "(20000, 43)"
      ]
     },
     "execution_count": 77,
     "metadata": {},
     "output_type": "execute_result"
    }
   ],
   "source": [
    "Result.shape"
   ]
  },
  {
   "cell_type": "code",
   "execution_count": 78,
   "metadata": {},
   "outputs": [
    {
     "data": {
      "text/html": [
       "<div>\n",
       "<style scoped>\n",
       "    .dataframe tbody tr th:only-of-type {\n",
       "        vertical-align: middle;\n",
       "    }\n",
       "\n",
       "    .dataframe tbody tr th {\n",
       "        vertical-align: top;\n",
       "    }\n",
       "\n",
       "    .dataframe thead th {\n",
       "        text-align: right;\n",
       "    }\n",
       "</style>\n",
       "<table border=\"1\" class=\"dataframe\">\n",
       "  <thead>\n",
       "    <tr style=\"text-align: right;\">\n",
       "      <th></th>\n",
       "      <th>visitNumber</th>\n",
       "      <th>totals_bounces</th>\n",
       "      <th>totals_hits</th>\n",
       "      <th>totals_newVisits</th>\n",
       "      <th>totals_pageviews</th>\n",
       "      <th>totals_sessionQualityDim</th>\n",
       "      <th>totals_timeOnSite</th>\n",
       "      <th>totals_transactions</th>\n",
       "      <th>totals_visits</th>\n",
       "      <th>value_APAC</th>\n",
       "      <th>...</th>\n",
       "      <th>channelGrouping_Display</th>\n",
       "      <th>channelGrouping_Organic Search</th>\n",
       "      <th>channelGrouping_Paid Search</th>\n",
       "      <th>channelGrouping_Referral</th>\n",
       "      <th>channelGrouping_Social</th>\n",
       "      <th>isMobile_True</th>\n",
       "      <th>isMobile_False</th>\n",
       "      <th>Revenue</th>\n",
       "      <th>Predicted_Revenue_check</th>\n",
       "      <th>Predicted_Revenue</th>\n",
       "    </tr>\n",
       "  </thead>\n",
       "  <tbody>\n",
       "    <tr>\n",
       "      <th>433</th>\n",
       "      <td>4</td>\n",
       "      <td>0.0</td>\n",
       "      <td>9</td>\n",
       "      <td>0.0</td>\n",
       "      <td>9.0</td>\n",
       "      <td>13.0</td>\n",
       "      <td>261.0</td>\n",
       "      <td>1.0</td>\n",
       "      <td>1</td>\n",
       "      <td>0</td>\n",
       "      <td>...</td>\n",
       "      <td>0</td>\n",
       "      <td>1</td>\n",
       "      <td>0</td>\n",
       "      <td>0</td>\n",
       "      <td>0</td>\n",
       "      <td>0</td>\n",
       "      <td>1</td>\n",
       "      <td>15190000.0</td>\n",
       "      <td>1</td>\n",
       "      <td>3.199917e+07</td>\n",
       "    </tr>\n",
       "    <tr>\n",
       "      <th>550</th>\n",
       "      <td>11</td>\n",
       "      <td>0.0</td>\n",
       "      <td>15</td>\n",
       "      <td>0.0</td>\n",
       "      <td>12.0</td>\n",
       "      <td>38.0</td>\n",
       "      <td>285.0</td>\n",
       "      <td>1.0</td>\n",
       "      <td>1</td>\n",
       "      <td>0</td>\n",
       "      <td>...</td>\n",
       "      <td>0</td>\n",
       "      <td>0</td>\n",
       "      <td>0</td>\n",
       "      <td>1</td>\n",
       "      <td>0</td>\n",
       "      <td>0</td>\n",
       "      <td>1</td>\n",
       "      <td>8000000.0</td>\n",
       "      <td>1</td>\n",
       "      <td>1.008405e+07</td>\n",
       "    </tr>\n",
       "    <tr>\n",
       "      <th>555</th>\n",
       "      <td>6</td>\n",
       "      <td>0.0</td>\n",
       "      <td>15</td>\n",
       "      <td>0.0</td>\n",
       "      <td>15.0</td>\n",
       "      <td>42.0</td>\n",
       "      <td>1044.0</td>\n",
       "      <td>1.0</td>\n",
       "      <td>1</td>\n",
       "      <td>0</td>\n",
       "      <td>...</td>\n",
       "      <td>0</td>\n",
       "      <td>1</td>\n",
       "      <td>0</td>\n",
       "      <td>0</td>\n",
       "      <td>0</td>\n",
       "      <td>1</td>\n",
       "      <td>0</td>\n",
       "      <td>57300000.0</td>\n",
       "      <td>1</td>\n",
       "      <td>-1.225388e+07</td>\n",
       "    </tr>\n",
       "    <tr>\n",
       "      <th>597</th>\n",
       "      <td>17</td>\n",
       "      <td>0.0</td>\n",
       "      <td>18</td>\n",
       "      <td>0.0</td>\n",
       "      <td>16.0</td>\n",
       "      <td>77.0</td>\n",
       "      <td>514.0</td>\n",
       "      <td>1.0</td>\n",
       "      <td>1</td>\n",
       "      <td>0</td>\n",
       "      <td>...</td>\n",
       "      <td>0</td>\n",
       "      <td>0</td>\n",
       "      <td>0</td>\n",
       "      <td>1</td>\n",
       "      <td>0</td>\n",
       "      <td>0</td>\n",
       "      <td>1</td>\n",
       "      <td>18230000.0</td>\n",
       "      <td>1</td>\n",
       "      <td>2.212215e+07</td>\n",
       "    </tr>\n",
       "    <tr>\n",
       "      <th>619</th>\n",
       "      <td>1</td>\n",
       "      <td>0.0</td>\n",
       "      <td>21</td>\n",
       "      <td>1.0</td>\n",
       "      <td>20.0</td>\n",
       "      <td>62.0</td>\n",
       "      <td>487.0</td>\n",
       "      <td>1.0</td>\n",
       "      <td>1</td>\n",
       "      <td>0</td>\n",
       "      <td>...</td>\n",
       "      <td>0</td>\n",
       "      <td>0</td>\n",
       "      <td>0</td>\n",
       "      <td>1</td>\n",
       "      <td>0</td>\n",
       "      <td>0</td>\n",
       "      <td>1</td>\n",
       "      <td>12310000.0</td>\n",
       "      <td>1</td>\n",
       "      <td>1.103631e+07</td>\n",
       "    </tr>\n",
       "  </tbody>\n",
       "</table>\n",
       "<p>5 rows × 43 columns</p>\n",
       "</div>"
      ],
      "text/plain": [
       "     visitNumber  totals_bounces  totals_hits  totals_newVisits  \\\n",
       "433            4             0.0            9               0.0   \n",
       "550           11             0.0           15               0.0   \n",
       "555            6             0.0           15               0.0   \n",
       "597           17             0.0           18               0.0   \n",
       "619            1             0.0           21               1.0   \n",
       "\n",
       "     totals_pageviews  totals_sessionQualityDim  totals_timeOnSite  \\\n",
       "433               9.0                      13.0              261.0   \n",
       "550              12.0                      38.0              285.0   \n",
       "555              15.0                      42.0             1044.0   \n",
       "597              16.0                      77.0              514.0   \n",
       "619              20.0                      62.0              487.0   \n",
       "\n",
       "     totals_transactions  totals_visits  value_APAC        ...          \\\n",
       "433                  1.0              1           0        ...           \n",
       "550                  1.0              1           0        ...           \n",
       "555                  1.0              1           0        ...           \n",
       "597                  1.0              1           0        ...           \n",
       "619                  1.0              1           0        ...           \n",
       "\n",
       "     channelGrouping_Display  channelGrouping_Organic Search  \\\n",
       "433                        0                               1   \n",
       "550                        0                               0   \n",
       "555                        0                               1   \n",
       "597                        0                               0   \n",
       "619                        0                               0   \n",
       "\n",
       "     channelGrouping_Paid Search  channelGrouping_Referral  \\\n",
       "433                            0                         0   \n",
       "550                            0                         1   \n",
       "555                            0                         0   \n",
       "597                            0                         1   \n",
       "619                            0                         1   \n",
       "\n",
       "     channelGrouping_Social  isMobile_True  isMobile_False     Revenue  \\\n",
       "433                       0              0               1  15190000.0   \n",
       "550                       0              0               1   8000000.0   \n",
       "555                       0              1               0  57300000.0   \n",
       "597                       0              0               1  18230000.0   \n",
       "619                       0              0               1  12310000.0   \n",
       "\n",
       "     Predicted_Revenue_check  Predicted_Revenue  \n",
       "433                        1       3.199917e+07  \n",
       "550                        1       1.008405e+07  \n",
       "555                        1      -1.225388e+07  \n",
       "597                        1       2.212215e+07  \n",
       "619                        1       1.103631e+07  \n",
       "\n",
       "[5 rows x 43 columns]"
      ]
     },
     "execution_count": 78,
     "metadata": {},
     "output_type": "execute_result"
    }
   ],
   "source": [
    "Result.head()"
   ]
  },
  {
   "cell_type": "code",
   "execution_count": 79,
   "metadata": {},
   "outputs": [],
   "source": [
    "from sklearn.metrics import r2_score"
   ]
  },
  {
   "cell_type": "code",
   "execution_count": 80,
   "metadata": {},
   "outputs": [
    {
     "name": "stdout",
     "output_type": "stream",
     "text": [
      "Model score: 0.8225\n"
     ]
    }
   ],
   "source": [
    "print('Model score: {:.4f}'.format(r2_score(Result['Revenue'],Result['Predicted_Revenue'])))"
   ]
  },
  {
   "cell_type": "markdown",
   "metadata": {},
   "source": [
    "The R-squared obtained is significantly better compared to the result from the Term Projec (the highest score was 0.26)"
   ]
  }
 ],
 "metadata": {
  "kernelspec": {
   "display_name": "Python 3",
   "language": "python",
   "name": "python3"
  },
  "language_info": {
   "codemirror_mode": {
    "name": "ipython",
    "version": 3
   },
   "file_extension": ".py",
   "mimetype": "text/x-python",
   "name": "python",
   "nbconvert_exporter": "python",
   "pygments_lexer": "ipython3",
   "version": "3.6.6"
  }
 },
 "nbformat": 4,
 "nbformat_minor": 2
}
